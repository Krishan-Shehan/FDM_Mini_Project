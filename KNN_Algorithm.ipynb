{
  "nbformat": 4,
  "nbformat_minor": 0,
  "metadata": {
    "colab": {
      "name": "KNN_Algorithm.ipynb",
      "provenance": [],
      "collapsed_sections": []
    },
    "kernelspec": {
      "name": "python3",
      "display_name": "Python 3"
    },
    "language_info": {
      "name": "python"
    }
  },
  "cells": [
    {
      "cell_type": "code",
      "metadata": {
        "id": "gBS00J2jSGaA"
      },
      "source": [
        "import numpy as np\n",
        "import sklearn\n",
        "import pandas as pd\n",
        "from scipy.optimize import minimize\n",
        "import matplotlib.pyplot as plt\n",
        "%matplotlib inline"
      ],
      "execution_count": 114,
      "outputs": []
    },
    {
      "cell_type": "code",
      "metadata": {
        "id": "B78Oksn0SQPE"
      },
      "source": [
        "df = pd.read_csv('Preprocessed_data.csv')"
      ],
      "execution_count": 115,
      "outputs": []
    },
    {
      "cell_type": "code",
      "metadata": {
        "id": "46cR4JbESSUc"
      },
      "source": [
        "from sklearn import preprocessing\n",
        "from sklearn.model_selection import train_test_split\n",
        "from sklearn.neighbors import KNeighborsClassifier\n",
        "import seaborn as sns"
      ],
      "execution_count": 116,
      "outputs": []
    },
    {
      "cell_type": "code",
      "metadata": {
        "colab": {
          "base_uri": "https://localhost:8080/"
        },
        "id": "i8i1lyfuSVYD",
        "outputId": "a0e03477-bc72-4ab1-802e-9a22eca7b73a"
      },
      "source": [
        "df['type'].unique()"
      ],
      "execution_count": 117,
      "outputs": [
        {
          "output_type": "execute_result",
          "data": {
            "text/plain": [
              "array([ 0,  6,  4, 11, 10,  2,  5,  3,  9,  7,  8,  1])"
            ]
          },
          "metadata": {},
          "execution_count": 117
        }
      ]
    },
    {
      "cell_type": "code",
      "metadata": {
        "id": "_QsjPN-Im8-R"
      },
      "source": [
        "df.drop(df.index[df['type'] == 10], inplace = True)"
      ],
      "execution_count": 118,
      "outputs": []
    },
    {
      "cell_type": "code",
      "metadata": {
        "id": "ku8p9iB1njO9"
      },
      "source": [
        "df.drop(df.index[df['type'] == 2], inplace = True)"
      ],
      "execution_count": 119,
      "outputs": []
    },
    {
      "cell_type": "code",
      "metadata": {
        "id": "5xOfsDRFnqAf"
      },
      "source": [
        "df.drop(df.index[df['type'] == 9], inplace = True)"
      ],
      "execution_count": 120,
      "outputs": []
    },
    {
      "cell_type": "code",
      "metadata": {
        "id": "8Bs4BmKCnt7r"
      },
      "source": [
        "df.drop(df.index[df['type'] == 3], inplace = True)"
      ],
      "execution_count": 121,
      "outputs": []
    },
    {
      "cell_type": "code",
      "metadata": {
        "id": "UjWZD-winwLX"
      },
      "source": [
        "df.drop(df.index[df['type'] == 5], inplace = True)"
      ],
      "execution_count": 122,
      "outputs": []
    },
    {
      "cell_type": "code",
      "metadata": {
        "id": "H0fM-FCjn2BH"
      },
      "source": [
        "df.drop(df.index[df['type'] == 8], inplace = True)"
      ],
      "execution_count": 123,
      "outputs": []
    },
    {
      "cell_type": "code",
      "metadata": {
        "id": "fYbJO93Tn3gW"
      },
      "source": [
        "df.drop(df.index[df['type'] == 7], inplace = True)"
      ],
      "execution_count": 124,
      "outputs": []
    },
    {
      "cell_type": "code",
      "metadata": {
        "id": "gDRJqa_mn5Tq"
      },
      "source": [
        "df.drop(df.index[df['type'] == 1], inplace = True)"
      ],
      "execution_count": 125,
      "outputs": []
    },
    {
      "cell_type": "code",
      "metadata": {
        "id": "qYDic_DDoD58"
      },
      "source": [
        "# using np.ceil to round to\n",
        "df['baths']=df['baths'].apply(np.ceil)"
      ],
      "execution_count": 126,
      "outputs": []
    },
    {
      "cell_type": "code",
      "metadata": {
        "colab": {
          "base_uri": "https://localhost:8080/"
        },
        "id": "YwYpYW0noQ83",
        "outputId": "0b967569-0068-4db9-e48f-e330bef66bea"
      },
      "source": [
        "df['type'].unique()"
      ],
      "execution_count": 127,
      "outputs": [
        {
          "output_type": "execute_result",
          "data": {
            "text/plain": [
              "array([ 0,  6,  4, 11])"
            ]
          },
          "metadata": {},
          "execution_count": 127
        }
      ]
    },
    {
      "cell_type": "code",
      "metadata": {
        "colab": {
          "base_uri": "https://localhost:8080/",
          "height": 223
        },
        "id": "dROZd8rSSYLx",
        "outputId": "c95e899f-25d9-4256-daa7-2426eb88ee59"
      },
      "source": [
        "df.head()"
      ],
      "execution_count": 128,
      "outputs": [
        {
          "output_type": "execute_result",
          "data": {
            "text/html": [
              "<div>\n",
              "<style scoped>\n",
              "    .dataframe tbody tr th:only-of-type {\n",
              "        vertical-align: middle;\n",
              "    }\n",
              "\n",
              "    .dataframe tbody tr th {\n",
              "        vertical-align: top;\n",
              "    }\n",
              "\n",
              "    .dataframe thead th {\n",
              "        text-align: right;\n",
              "    }\n",
              "</style>\n",
              "<table border=\"1\" class=\"dataframe\">\n",
              "  <thead>\n",
              "    <tr style=\"text-align: right;\">\n",
              "      <th></th>\n",
              "      <th>price</th>\n",
              "      <th>type</th>\n",
              "      <th>sqfeet</th>\n",
              "      <th>beds</th>\n",
              "      <th>baths</th>\n",
              "      <th>smoking_allowed</th>\n",
              "      <th>wheelchair_access</th>\n",
              "      <th>electric_vehicle_charge</th>\n",
              "      <th>comes_furnished</th>\n",
              "      <th>laundry_options</th>\n",
              "      <th>parking_options</th>\n",
              "      <th>state</th>\n",
              "      <th>pets_allowed</th>\n",
              "    </tr>\n",
              "  </thead>\n",
              "  <tbody>\n",
              "    <tr>\n",
              "      <th>0</th>\n",
              "      <td>1345</td>\n",
              "      <td>0</td>\n",
              "      <td>834</td>\n",
              "      <td>1</td>\n",
              "      <td>1.0</td>\n",
              "      <td>1</td>\n",
              "      <td>0</td>\n",
              "      <td>0</td>\n",
              "      <td>0</td>\n",
              "      <td>1</td>\n",
              "      <td>4</td>\n",
              "      <td>10</td>\n",
              "      <td>1</td>\n",
              "    </tr>\n",
              "    <tr>\n",
              "      <th>1</th>\n",
              "      <td>1600</td>\n",
              "      <td>6</td>\n",
              "      <td>3537</td>\n",
              "      <td>4</td>\n",
              "      <td>3.0</td>\n",
              "      <td>0</td>\n",
              "      <td>0</td>\n",
              "      <td>0</td>\n",
              "      <td>0</td>\n",
              "      <td>3</td>\n",
              "      <td>0</td>\n",
              "      <td>10</td>\n",
              "      <td>0</td>\n",
              "    </tr>\n",
              "    <tr>\n",
              "      <th>2</th>\n",
              "      <td>1205</td>\n",
              "      <td>0</td>\n",
              "      <td>1299</td>\n",
              "      <td>2</td>\n",
              "      <td>2.0</td>\n",
              "      <td>1</td>\n",
              "      <td>0</td>\n",
              "      <td>0</td>\n",
              "      <td>0</td>\n",
              "      <td>3</td>\n",
              "      <td>4</td>\n",
              "      <td>10</td>\n",
              "      <td>1</td>\n",
              "    </tr>\n",
              "    <tr>\n",
              "      <th>3</th>\n",
              "      <td>1205</td>\n",
              "      <td>0</td>\n",
              "      <td>1299</td>\n",
              "      <td>2</td>\n",
              "      <td>2.0</td>\n",
              "      <td>1</td>\n",
              "      <td>0</td>\n",
              "      <td>0</td>\n",
              "      <td>0</td>\n",
              "      <td>3</td>\n",
              "      <td>4</td>\n",
              "      <td>10</td>\n",
              "      <td>1</td>\n",
              "    </tr>\n",
              "    <tr>\n",
              "      <th>4</th>\n",
              "      <td>1245</td>\n",
              "      <td>0</td>\n",
              "      <td>1299</td>\n",
              "      <td>2</td>\n",
              "      <td>2.0</td>\n",
              "      <td>1</td>\n",
              "      <td>0</td>\n",
              "      <td>0</td>\n",
              "      <td>0</td>\n",
              "      <td>3</td>\n",
              "      <td>4</td>\n",
              "      <td>10</td>\n",
              "      <td>1</td>\n",
              "    </tr>\n",
              "  </tbody>\n",
              "</table>\n",
              "</div>"
            ],
            "text/plain": [
              "   price  type  sqfeet  ...  parking_options  state  pets_allowed\n",
              "0   1345     0     834  ...                4     10             1\n",
              "1   1600     6    3537  ...                0     10             0\n",
              "2   1205     0    1299  ...                4     10             1\n",
              "3   1205     0    1299  ...                4     10             1\n",
              "4   1245     0    1299  ...                4     10             1\n",
              "\n",
              "[5 rows x 13 columns]"
            ]
          },
          "metadata": {},
          "execution_count": 128
        }
      ]
    },
    {
      "cell_type": "code",
      "metadata": {
        "colab": {
          "base_uri": "https://localhost:8080/"
        },
        "id": "3S8df7hLSaVT",
        "outputId": "73718fcc-7b28-4fd1-c5a4-e2570de95368"
      },
      "source": [
        "df.info()"
      ],
      "execution_count": 129,
      "outputs": [
        {
          "output_type": "stream",
          "name": "stdout",
          "text": [
            "<class 'pandas.core.frame.DataFrame'>\n",
            "Int64Index: 111166 entries, 0 to 116038\n",
            "Data columns (total 13 columns):\n",
            " #   Column                   Non-Null Count   Dtype  \n",
            "---  ------                   --------------   -----  \n",
            " 0   price                    111166 non-null  int64  \n",
            " 1   type                     111166 non-null  int64  \n",
            " 2   sqfeet                   111166 non-null  int64  \n",
            " 3   beds                     111166 non-null  int64  \n",
            " 4   baths                    111166 non-null  float64\n",
            " 5   smoking_allowed          111166 non-null  int64  \n",
            " 6   wheelchair_access        111166 non-null  int64  \n",
            " 7   electric_vehicle_charge  111166 non-null  int64  \n",
            " 8   comes_furnished          111166 non-null  int64  \n",
            " 9   laundry_options          111166 non-null  int64  \n",
            " 10  parking_options          111166 non-null  int64  \n",
            " 11  state                    111166 non-null  int64  \n",
            " 12  pets_allowed             111166 non-null  int64  \n",
            "dtypes: float64(1), int64(12)\n",
            "memory usage: 11.9 MB\n"
          ]
        }
      ]
    },
    {
      "cell_type": "code",
      "metadata": {
        "colab": {
          "base_uri": "https://localhost:8080/",
          "height": 369
        },
        "id": "RqBuDKVFScgS",
        "outputId": "fecf071c-5558-44a0-f3d8-d241ce801639"
      },
      "source": [
        "#Scatter Plot using the seaborn library\n",
        "sns.set_style(\"whitegrid\");\n",
        "sns.FacetGrid(df, hue='type', height=5) \\\n",
        ".map(plt.scatter, \"beds\", \"state\") \\\n",
        ".add_legend();\n",
        "plt.show()"
      ],
      "execution_count": 130,
      "outputs": [
        {
          "output_type": "display_data",
          "data": {
            "image/png": "[encoded data removed]",
            "text/plain": [
              "<Figure size 408.75x360 with 1 Axes>"
            ]
          },
          "metadata": {}
        }
      ]
    },
    {
      "cell_type": "code",
      "metadata": {
        "colab": {
          "base_uri": "https://localhost:8080/",
          "height": 223
        },
        "id": "2wRSkKABSw8h",
        "outputId": "8b876de8-f550-4c94-8fc5-885bd55fc850"
      },
      "source": [
        "x_data = df.drop(['type'],axis=1)\n",
        "x_data.head()"
      ],
      "execution_count": 131,
      "outputs": [
        {
          "output_type": "execute_result",
          "data": {
            "text/html": [
              "<div>\n",
              "<style scoped>\n",
              "    .dataframe tbody tr th:only-of-type {\n",
              "        vertical-align: middle;\n",
              "    }\n",
              "\n",
              "    .dataframe tbody tr th {\n",
              "        vertical-align: top;\n",
              "    }\n",
              "\n",
              "    .dataframe thead th {\n",
              "        text-align: right;\n",
              "    }\n",
              "</style>\n",
              "<table border=\"1\" class=\"dataframe\">\n",
              "  <thead>\n",
              "    <tr style=\"text-align: right;\">\n",
              "      <th></th>\n",
              "      <th>price</th>\n",
              "      <th>sqfeet</th>\n",
              "      <th>beds</th>\n",
              "      <th>baths</th>\n",
              "      <th>smoking_allowed</th>\n",
              "      <th>wheelchair_access</th>\n",
              "      <th>electric_vehicle_charge</th>\n",
              "      <th>comes_furnished</th>\n",
              "      <th>laundry_options</th>\n",
              "      <th>parking_options</th>\n",
              "      <th>state</th>\n",
              "      <th>pets_allowed</th>\n",
              "    </tr>\n",
              "  </thead>\n",
              "  <tbody>\n",
              "    <tr>\n",
              "      <th>0</th>\n",
              "      <td>1345</td>\n",
              "      <td>834</td>\n",
              "      <td>1</td>\n",
              "      <td>1.0</td>\n",
              "      <td>1</td>\n",
              "      <td>0</td>\n",
              "      <td>0</td>\n",
              "      <td>0</td>\n",
              "      <td>1</td>\n",
              "      <td>4</td>\n",
              "      <td>10</td>\n",
              "      <td>1</td>\n",
              "    </tr>\n",
              "    <tr>\n",
              "      <th>1</th>\n",
              "      <td>1600</td>\n",
              "      <td>3537</td>\n",
              "      <td>4</td>\n",
              "      <td>3.0</td>\n",
              "      <td>0</td>\n",
              "      <td>0</td>\n",
              "      <td>0</td>\n",
              "      <td>0</td>\n",
              "      <td>3</td>\n",
              "      <td>0</td>\n",
              "      <td>10</td>\n",
              "      <td>0</td>\n",
              "    </tr>\n",
              "    <tr>\n",
              "      <th>2</th>\n",
              "      <td>1205</td>\n",
              "      <td>1299</td>\n",
              "      <td>2</td>\n",
              "      <td>2.0</td>\n",
              "      <td>1</td>\n",
              "      <td>0</td>\n",
              "      <td>0</td>\n",
              "      <td>0</td>\n",
              "      <td>3</td>\n",
              "      <td>4</td>\n",
              "      <td>10</td>\n",
              "      <td>1</td>\n",
              "    </tr>\n",
              "    <tr>\n",
              "      <th>3</th>\n",
              "      <td>1205</td>\n",
              "      <td>1299</td>\n",
              "      <td>2</td>\n",
              "      <td>2.0</td>\n",
              "      <td>1</td>\n",
              "      <td>0</td>\n",
              "      <td>0</td>\n",
              "      <td>0</td>\n",
              "      <td>3</td>\n",
              "      <td>4</td>\n",
              "      <td>10</td>\n",
              "      <td>1</td>\n",
              "    </tr>\n",
              "    <tr>\n",
              "      <th>4</th>\n",
              "      <td>1245</td>\n",
              "      <td>1299</td>\n",
              "      <td>2</td>\n",
              "      <td>2.0</td>\n",
              "      <td>1</td>\n",
              "      <td>0</td>\n",
              "      <td>0</td>\n",
              "      <td>0</td>\n",
              "      <td>3</td>\n",
              "      <td>4</td>\n",
              "      <td>10</td>\n",
              "      <td>1</td>\n",
              "    </tr>\n",
              "  </tbody>\n",
              "</table>\n",
              "</div>"
            ],
            "text/plain": [
              "   price  sqfeet  beds  ...  parking_options  state  pets_allowed\n",
              "0   1345     834     1  ...                4     10             1\n",
              "1   1600    3537     4  ...                0     10             0\n",
              "2   1205    1299     2  ...                4     10             1\n",
              "3   1205    1299     2  ...                4     10             1\n",
              "4   1245    1299     2  ...                4     10             1\n",
              "\n",
              "[5 rows x 12 columns]"
            ]
          },
          "metadata": {},
          "execution_count": 131
        }
      ]
    },
    {
      "cell_type": "code",
      "metadata": {
        "id": "X6sGZMCTh5kk"
      },
      "source": [
        "y_data = df['type']"
      ],
      "execution_count": 132,
      "outputs": []
    },
    {
      "cell_type": "code",
      "metadata": {
        "id": "O9E2r7T-TkDW"
      },
      "source": [
        "#Splitting the data set into Train set & Test set\n",
        "X_train, X_test, y_train, y_test = train_test_split(x_data, y_data, test_size=0.2,random_state=5)"
      ],
      "execution_count": 135,
      "outputs": []
    },
    {
      "cell_type": "code",
      "metadata": {
        "colab": {
          "base_uri": "https://localhost:8080/",
          "height": 223
        },
        "id": "kS_naaHnTpTL",
        "outputId": "f86fc43c-cb66-4a66-e7a8-6019d7b363b0"
      },
      "source": [
        "X_test.head()"
      ],
      "execution_count": 136,
      "outputs": [
        {
          "output_type": "execute_result",
          "data": {
            "text/html": [
              "<div>\n",
              "<style scoped>\n",
              "    .dataframe tbody tr th:only-of-type {\n",
              "        vertical-align: middle;\n",
              "    }\n",
              "\n",
              "    .dataframe tbody tr th {\n",
              "        vertical-align: top;\n",
              "    }\n",
              "\n",
              "    .dataframe thead th {\n",
              "        text-align: right;\n",
              "    }\n",
              "</style>\n",
              "<table border=\"1\" class=\"dataframe\">\n",
              "  <thead>\n",
              "    <tr style=\"text-align: right;\">\n",
              "      <th></th>\n",
              "      <th>price</th>\n",
              "      <th>sqfeet</th>\n",
              "      <th>beds</th>\n",
              "      <th>baths</th>\n",
              "      <th>smoking_allowed</th>\n",
              "      <th>wheelchair_access</th>\n",
              "      <th>electric_vehicle_charge</th>\n",
              "      <th>comes_furnished</th>\n",
              "      <th>laundry_options</th>\n",
              "      <th>parking_options</th>\n",
              "      <th>state</th>\n",
              "      <th>pets_allowed</th>\n",
              "    </tr>\n",
              "  </thead>\n",
              "  <tbody>\n",
              "    <tr>\n",
              "      <th>95244</th>\n",
              "      <td>740</td>\n",
              "      <td>860</td>\n",
              "      <td>2</td>\n",
              "      <td>1.0</td>\n",
              "      <td>1</td>\n",
              "      <td>0</td>\n",
              "      <td>0</td>\n",
              "      <td>0</td>\n",
              "      <td>0</td>\n",
              "      <td>4</td>\n",
              "      <td>28</td>\n",
              "      <td>1</td>\n",
              "    </tr>\n",
              "    <tr>\n",
              "      <th>49129</th>\n",
              "      <td>1330</td>\n",
              "      <td>885</td>\n",
              "      <td>1</td>\n",
              "      <td>1.0</td>\n",
              "      <td>1</td>\n",
              "      <td>0</td>\n",
              "      <td>0</td>\n",
              "      <td>0</td>\n",
              "      <td>4</td>\n",
              "      <td>1</td>\n",
              "      <td>22</td>\n",
              "      <td>1</td>\n",
              "    </tr>\n",
              "    <tr>\n",
              "      <th>78840</th>\n",
              "      <td>815</td>\n",
              "      <td>680</td>\n",
              "      <td>1</td>\n",
              "      <td>1.0</td>\n",
              "      <td>1</td>\n",
              "      <td>0</td>\n",
              "      <td>0</td>\n",
              "      <td>0</td>\n",
              "      <td>4</td>\n",
              "      <td>1</td>\n",
              "      <td>33</td>\n",
              "      <td>1</td>\n",
              "    </tr>\n",
              "    <tr>\n",
              "      <th>76729</th>\n",
              "      <td>1110</td>\n",
              "      <td>1116</td>\n",
              "      <td>3</td>\n",
              "      <td>2.0</td>\n",
              "      <td>1</td>\n",
              "      <td>0</td>\n",
              "      <td>0</td>\n",
              "      <td>0</td>\n",
              "      <td>3</td>\n",
              "      <td>4</td>\n",
              "      <td>29</td>\n",
              "      <td>1</td>\n",
              "    </tr>\n",
              "    <tr>\n",
              "      <th>115545</th>\n",
              "      <td>1305</td>\n",
              "      <td>963</td>\n",
              "      <td>2</td>\n",
              "      <td>2.0</td>\n",
              "      <td>0</td>\n",
              "      <td>0</td>\n",
              "      <td>1</td>\n",
              "      <td>0</td>\n",
              "      <td>4</td>\n",
              "      <td>4</td>\n",
              "      <td>37</td>\n",
              "      <td>1</td>\n",
              "    </tr>\n",
              "  </tbody>\n",
              "</table>\n",
              "</div>"
            ],
            "text/plain": [
              "        price  sqfeet  beds  ...  parking_options  state  pets_allowed\n",
              "95244     740     860     2  ...                4     28             1\n",
              "49129    1330     885     1  ...                1     22             1\n",
              "78840     815     680     1  ...                1     33             1\n",
              "76729    1110    1116     3  ...                4     29             1\n",
              "115545   1305     963     2  ...                4     37             1\n",
              "\n",
              "[5 rows x 12 columns]"
            ]
          },
          "metadata": {},
          "execution_count": 136
        }
      ]
    },
    {
      "cell_type": "code",
      "metadata": {
        "id": "60zSDNlLqzBH"
      },
      "source": [
        "from sklearn.preprocessing import StandardScaler\n",
        "\n",
        "#the scaler model\n",
        "\n",
        "scaler = StandardScaler()\n",
        "\n",
        "#fitting and standardization\n",
        "\n",
        "train_scaled = scaler.fit_transform(X_train)\n",
        "\n",
        "test_scaled = scaler.transform(X_test)"
      ],
      "execution_count": 137,
      "outputs": []
    },
    {
      "cell_type": "code",
      "metadata": {
        "id": "PU6GOvrrT-BB"
      },
      "source": [
        "from sklearn import neighbors\n",
        "from sklearn.metrics import mean_squared_error \n",
        "from math import sqrt"
      ],
      "execution_count": 138,
      "outputs": []
    },
    {
      "cell_type": "code",
      "metadata": {
        "colab": {
          "base_uri": "https://localhost:8080/"
        },
        "id": "70qo7N0ATv51",
        "outputId": "c492542f-81e5-4490-b539-83fec3a49995"
      },
      "source": [
        "#to store rmse values for different k\n",
        "rmse_val = []\n",
        "#try running from k=1 through 20 and record testing accuracy\n",
        "for K in range(20):\n",
        "    K = K+1\n",
        "    model = neighbors.KNeighborsRegressor(n_neighbors = K)\n",
        "\n",
        "    #fit the model\n",
        "    model.fit(X_train, y_train) \n",
        "\n",
        "    #make prediction on test set\n",
        "    pred=model.predict(X_test)\n",
        "\n",
        "    #calculate rmse\n",
        "    error = sqrt(mean_squared_error(y_test,pred)) \n",
        "\n",
        "    #store rmse values\n",
        "    rmse_val.append(error) \n",
        "    print('RMSE value for k = ' , K , 'is :', error)"
      ],
      "execution_count": 139,
      "outputs": [
        {
          "output_type": "stream",
          "name": "stdout",
          "text": [
            "RMSE value for k =  1 is : 2.263217898858484\n",
            "RMSE value for k =  2 is : 2.0996258078232835\n",
            "RMSE value for k =  3 is : 2.0689940091283017\n",
            "RMSE value for k =  4 is : 2.0693613366541213\n",
            "RMSE value for k =  5 is : 2.0713919831079117\n",
            "RMSE value for k =  6 is : 2.0865129704175978\n",
            "RMSE value for k =  7 is : 2.1039036900493486\n",
            "RMSE value for k =  8 is : 2.1197632496037815\n",
            "RMSE value for k =  9 is : 2.1345741427924203\n",
            "RMSE value for k =  10 is : 2.14776765732883\n",
            "RMSE value for k =  11 is : 2.1635271880330444\n",
            "RMSE value for k =  12 is : 2.172549260832975\n",
            "RMSE value for k =  13 is : 2.1850370843684246\n",
            "RMSE value for k =  14 is : 2.1965703579920755\n",
            "RMSE value for k =  15 is : 2.210536896121476\n",
            "RMSE value for k =  16 is : 2.2203598278763104\n",
            "RMSE value for k =  17 is : 2.227927401332182\n",
            "RMSE value for k =  18 is : 2.236895507264856\n",
            "RMSE value for k =  19 is : 2.2443551140475497\n",
            "RMSE value for k =  20 is : 2.250594056685427\n"
          ]
        }
      ]
    },
    {
      "cell_type": "code",
      "metadata": {
        "colab": {
          "base_uri": "https://localhost:8080/",
          "height": 282
        },
        "id": "IlQb1-JBUoID",
        "outputId": "3f5092ea-47cc-4210-a93d-b4f7efb37605"
      },
      "source": [
        "#plotting the rmse values against k values\n",
        "curve = pd.DataFrame(rmse_val) #elbow curve \n",
        "curve.plot()"
      ],
      "execution_count": 140,
      "outputs": [
        {
          "output_type": "execute_result",
          "data": {
            "text/plain": [
              "<matplotlib.axes._subplots.AxesSubplot at 0x7f5a9cd49250>"
            ]
          },
          "metadata": {},
          "execution_count": 140
        },
        {
          "output_type": "display_data",
          "data": {
            "image/png": "[encoded data removed]",
            "text/plain": [
              "<Figure size 432x288 with 1 Axes>"
            ]
          },
          "metadata": {}
        }
      ]
    },
    {
      "cell_type": "code",
      "metadata": {
        "colab": {
          "base_uri": "https://localhost:8080/"
        },
        "id": "7748Z8btVphl",
        "outputId": "50f41daa-e601-4e53-a78d-5551e68d5601"
      },
      "source": [
        "from sklearn.neighbors import KNeighborsClassifier\n",
        "\n",
        "#Traiing\n",
        "classifier = KNeighborsClassifier(n_neighbors=10)\n",
        "classifier.fit(X_train, y_train)"
      ],
      "execution_count": 141,
      "outputs": [
        {
          "output_type": "execute_result",
          "data": {
            "text/plain": [
              "KNeighborsClassifier(algorithm='auto', leaf_size=30, metric='minkowski',\n",
              "                     metric_params=None, n_jobs=None, n_neighbors=10, p=2,\n",
              "                     weights='uniform')"
            ]
          },
          "metadata": {},
          "execution_count": 141
        }
      ]
    },
    {
      "cell_type": "code",
      "metadata": {
        "id": "EMQSO0sKVuqR"
      },
      "source": [
        "#Prediction\n",
        "y_pred = classifier.predict(X_test)"
      ],
      "execution_count": 142,
      "outputs": []
    },
    {
      "cell_type": "code",
      "metadata": {
        "colab": {
          "base_uri": "https://localhost:8080/"
        },
        "id": "zUHsnxgqDFph",
        "outputId": "fbf180ed-3baf-4d42-f005-bdfe89587292"
      },
      "source": [
        "y_pred"
      ],
      "execution_count": 143,
      "outputs": [
        {
          "output_type": "execute_result",
          "data": {
            "text/plain": [
              "array([ 0,  0,  0, ..., 11,  0,  0])"
            ]
          },
          "metadata": {},
          "execution_count": 143
        }
      ]
    },
    {
      "cell_type": "code",
      "metadata": {
        "colab": {
          "base_uri": "https://localhost:8080/"
        },
        "id": "dhLECrH-ZHb7",
        "outputId": "e0223e13-1cef-4e83-c669-44821abee26c"
      },
      "source": [
        "#Import scikit-learn metrics module for accuracy calculation\n",
        "from sklearn.metrics import classification_report, confusion_matrix, accuracy_score\n",
        "\n",
        "#Calculate the confusion matrix, recall, percision and all over accuracy of the model\n",
        "result = confusion_matrix(y_test, y_pred)\n",
        "print(\"Confusion Matrix:\")\n",
        "print(result)\n",
        "result1 = classification_report(y_test, y_pred)\n",
        "print(\"Classification Report:\")\n",
        "print (result1)\n",
        "result2 = accuracy_score(y_test,y_pred)\n",
        "print(\"Accuracy:\",result2)"
      ],
      "execution_count": 144,
      "outputs": [
        {
          "output_type": "stream",
          "name": "stdout",
          "text": [
            "Confusion Matrix:\n",
            "[[17818    28   334   154]\n",
            " [  271    60    83    11]\n",
            " [  953    20  1147    74]\n",
            " [  493     7   170   611]]\n",
            "Classification Report:\n",
            "              precision    recall  f1-score   support\n",
            "\n",
            "           0       0.91      0.97      0.94     18334\n",
            "           4       0.52      0.14      0.22       425\n",
            "           6       0.66      0.52      0.58      2194\n",
            "          11       0.72      0.48      0.57      1281\n",
            "\n",
            "    accuracy                           0.88     22234\n",
            "   macro avg       0.70      0.53      0.58     22234\n",
            "weighted avg       0.87      0.88      0.87     22234\n",
            "\n",
            "Accuracy: 0.883151929477377\n"
          ]
        }
      ]
    },
    {
      "cell_type": "code",
      "metadata": {
        "id": "af7LcXfFrbtJ",
        "outputId": "ac85a57e-0e0d-498b-eaea-4d43ffc0e48e",
        "colab": {
          "base_uri": "https://localhost:8080/"
        }
      },
      "source": [
        "from sklearn.metrics import classification_report, confusion_matrix\n",
        "cf =confusion_matrix(y_pred, y_test, labels=[0,6,4,11])\n",
        "print(confusion_matrix(y_pred, y_test, labels=[0,6,4,11]))"
      ],
      "execution_count": 145,
      "outputs": [
        {
          "output_type": "stream",
          "name": "stdout",
          "text": [
            "[[17818   953   271   493]\n",
            " [  334  1147    83   170]\n",
            " [   28    20    60     7]\n",
            " [  154    74    11   611]]\n"
          ]
        }
      ]
    },
    {
      "cell_type": "code",
      "metadata": {
        "id": "jxBCpg84rku7",
        "outputId": "4475223a-1de1-43ac-f303-9033e64ca04f",
        "colab": {
          "base_uri": "https://localhost:8080/",
          "height": 274
        }
      },
      "source": [
        "#confusion matrix creation\n",
        "LABELS=['0','4','6','11']\n",
        "conf_matrix=confusion_matrix(y_test,y_pred)\n",
        "\n",
        "plt.figure(figsize=(12,12))\n",
        "plt.matshow(cf)\n",
        "plt.colorbar()\n",
        "plt.title('Confusion matrix')\n",
        "plt.ylabel('True class')\n",
        "plt.xlabel('Predicted class')\n",
        "plt.show()\n",
        "\n"
      ],
      "execution_count": 161,
      "outputs": [
        {
          "output_type": "display_data",
          "data": {
            "text/plain": [
              "<Figure size 864x864 with 0 Axes>"
            ]
          },
          "metadata": {}
        },
        {
          "output_type": "display_data",
          "data": {
            "image/png": "[encoded data removed]",
            "text/plain": [
              "<Figure size 288x288 with 2 Axes>"
            ]
          },
          "metadata": {}
        }
      ]
    },
    {
      "cell_type": "code",
      "metadata": {
        "id": "XzI26BZkZqOl"
      },
      "source": [
        "#Comparing Error rate with k-value\n",
        "error = []\n",
        "\n",
        "# Calculating error for K values between 1 and 20\n",
        "for i in range(1, 20):\n",
        "    knn = KNeighborsClassifier(n_neighbors=i)\n",
        "    knn.fit(X_train, y_train)\n",
        "    pred_i = knn.predict(X_test)\n",
        "    error.append(np.mean(pred_i != y_test))"
      ],
      "execution_count": 162,
      "outputs": []
    },
    {
      "cell_type": "code",
      "metadata": {
        "colab": {
          "base_uri": "https://localhost:8080/",
          "height": 422
        },
        "id": "AJiHdzVuZydT",
        "outputId": "81848899-b992-4216-ff29-73ae66a4d609"
      },
      "source": [
        "plt.figure(figsize=(12, 6))\n",
        "plt.plot(range(1, 20), error, color='red', linestyle='dashed', marker='o',\n",
        "         markerfacecolor='blue', markersize=10)\n",
        "plt.title('Error Rate K Value')\n",
        "plt.xlabel('K Value')\n",
        "plt.ylabel('Mean Error')"
      ],
      "execution_count": 163,
      "outputs": [
        {
          "output_type": "execute_result",
          "data": {
            "text/plain": [
              "Text(0, 0.5, 'Mean Error')"
            ]
          },
          "metadata": {},
          "execution_count": 163
        },
        {
          "output_type": "display_data",
          "data": {
            "image/png": "[encoded data removed]",
            "text/plain": [
              "<Figure size 864x432 with 1 Axes>"
            ]
          },
          "metadata": {}
        }
      ]
    },
    {
      "cell_type": "code",
      "metadata": {
        "id": "juBLm6_EfnVq"
      },
      "source": [
        "#Create KNN Classifier\n",
        "knn = KNeighborsClassifier(n_neighbors=15)\n",
        "\n",
        "#Train the model using the training sets\n",
        "knn.fit(X_train, y_train)\n",
        "\n",
        "#Predict the response for test dataset\n",
        "y_pred = knn.predict(X_test)"
      ],
      "execution_count": 164,
      "outputs": []
    },
    {
      "cell_type": "code",
      "metadata": {
        "colab": {
          "base_uri": "https://localhost:8080/"
        },
        "id": "I8JKGVtOfsiu",
        "outputId": "e11be578-30d0-4425-e262-2d6376ed897d"
      },
      "source": [
        "#Import scikit-learn metrics module for accuracy calculation\n",
        "from sklearn import metrics\n",
        "# Model Accuracy, how often is the classifier correct?\n",
        "print(\"Accuracy Rate :\",metrics.accuracy_score(y_test, y_pred)*100)\n"
      ],
      "execution_count": 165,
      "outputs": [
        {
          "output_type": "stream",
          "name": "stdout",
          "text": [
            "Accuracy Rate : 87.76198614734191\n"
          ]
        }
      ]
    }
  ]
}