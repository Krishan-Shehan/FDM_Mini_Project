{
 "cells": [
  {
   "cell_type": "code",
   "execution_count": 1,
   "source": [
    "#Import Libraries\r\n",
    "import pandas as pd\r\n",
    "import numpy as np\r\n",
    "from matplotlib import pyplot as plt\r\n",
    "import seaborn as sns\r\n",
    "from sklearn.metrics import accuracy_score"
   ],
   "outputs": [],
   "metadata": {}
  },
  {
   "cell_type": "code",
   "execution_count": 2,
   "source": [
    "#Read the data set\r\n",
    "df = pd.read_csv(\"Preprocessed_data.csv\")"
   ],
   "outputs": [],
   "metadata": {}
  },
  {
   "cell_type": "code",
   "execution_count": 3,
   "source": [
    "# Import train_test_split function\r\n",
    "from sklearn.model_selection import train_test_split\r\n",
    "\r\n",
    "X=df[['price', 'sqfeet', 'beds', 'baths', 'smoking_allowed', 'wheelchair_access', 'electric_vehicle_charge', 'comes_furnished', 'laundry_options', 'parking_options', 'state']]  # Features\r\n",
    "y=df['pets_allowed']  # Labels\r\n",
    "\r\n",
    "# Split dataset into training set and test set\r\n",
    "X_train, X_test, y_train, y_test = train_test_split(X, y, test_size= 0.25) # 70% training and 30% test"
   ],
   "outputs": [],
   "metadata": {}
  },
  {
   "cell_type": "code",
   "execution_count": 4,
   "source": [
    "#Build the Model\r\n",
    "from sklearn.tree import DecisionTreeClassifier\r\n",
    "\r\n",
    "classifier = DecisionTreeClassifier(criterion = \"gini\",random_state = 100)\r\n",
    "\r\n",
    "classifier.fit(X_train, y_train)\r\n",
    "\r\n",
    "y_pred = classifier.predict(X_test)"
   ],
   "outputs": [],
   "metadata": {}
  },
  {
   "cell_type": "code",
   "execution_count": 5,
   "source": [
    "#Import scikit-learn metrics module for accuracy calculation\r\n",
    "from sklearn import metrics\r\n",
    "\r\n",
    "# Model Accuracy, how often is the classifier correct?\r\n",
    "print(\"Accuracy:\",metrics.accuracy_score(y_test, y_pred) * 100)"
   ],
   "outputs": [
    {
     "output_type": "stream",
     "name": "stdout",
     "text": [
      "Accuracy: 87.00783177770626\n"
     ]
    }
   ],
   "metadata": {}
  },
  {
   "cell_type": "code",
   "execution_count": 6,
   "source": [
    "# Making the Confusion Matrix\r\n",
    "from sklearn.metrics import confusion_matrix\r\n",
    "conf_matrix = confusion_matrix(y_test, y_pred)\r\n",
    "\r\n",
    "#Plot the Confusion Matrix\r\n",
    "LABELS = ['No', 'Yes']\r\n",
    "plt.figure(figsize=(6, 6))\r\n",
    "sns.heatmap(conf_matrix, xticklabels=LABELS,yticklabels=LABELS, annot=True, fmt='d');\r\n",
    "plt.title('Confusion matrix of Decision Tree(Binary)',size = 16)\r\n",
    "plt.ylabel('Actual Class',size = 14)\r\n",
    "plt.xlabel('Predicted Class',size = 14)\r\n",
    "plt.show()"
   ],
   "outputs": [
    {
     "output_type": "display_data",
     "data": {
      "image/png": "[encoded data removed]",
      "text/plain": [
       "<Figure size 432x432 with 2 Axes>"
      ]
     },
     "metadata": {
      "needs_background": "light"
     }
    }
   ],
   "metadata": {}
  },
  {
   "cell_type": "code",
   "execution_count": 7,
   "source": [
    "#Array formatted Confusion matrix\r\n",
    "Predicted = pd.Categorical(list(np.where(np.array(y_test) == 1, 'Pet Allowed','Pet Not Allowed')), \r\n",
    "categories = ['Pet Allowed','Pet Not Allowed'])\r\n",
    "Actual = pd.Categorical(list(np.where(np.array(y_pred) == 1, 'Pet Allowed','Pet Not Allowed')), \r\n",
    "categories = ['Pet Allowed','Pet Not Allowed'])\r\n",
    "\r\n",
    "pd.crosstab(Actual, Predicted, \r\n",
    "            rownames=['Predicted Class'], \r\n",
    "            colnames=['Actual Class'], margins=True, margins_name=\"Total Amount\")"
   ],
   "outputs": [
    {
     "output_type": "execute_result",
     "data": {
      "text/html": [
       "<div>\n",
       "<style scoped>\n",
       "    .dataframe tbody tr th:only-of-type {\n",
       "        vertical-align: middle;\n",
       "    }\n",
       "\n",
       "    .dataframe tbody tr th {\n",
       "        vertical-align: top;\n",
       "    }\n",
       "\n",
       "    .dataframe thead th {\n",
       "        text-align: right;\n",
       "    }\n",
       "</style>\n",
       "<table border=\"1\" class=\"dataframe\">\n",
       "  <thead>\n",
       "    <tr style=\"text-align: right;\">\n",
       "      <th>Actual Class</th>\n",
       "      <th>Pet Allowed</th>\n",
       "      <th>Pet Not Allowed</th>\n",
       "      <th>Total Amount</th>\n",
       "    </tr>\n",
       "    <tr>\n",
       "      <th>Predicted Class</th>\n",
       "      <th></th>\n",
       "      <th></th>\n",
       "      <th></th>\n",
       "    </tr>\n",
       "  </thead>\n",
       "  <tbody>\n",
       "    <tr>\n",
       "      <th>Pet Allowed</th>\n",
       "      <td>19966</td>\n",
       "      <td>1862</td>\n",
       "      <td>21828</td>\n",
       "    </tr>\n",
       "    <tr>\n",
       "      <th>Pet Not Allowed</th>\n",
       "      <td>1771</td>\n",
       "      <td>4364</td>\n",
       "      <td>6135</td>\n",
       "    </tr>\n",
       "    <tr>\n",
       "      <th>Total Amount</th>\n",
       "      <td>21737</td>\n",
       "      <td>6226</td>\n",
       "      <td>27963</td>\n",
       "    </tr>\n",
       "  </tbody>\n",
       "</table>\n",
       "</div>"
      ],
      "text/plain": [
       "Actual Class     Pet Allowed  Pet Not Allowed  Total Amount\n",
       "Predicted Class                                            \n",
       "Pet Allowed            19966             1862         21828\n",
       "Pet Not Allowed         1771             4364          6135\n",
       "Total Amount           21737             6226         27963"
      ]
     },
     "metadata": {},
     "execution_count": 7
    }
   ],
   "metadata": {}
  }
 ],
 "metadata": {
  "orig_nbformat": 4,
  "language_info": {
   "name": "python",
   "version": "3.8.8",
   "mimetype": "text/x-python",
   "codemirror_mode": {
    "name": "ipython",
    "version": 3
   },
   "pygments_lexer": "ipython3",
   "nbconvert_exporter": "python",
   "file_extension": ".py"
  },
  "kernelspec": {
   "name": "python3",
   "display_name": "Python 3.8.8 64-bit ('base': conda)"
  },
  "interpreter": {
   "hash": "a6c63708e3e80dee0890804c83d7ccb1f9596f0c2d494e939f195f13ae4c89c5"
  }
 },
 "nbformat": 4,
 "nbformat_minor": 2
}