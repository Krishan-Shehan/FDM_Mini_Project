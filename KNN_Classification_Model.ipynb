{
  "nbformat": 4,
  "nbformat_minor": 2,
  "metadata": {
    "colab": {
      "name": "KNN_Classification Model.ipynb",
      "provenance": [],
      "collapsed_sections": []
    },
    "kernelspec": {
      "name": "python3",
      "display_name": "Python 3.8.8 64-bit ('base': conda)"
    },
    "language_info": {
      "name": "python",
      "version": "3.8.8",
      "mimetype": "text/x-python",
      "codemirror_mode": {
        "name": "ipython",
        "version": 3
      },
      "pygments_lexer": "ipython3",
      "nbconvert_exporter": "python",
      "file_extension": ".py"
    },
    "interpreter": {
      "hash": "0df0ab8b8e3d7153797cb86a5e3dad051cc4c78b3b494fcd1f79beb4f8606e8f"
    }
  },
  "cells": [
    {
      "cell_type": "code",
      "execution_count": 197,
      "source": [
        "import numpy as np\r\n",
        "import sklearn\r\n",
        "import pandas as pd\r\n",
        "from scipy.optimize import minimize\r\n",
        "import matplotlib.pyplot as plt\r\n",
        "%matplotlib inline\r\n",
        "from sklearn import preprocessing\r\n",
        "from sklearn.model_selection import train_test_split\r\n",
        "from sklearn.neighbors import KNeighborsClassifier\r\n",
        "import seaborn as sns\r\n",
        "from sklearn.preprocessing import StandardScaler\r\n",
        "from sklearn import neighbors\r\n",
        "from sklearn.metrics import mean_squared_error \r\n",
        "from math import sqrt\r\n",
        "from sklearn import metrics\r\n",
        "from sklearn.metrics import classification_report, confusion_matrix, accuracy_score"
      ],
      "outputs": [],
      "metadata": {
        "id": "gBS00J2jSGaA"
      }
    },
    {
      "cell_type": "code",
      "execution_count": 198,
      "source": [
        "df = pd.read_csv('Preprocessed_data.csv')"
      ],
      "outputs": [],
      "metadata": {
        "id": "B78Oksn0SQPE"
      }
    },
    {
      "cell_type": "code",
      "execution_count": 199,
      "source": [
        "df.shape"
      ],
      "outputs": [
        {
          "output_type": "execute_result",
          "data": {
            "text/plain": [
              "(116039, 13)"
            ]
          },
          "metadata": {},
          "execution_count": 199
        }
      ],
      "metadata": {
        "colab": {
          "base_uri": "https://localhost:8080/"
        },
        "id": "wq-mKTW9ebk5",
        "outputId": "67da65a3-8493-49f9-b4c5-bbbdb74eb07b"
      }
    },
    {
      "cell_type": "code",
      "execution_count": 200,
      "source": [
        "df['type'].unique()"
      ],
      "outputs": [
        {
          "output_type": "execute_result",
          "data": {
            "text/plain": [
              "array([0, 1, 2, 3])"
            ]
          },
          "metadata": {},
          "execution_count": 200
        }
      ],
      "metadata": {
        "colab": {
          "base_uri": "https://localhost:8080/"
        },
        "id": "i8i1lyfuSVYD",
        "outputId": "22a24eb9-e106-4974-fb4b-977c42da601c"
      }
    },
    {
      "cell_type": "code",
      "execution_count": 201,
      "source": [
        "# using np.ceil to round to\r\n",
        "df['baths']=df['baths'].apply(np.ceil)"
      ],
      "outputs": [],
      "metadata": {
        "id": "qYDic_DDoD58"
      }
    },
    {
      "cell_type": "code",
      "execution_count": 203,
      "source": [
        "df.head()"
      ],
      "outputs": [
        {
          "output_type": "execute_result",
          "data": {
            "text/html": [
              "<div>\n",
              "<style scoped>\n",
              "    .dataframe tbody tr th:only-of-type {\n",
              "        vertical-align: middle;\n",
              "    }\n",
              "\n",
              "    .dataframe tbody tr th {\n",
              "        vertical-align: top;\n",
              "    }\n",
              "\n",
              "    .dataframe thead th {\n",
              "        text-align: right;\n",
              "    }\n",
              "</style>\n",
              "<table border=\"1\" class=\"dataframe\">\n",
              "  <thead>\n",
              "    <tr style=\"text-align: right;\">\n",
              "      <th></th>\n",
              "      <th>price</th>\n",
              "      <th>type</th>\n",
              "      <th>sqfeet</th>\n",
              "      <th>beds</th>\n",
              "      <th>baths</th>\n",
              "      <th>smoking_allowed</th>\n",
              "      <th>wheelchair_access</th>\n",
              "      <th>electric_vehicle_charge</th>\n",
              "      <th>comes_furnished</th>\n",
              "      <th>laundry_options</th>\n",
              "      <th>parking_options</th>\n",
              "      <th>state</th>\n",
              "      <th>pets_allowed</th>\n",
              "    </tr>\n",
              "  </thead>\n",
              "  <tbody>\n",
              "    <tr>\n",
              "      <th>0</th>\n",
              "      <td>1220</td>\n",
              "      <td>0</td>\n",
              "      <td>1232</td>\n",
              "      <td>2</td>\n",
              "      <td>2.0</td>\n",
              "      <td>0</td>\n",
              "      <td>0</td>\n",
              "      <td>0</td>\n",
              "      <td>0</td>\n",
              "      <td>3</td>\n",
              "      <td>4</td>\n",
              "      <td>10</td>\n",
              "      <td>1</td>\n",
              "    </tr>\n",
              "    <tr>\n",
              "      <th>1</th>\n",
              "      <td>1375</td>\n",
              "      <td>0</td>\n",
              "      <td>1232</td>\n",
              "      <td>2</td>\n",
              "      <td>2.0</td>\n",
              "      <td>0</td>\n",
              "      <td>0</td>\n",
              "      <td>0</td>\n",
              "      <td>0</td>\n",
              "      <td>4</td>\n",
              "      <td>4</td>\n",
              "      <td>10</td>\n",
              "      <td>1</td>\n",
              "    </tr>\n",
              "    <tr>\n",
              "      <th>2</th>\n",
              "      <td>870</td>\n",
              "      <td>0</td>\n",
              "      <td>890</td>\n",
              "      <td>2</td>\n",
              "      <td>1.0</td>\n",
              "      <td>0</td>\n",
              "      <td>0</td>\n",
              "      <td>0</td>\n",
              "      <td>0</td>\n",
              "      <td>4</td>\n",
              "      <td>1</td>\n",
              "      <td>13</td>\n",
              "      <td>1</td>\n",
              "    </tr>\n",
              "    <tr>\n",
              "      <th>3</th>\n",
              "      <td>1800</td>\n",
              "      <td>1</td>\n",
              "      <td>2600</td>\n",
              "      <td>4</td>\n",
              "      <td>3.0</td>\n",
              "      <td>1</td>\n",
              "      <td>0</td>\n",
              "      <td>0</td>\n",
              "      <td>0</td>\n",
              "      <td>3</td>\n",
              "      <td>0</td>\n",
              "      <td>10</td>\n",
              "      <td>1</td>\n",
              "    </tr>\n",
              "    <tr>\n",
              "      <th>4</th>\n",
              "      <td>2640</td>\n",
              "      <td>2</td>\n",
              "      <td>982</td>\n",
              "      <td>2</td>\n",
              "      <td>2.0</td>\n",
              "      <td>0</td>\n",
              "      <td>1</td>\n",
              "      <td>0</td>\n",
              "      <td>0</td>\n",
              "      <td>4</td>\n",
              "      <td>2</td>\n",
              "      <td>34</td>\n",
              "      <td>1</td>\n",
              "    </tr>\n",
              "  </tbody>\n",
              "</table>\n",
              "</div>"
            ],
            "text/plain": [
              "   price  type  sqfeet  ...  parking_options  state  pets_allowed\n",
              "0   1220     0    1232  ...                4     10             1\n",
              "1   1375     0    1232  ...                4     10             1\n",
              "2    870     0     890  ...                1     13             1\n",
              "3   1800     1    2600  ...                0     10             1\n",
              "4   2640     2     982  ...                2     34             1\n",
              "\n",
              "[5 rows x 13 columns]"
            ]
          },
          "metadata": {},
          "execution_count": 203
        }
      ],
      "metadata": {
        "colab": {
          "base_uri": "https://localhost:8080/",
          "height": 223
        },
        "id": "dROZd8rSSYLx",
        "outputId": "19f07e70-beb3-4445-f817-54b93dbb186d"
      }
    },
    {
      "cell_type": "code",
      "execution_count": 204,
      "source": [
        "df.info()"
      ],
      "outputs": [
        {
          "output_type": "stream",
          "name": "stdout",
          "text": [
            "<class 'pandas.core.frame.DataFrame'>\n",
            "RangeIndex: 116039 entries, 0 to 116038\n",
            "Data columns (total 13 columns):\n",
            " #   Column                   Non-Null Count   Dtype  \n",
            "---  ------                   --------------   -----  \n",
            " 0   price                    116039 non-null  int64  \n",
            " 1   type                     116039 non-null  int64  \n",
            " 2   sqfeet                   116039 non-null  int64  \n",
            " 3   beds                     116039 non-null  int64  \n",
            " 4   baths                    116039 non-null  float64\n",
            " 5   smoking_allowed          116039 non-null  int64  \n",
            " 6   wheelchair_access        116039 non-null  int64  \n",
            " 7   electric_vehicle_charge  116039 non-null  int64  \n",
            " 8   comes_furnished          116039 non-null  int64  \n",
            " 9   laundry_options          116039 non-null  int64  \n",
            " 10  parking_options          116039 non-null  int64  \n",
            " 11  state                    116039 non-null  int64  \n",
            " 12  pets_allowed             116039 non-null  int64  \n",
            "dtypes: float64(1), int64(12)\n",
            "memory usage: 11.5 MB\n"
          ]
        }
      ],
      "metadata": {
        "colab": {
          "base_uri": "https://localhost:8080/"
        },
        "id": "3S8df7hLSaVT",
        "outputId": "a4bac689-8c41-434d-d41a-c421e9bf0590"
      }
    },
    {
      "cell_type": "code",
      "execution_count": 205,
      "source": [
        "sns.set_style(\"whitegrid\");\r\n",
        "sns.FacetGrid(df, hue='type', size=5) \\\r\n",
        ".map(plt.scatter, 'state', 'beds') \\\r\n",
        ".add_legend();\r\n",
        "plt.show()"
      ],
      "outputs": [
        {
          "output_type": "stream",
          "name": "stderr",
          "text": [
            "/usr/local/lib/python3.7/dist-packages/seaborn/axisgrid.py:337: UserWarning: The `size` parameter has been renamed to `height`; please update your code.\n",
            "  warnings.warn(msg, UserWarning)\n"
          ]
        },
        {
          "output_type": "display_data",
          "data": {
            "image/png": "[encoded data removed]",
            "text/plain": [
              "<Figure size 402.375x360 with 1 Axes>"
            ]
          },
          "metadata": {}
        }
      ],
      "metadata": {
        "colab": {
          "base_uri": "https://localhost:8080/",
          "height": 424
        },
        "id": "-quxCVR4aEGF",
        "outputId": "b62003c6-d835-460b-d9ef-e1f6c0a54295"
      }
    },
    {
      "cell_type": "code",
      "execution_count": 206,
      "source": [
        "x_data = df.drop(['type'],axis=1)\r\n",
        "x_data.head()"
      ],
      "outputs": [
        {
          "output_type": "execute_result",
          "data": {
            "text/html": [
              "<div>\n",
              "<style scoped>\n",
              "    .dataframe tbody tr th:only-of-type {\n",
              "        vertical-align: middle;\n",
              "    }\n",
              "\n",
              "    .dataframe tbody tr th {\n",
              "        vertical-align: top;\n",
              "    }\n",
              "\n",
              "    .dataframe thead th {\n",
              "        text-align: right;\n",
              "    }\n",
              "</style>\n",
              "<table border=\"1\" class=\"dataframe\">\n",
              "  <thead>\n",
              "    <tr style=\"text-align: right;\">\n",
              "      <th></th>\n",
              "      <th>price</th>\n",
              "      <th>sqfeet</th>\n",
              "      <th>beds</th>\n",
              "      <th>baths</th>\n",
              "      <th>smoking_allowed</th>\n",
              "      <th>wheelchair_access</th>\n",
              "      <th>electric_vehicle_charge</th>\n",
              "      <th>comes_furnished</th>\n",
              "      <th>laundry_options</th>\n",
              "      <th>parking_options</th>\n",
              "      <th>state</th>\n",
              "      <th>pets_allowed</th>\n",
              "    </tr>\n",
              "  </thead>\n",
              "  <tbody>\n",
              "    <tr>\n",
              "      <th>0</th>\n",
              "      <td>1220</td>\n",
              "      <td>1232</td>\n",
              "      <td>2</td>\n",
              "      <td>2.0</td>\n",
              "      <td>0</td>\n",
              "      <td>0</td>\n",
              "      <td>0</td>\n",
              "      <td>0</td>\n",
              "      <td>3</td>\n",
              "      <td>4</td>\n",
              "      <td>10</td>\n",
              "      <td>1</td>\n",
              "    </tr>\n",
              "    <tr>\n",
              "      <th>1</th>\n",
              "      <td>1375</td>\n",
              "      <td>1232</td>\n",
              "      <td>2</td>\n",
              "      <td>2.0</td>\n",
              "      <td>0</td>\n",
              "      <td>0</td>\n",
              "      <td>0</td>\n",
              "      <td>0</td>\n",
              "      <td>4</td>\n",
              "      <td>4</td>\n",
              "      <td>10</td>\n",
              "      <td>1</td>\n",
              "    </tr>\n",
              "    <tr>\n",
              "      <th>2</th>\n",
              "      <td>870</td>\n",
              "      <td>890</td>\n",
              "      <td>2</td>\n",
              "      <td>1.0</td>\n",
              "      <td>0</td>\n",
              "      <td>0</td>\n",
              "      <td>0</td>\n",
              "      <td>0</td>\n",
              "      <td>4</td>\n",
              "      <td>1</td>\n",
              "      <td>13</td>\n",
              "      <td>1</td>\n",
              "    </tr>\n",
              "    <tr>\n",
              "      <th>3</th>\n",
              "      <td>1800</td>\n",
              "      <td>2600</td>\n",
              "      <td>4</td>\n",
              "      <td>3.0</td>\n",
              "      <td>1</td>\n",
              "      <td>0</td>\n",
              "      <td>0</td>\n",
              "      <td>0</td>\n",
              "      <td>3</td>\n",
              "      <td>0</td>\n",
              "      <td>10</td>\n",
              "      <td>1</td>\n",
              "    </tr>\n",
              "    <tr>\n",
              "      <th>4</th>\n",
              "      <td>2640</td>\n",
              "      <td>982</td>\n",
              "      <td>2</td>\n",
              "      <td>2.0</td>\n",
              "      <td>0</td>\n",
              "      <td>1</td>\n",
              "      <td>0</td>\n",
              "      <td>0</td>\n",
              "      <td>4</td>\n",
              "      <td>2</td>\n",
              "      <td>34</td>\n",
              "      <td>1</td>\n",
              "    </tr>\n",
              "  </tbody>\n",
              "</table>\n",
              "</div>"
            ],
            "text/plain": [
              "   price  sqfeet  beds  ...  parking_options  state  pets_allowed\n",
              "0   1220    1232     2  ...                4     10             1\n",
              "1   1375    1232     2  ...                4     10             1\n",
              "2    870     890     2  ...                1     13             1\n",
              "3   1800    2600     4  ...                0     10             1\n",
              "4   2640     982     2  ...                2     34             1\n",
              "\n",
              "[5 rows x 12 columns]"
            ]
          },
          "metadata": {},
          "execution_count": 206
        }
      ],
      "metadata": {
        "colab": {
          "base_uri": "https://localhost:8080/",
          "height": 223
        },
        "id": "2wRSkKABSw8h",
        "outputId": "92a29e8d-114e-417d-9bfd-56b03141efe5"
      }
    },
    {
      "cell_type": "code",
      "execution_count": 207,
      "source": [
        "y_data = df['type']"
      ],
      "outputs": [],
      "metadata": {
        "id": "X6sGZMCTh5kk"
      }
    },
    {
      "cell_type": "code",
      "execution_count": 208,
      "source": [
        "MinMaxScaler = preprocessing.MinMaxScaler()\r\n",
        "X_data_minmax = MinMaxScaler.fit_transform(x_data)\r\n",
        "data = pd.DataFrame(X_data_minmax,columns=['price', 'sqfeet', 'beds', 'baths', 'smoking_allowed', 'wheelchair_access','electric_vehicle_charge', 'comes_furnished', 'laundry_options', 'parking_options', 'state', 'pets_allowed'])\r\n",
        "df.head()"
      ],
      "outputs": [
        {
          "output_type": "execute_result",
          "data": {
            "text/html": [
              "<div>\n",
              "<style scoped>\n",
              "    .dataframe tbody tr th:only-of-type {\n",
              "        vertical-align: middle;\n",
              "    }\n",
              "\n",
              "    .dataframe tbody tr th {\n",
              "        vertical-align: top;\n",
              "    }\n",
              "\n",
              "    .dataframe thead th {\n",
              "        text-align: right;\n",
              "    }\n",
              "</style>\n",
              "<table border=\"1\" class=\"dataframe\">\n",
              "  <thead>\n",
              "    <tr style=\"text-align: right;\">\n",
              "      <th></th>\n",
              "      <th>price</th>\n",
              "      <th>type</th>\n",
              "      <th>sqfeet</th>\n",
              "      <th>beds</th>\n",
              "      <th>baths</th>\n",
              "      <th>smoking_allowed</th>\n",
              "      <th>wheelchair_access</th>\n",
              "      <th>electric_vehicle_charge</th>\n",
              "      <th>comes_furnished</th>\n",
              "      <th>laundry_options</th>\n",
              "      <th>parking_options</th>\n",
              "      <th>state</th>\n",
              "      <th>pets_allowed</th>\n",
              "    </tr>\n",
              "  </thead>\n",
              "  <tbody>\n",
              "    <tr>\n",
              "      <th>0</th>\n",
              "      <td>1220</td>\n",
              "      <td>0</td>\n",
              "      <td>1232</td>\n",
              "      <td>2</td>\n",
              "      <td>2.0</td>\n",
              "      <td>0</td>\n",
              "      <td>0</td>\n",
              "      <td>0</td>\n",
              "      <td>0</td>\n",
              "      <td>3</td>\n",
              "      <td>4</td>\n",
              "      <td>10</td>\n",
              "      <td>1</td>\n",
              "    </tr>\n",
              "    <tr>\n",
              "      <th>1</th>\n",
              "      <td>1375</td>\n",
              "      <td>0</td>\n",
              "      <td>1232</td>\n",
              "      <td>2</td>\n",
              "      <td>2.0</td>\n",
              "      <td>0</td>\n",
              "      <td>0</td>\n",
              "      <td>0</td>\n",
              "      <td>0</td>\n",
              "      <td>4</td>\n",
              "      <td>4</td>\n",
              "      <td>10</td>\n",
              "      <td>1</td>\n",
              "    </tr>\n",
              "    <tr>\n",
              "      <th>2</th>\n",
              "      <td>870</td>\n",
              "      <td>0</td>\n",
              "      <td>890</td>\n",
              "      <td>2</td>\n",
              "      <td>1.0</td>\n",
              "      <td>0</td>\n",
              "      <td>0</td>\n",
              "      <td>0</td>\n",
              "      <td>0</td>\n",
              "      <td>4</td>\n",
              "      <td>1</td>\n",
              "      <td>13</td>\n",
              "      <td>1</td>\n",
              "    </tr>\n",
              "    <tr>\n",
              "      <th>3</th>\n",
              "      <td>1800</td>\n",
              "      <td>1</td>\n",
              "      <td>2600</td>\n",
              "      <td>4</td>\n",
              "      <td>3.0</td>\n",
              "      <td>1</td>\n",
              "      <td>0</td>\n",
              "      <td>0</td>\n",
              "      <td>0</td>\n",
              "      <td>3</td>\n",
              "      <td>0</td>\n",
              "      <td>10</td>\n",
              "      <td>1</td>\n",
              "    </tr>\n",
              "    <tr>\n",
              "      <th>4</th>\n",
              "      <td>2640</td>\n",
              "      <td>2</td>\n",
              "      <td>982</td>\n",
              "      <td>2</td>\n",
              "      <td>2.0</td>\n",
              "      <td>0</td>\n",
              "      <td>1</td>\n",
              "      <td>0</td>\n",
              "      <td>0</td>\n",
              "      <td>4</td>\n",
              "      <td>2</td>\n",
              "      <td>34</td>\n",
              "      <td>1</td>\n",
              "    </tr>\n",
              "  </tbody>\n",
              "</table>\n",
              "</div>"
            ],
            "text/plain": [
              "   price  type  sqfeet  ...  parking_options  state  pets_allowed\n",
              "0   1220     0    1232  ...                4     10             1\n",
              "1   1375     0    1232  ...                4     10             1\n",
              "2    870     0     890  ...                1     13             1\n",
              "3   1800     1    2600  ...                0     10             1\n",
              "4   2640     2     982  ...                2     34             1\n",
              "\n",
              "[5 rows x 13 columns]"
            ]
          },
          "metadata": {},
          "execution_count": 208
        }
      ],
      "metadata": {
        "colab": {
          "base_uri": "https://localhost:8080/",
          "height": 223
        },
        "id": "YBl6jLmq8Dj9",
        "outputId": "5b8ec7a9-ed4f-4d50-cca2-ae8851b7aa1b"
      }
    },
    {
      "cell_type": "code",
      "execution_count": 209,
      "source": [
        "#Splitting the data set into Train set & Test set\r\n",
        "X_train, X_test, y_train, y_test = train_test_split(data, y_data,test_size=0.3, random_state = 1)\r\n",
        "knn_clf=KNeighborsClassifier()\r\n",
        "knn_clf.fit(X_train,y_train)\r\n",
        "ypred=knn_clf.predict(X_test) #These are the predicted output values"
      ],
      "outputs": [],
      "metadata": {
        "id": "O9E2r7T-TkDW"
      }
    },
    {
      "cell_type": "code",
      "execution_count": 210,
      "source": [
        "X_test.head()"
      ],
      "outputs": [
        {
          "output_type": "execute_result",
          "data": {
            "text/html": [
              "<div>\n",
              "<style scoped>\n",
              "    .dataframe tbody tr th:only-of-type {\n",
              "        vertical-align: middle;\n",
              "    }\n",
              "\n",
              "    .dataframe tbody tr th {\n",
              "        vertical-align: top;\n",
              "    }\n",
              "\n",
              "    .dataframe thead th {\n",
              "        text-align: right;\n",
              "    }\n",
              "</style>\n",
              "<table border=\"1\" class=\"dataframe\">\n",
              "  <thead>\n",
              "    <tr style=\"text-align: right;\">\n",
              "      <th></th>\n",
              "      <th>price</th>\n",
              "      <th>sqfeet</th>\n",
              "      <th>beds</th>\n",
              "      <th>baths</th>\n",
              "      <th>smoking_allowed</th>\n",
              "      <th>wheelchair_access</th>\n",
              "      <th>electric_vehicle_charge</th>\n",
              "      <th>comes_furnished</th>\n",
              "      <th>laundry_options</th>\n",
              "      <th>parking_options</th>\n",
              "      <th>state</th>\n",
              "      <th>pets_allowed</th>\n",
              "    </tr>\n",
              "  </thead>\n",
              "  <tbody>\n",
              "    <tr>\n",
              "      <th>77188</th>\n",
              "      <td>5.147550e-07</td>\n",
              "      <td>0.000119</td>\n",
              "      <td>0.25</td>\n",
              "      <td>0.250</td>\n",
              "      <td>1.0</td>\n",
              "      <td>0.0</td>\n",
              "      <td>0.0</td>\n",
              "      <td>0.0</td>\n",
              "      <td>0.25</td>\n",
              "      <td>0.666667</td>\n",
              "      <td>0.148148</td>\n",
              "      <td>1.0</td>\n",
              "    </tr>\n",
              "    <tr>\n",
              "      <th>115641</th>\n",
              "      <td>5.906136e-07</td>\n",
              "      <td>0.000057</td>\n",
              "      <td>0.00</td>\n",
              "      <td>0.125</td>\n",
              "      <td>0.0</td>\n",
              "      <td>1.0</td>\n",
              "      <td>1.0</td>\n",
              "      <td>0.0</td>\n",
              "      <td>1.00</td>\n",
              "      <td>0.000000</td>\n",
              "      <td>1.000000</td>\n",
              "      <td>1.0</td>\n",
              "    </tr>\n",
              "    <tr>\n",
              "      <th>100123</th>\n",
              "      <td>2.438313e-07</td>\n",
              "      <td>0.000094</td>\n",
              "      <td>0.25</td>\n",
              "      <td>0.125</td>\n",
              "      <td>1.0</td>\n",
              "      <td>0.0</td>\n",
              "      <td>0.0</td>\n",
              "      <td>0.0</td>\n",
              "      <td>0.25</td>\n",
              "      <td>0.666667</td>\n",
              "      <td>0.629630</td>\n",
              "      <td>1.0</td>\n",
              "    </tr>\n",
              "    <tr>\n",
              "      <th>79518</th>\n",
              "      <td>6.845338e-07</td>\n",
              "      <td>0.000194</td>\n",
              "      <td>0.50</td>\n",
              "      <td>0.500</td>\n",
              "      <td>0.0</td>\n",
              "      <td>0.0</td>\n",
              "      <td>0.0</td>\n",
              "      <td>0.0</td>\n",
              "      <td>1.00</td>\n",
              "      <td>0.000000</td>\n",
              "      <td>0.481481</td>\n",
              "      <td>0.0</td>\n",
              "    </tr>\n",
              "    <tr>\n",
              "      <th>47297</th>\n",
              "      <td>2.344393e-07</td>\n",
              "      <td>0.000117</td>\n",
              "      <td>0.25</td>\n",
              "      <td>0.125</td>\n",
              "      <td>1.0</td>\n",
              "      <td>0.0</td>\n",
              "      <td>0.0</td>\n",
              "      <td>0.0</td>\n",
              "      <td>0.00</td>\n",
              "      <td>0.166667</td>\n",
              "      <td>0.444444</td>\n",
              "      <td>1.0</td>\n",
              "    </tr>\n",
              "  </tbody>\n",
              "</table>\n",
              "</div>"
            ],
            "text/plain": [
              "               price    sqfeet  beds  ...  parking_options     state  pets_allowed\n",
              "77188   5.147550e-07  0.000119  0.25  ...         0.666667  0.148148           1.0\n",
              "115641  5.906136e-07  0.000057  0.00  ...         0.000000  1.000000           1.0\n",
              "100123  2.438313e-07  0.000094  0.25  ...         0.666667  0.629630           1.0\n",
              "79518   6.845338e-07  0.000194  0.50  ...         0.000000  0.481481           0.0\n",
              "47297   2.344393e-07  0.000117  0.25  ...         0.166667  0.444444           1.0\n",
              "\n",
              "[5 rows x 12 columns]"
            ]
          },
          "metadata": {},
          "execution_count": 210
        }
      ],
      "metadata": {
        "colab": {
          "base_uri": "https://localhost:8080/",
          "height": 307
        },
        "id": "kS_naaHnTpTL",
        "outputId": "c48956f2-0af4-40e5-d9c9-026595749e74"
      }
    },
    {
      "cell_type": "code",
      "execution_count": 214,
      "source": [
        "#the scaler model\r\n",
        "\r\n",
        "scaler = StandardScaler()\r\n",
        "\r\n",
        "#fitting and standardization\r\n",
        "\r\n",
        "train_scaled = scaler.fit_transform(X_train)\r\n",
        "\r\n",
        "test_scaled = scaler.transform(X_test)"
      ],
      "outputs": [],
      "metadata": {
        "id": "60zSDNlLqzBH"
      }
    },
    {
      "cell_type": "code",
      "execution_count": 215,
      "source": [
        "#to store rmse values for different k\r\n",
        "rmse_val = []\r\n",
        "#try running from k=1 through 20 and record testing accuracy\r\n",
        "for K in range(20):\r\n",
        "    K = K+1\r\n",
        "    model = neighbors.KNeighborsRegressor(n_neighbors = K)\r\n",
        "\r\n",
        "    #fit the model\r\n",
        "    model.fit(X_train, y_train) \r\n",
        "\r\n",
        "    #make prediction on test set\r\n",
        "    pred=model.predict(X_test)\r\n",
        "\r\n",
        "    #calculate rmse\r\n",
        "    error = sqrt(mean_squared_error(y_test,pred)) \r\n",
        "\r\n",
        "    #store rmse values\r\n",
        "    rmse_val.append(error) \r\n",
        "    print('RMSE value for k = ' , K , 'is :', error)"
      ],
      "outputs": [
        {
          "output_type": "stream",
          "name": "stdout",
          "text": [
            "RMSE value for k =  1 is : 0.4982158216484348\n",
            "RMSE value for k =  2 is : 0.4578100958684967\n",
            "RMSE value for k =  3 is : 0.45224327832494976\n",
            "RMSE value for k =  4 is : 0.4537073432582276\n",
            "RMSE value for k =  5 is : 0.4565065755011783\n",
            "RMSE value for k =  6 is : 0.46079647436236626\n",
            "RMSE value for k =  7 is : 0.4655701242002422\n",
            "RMSE value for k =  8 is : 0.4700696455594994\n",
            "RMSE value for k =  9 is : 0.4743982049085773\n",
            "RMSE value for k =  10 is : 0.47893432536792224\n",
            "RMSE value for k =  11 is : 0.4832975079381112\n",
            "RMSE value for k =  12 is : 0.48792033764619197\n",
            "RMSE value for k =  13 is : 0.4923366036265435\n",
            "RMSE value for k =  14 is : 0.49667803139573924\n",
            "RMSE value for k =  15 is : 0.5009098415616012\n",
            "RMSE value for k =  16 is : 0.5051589400670752\n",
            "RMSE value for k =  17 is : 0.5096540643327914\n",
            "RMSE value for k =  18 is : 0.5137565652957709\n",
            "RMSE value for k =  19 is : 0.5181786138942331\n",
            "RMSE value for k =  20 is : 0.5216754825452505\n"
          ]
        }
      ],
      "metadata": {
        "colab": {
          "base_uri": "https://localhost:8080/"
        },
        "id": "70qo7N0ATv51",
        "outputId": "cca20fbc-1329-4678-b0df-e0078c44b443"
      }
    },
    {
      "cell_type": "code",
      "execution_count": 216,
      "source": [
        "#plotting the rmse values against k values\r\n",
        "curve = pd.DataFrame(rmse_val) #elbow curve \r\n",
        "curve.plot()"
      ],
      "outputs": [
        {
          "output_type": "execute_result",
          "data": {
            "text/plain": [
              "<matplotlib.axes._subplots.AxesSubplot at 0x7fdd7e724510>"
            ]
          },
          "metadata": {},
          "execution_count": 216
        },
        {
          "output_type": "display_data",
          "data": {
            "image/png": "[encoded data removed]",
            "text/plain": [
              "<Figure size 432x288 with 1 Axes>"
            ]
          },
          "metadata": {}
        }
      ],
      "metadata": {
        "colab": {
          "base_uri": "https://localhost:8080/",
          "height": 282
        },
        "id": "IlQb1-JBUoID",
        "outputId": "f80fecea-d15a-4bc2-bd16-d8899e89b8d9"
      }
    },
    {
      "cell_type": "code",
      "execution_count": 217,
      "source": [
        "#Traiing\r\n",
        "#Create KNN Classifier: k=0.4522\r\n",
        "classifier = KNeighborsClassifier(n_neighbors=3)\r\n",
        "classifier.fit(X_train, y_train)"
      ],
      "outputs": [
        {
          "output_type": "execute_result",
          "data": {
            "text/plain": [
              "KNeighborsClassifier(algorithm='auto', leaf_size=30, metric='minkowski',\n",
              "                     metric_params=None, n_jobs=None, n_neighbors=3, p=2,\n",
              "                     weights='uniform')"
            ]
          },
          "metadata": {},
          "execution_count": 217
        }
      ],
      "metadata": {
        "colab": {
          "base_uri": "https://localhost:8080/"
        },
        "id": "7748Z8btVphl",
        "outputId": "4d1eb3ac-eb7a-4904-eb6d-026e9f6c679a"
      }
    },
    {
      "cell_type": "code",
      "execution_count": 218,
      "source": [
        "#Prediction\r\n",
        "y_pred = classifier.predict(X_test)"
      ],
      "outputs": [],
      "metadata": {
        "id": "EMQSO0sKVuqR"
      }
    },
    {
      "cell_type": "code",
      "execution_count": 219,
      "source": [
        "y_pred"
      ],
      "outputs": [
        {
          "output_type": "execute_result",
          "data": {
            "text/plain": [
              "array([0, 2, 3, ..., 3, 0, 2])"
            ]
          },
          "metadata": {},
          "execution_count": 219
        }
      ],
      "metadata": {
        "colab": {
          "base_uri": "https://localhost:8080/"
        },
        "id": "zUHsnxgqDFph",
        "outputId": "9a2006ac-655f-4229-913e-df3b70c6fdce"
      }
    },
    {
      "cell_type": "code",
      "execution_count": 220,
      "source": [
        "#Import scikit-learn metrics module for accuracy calculation\r\n",
        "# Model Accuracy, how often is the classifier correct?\r\n",
        "print(\"Accuracy Rate :\",metrics.accuracy_score(y_test, y_pred)*100)"
      ],
      "outputs": [
        {
          "output_type": "stream",
          "name": "stdout",
          "text": [
            "Accuracy Rate : 90.11547742157877\n"
          ]
        }
      ],
      "metadata": {
        "colab": {
          "base_uri": "https://localhost:8080/"
        },
        "id": "BucYchkmkySE",
        "outputId": "c1d4b672-2144-487a-a805-be1c3809ab43"
      }
    },
    {
      "cell_type": "code",
      "execution_count": 226,
      "source": [
        "#Import scikit-learn metrics module for accuracy calculation\r\n",
        "#Calculate the confusion matrix, recall, percision and all over accuracy of the model\r\n",
        "result = confusion_matrix(y_test, y_pred)\r\n",
        "print(\"Confusion Matrix:\")\r\n",
        "print(result)\r\n",
        "result1 = classification_report(y_test, y_pred)\r\n",
        "print(\"Classification Report:\")\r\n",
        "print (result1)\r\n",
        "result2 = accuracy_score(y_test,y_pred)\r\n",
        "print(\"Accuracy Rate :\",metrics.accuracy_score(y_test, y_pred)*100)"
      ],
      "outputs": [
        {
          "output_type": "stream",
          "name": "stdout",
          "text": [
            "Confusion Matrix:\n",
            "[[ 4987   300     1    93]\n",
            " [  439  5703   546   779]\n",
            " [    1   384  7899    78]\n",
            " [  115   572   133 12782]]\n",
            "Classification Report:\n",
            "              precision    recall  f1-score   support\n",
            "\n",
            "           0       0.90      0.93      0.91      5381\n",
            "           1       0.82      0.76      0.79      7467\n",
            "           2       0.92      0.94      0.93      8362\n",
            "           3       0.93      0.94      0.94     13602\n",
            "\n",
            "    accuracy                           0.90     34812\n",
            "   macro avg       0.89      0.89      0.89     34812\n",
            "weighted avg       0.90      0.90      0.90     34812\n",
            "\n",
            "Accuracy Rate : 90.11547742157877\n"
          ]
        }
      ],
      "metadata": {
        "colab": {
          "base_uri": "https://localhost:8080/"
        },
        "id": "dhLECrH-ZHb7",
        "outputId": "a297f0bc-3ca7-4548-c4a1-e16fcdd7c110"
      }
    },
    {
      "cell_type": "code",
      "execution_count": 227,
      "source": [
        "cf =confusion_matrix(y_pred, y_test, labels=[0,2,3,1])\r\n",
        "print(confusion_matrix(y_pred, y_test, labels=[0,2,3,1]))"
      ],
      "outputs": [
        {
          "output_type": "stream",
          "name": "stdout",
          "text": [
            "[[ 4987     1   115   439]\n",
            " [    1  7899   133   546]\n",
            " [   93    78 12782   779]\n",
            " [  300   384   572  5703]]\n"
          ]
        }
      ],
      "metadata": {
        "colab": {
          "base_uri": "https://localhost:8080/"
        },
        "id": "af7LcXfFrbtJ",
        "outputId": "cae79399-6761-482e-bcca-2eeeaaf5065a"
      }
    },
    {
      "cell_type": "code",
      "execution_count": 228,
      "source": [
        "#confusion matrix creation\r\n",
        "LABELS=['0','2','3','1']\r\n",
        "conf_matrix=confusion_matrix(y_test,y_pred)\r\n",
        "\r\n",
        "plt.figure(figsize=(12, 12))\r\n",
        "sns.heatmap(conf_matrix, xticklabels=LABELS,\r\n",
        "yticklabels=LABELS, annot=True, fmt='d');\r\n",
        "plt.title('Confusion matrix')\r\n",
        "plt.ylabel('True class')\r\n",
        "plt.xlabel('Predicted class')\r\n",
        "plt.show()\r\n",
        "\r\n"
      ],
      "outputs": [
        {
          "output_type": "display_data",
          "data": {
            "image/png": "[encoded data removed]",
            "text/plain": [
              "<Figure size 864x864 with 2 Axes>"
            ]
          },
          "metadata": {}
        }
      ],
      "metadata": {
        "colab": {
          "base_uri": "https://localhost:8080/",
          "height": 730
        },
        "id": "jxBCpg84rku7",
        "outputId": "c723c2a7-056a-4daa-b494-5ba43bc7dfee"
      }
    },
    {
      "cell_type": "code",
      "execution_count": 229,
      "source": [
        "#Comparing Error rate with k-value\r\n",
        "error = []\r\n",
        "\r\n",
        "# Calculating error for K values between 1 and 20\r\n",
        "for i in range(1, 20):\r\n",
        "    knn = KNeighborsClassifier(n_neighbors=i)\r\n",
        "    knn.fit(X_train, y_train)\r\n",
        "    pred_i = knn.predict(X_test)\r\n",
        "    error.append(np.mean(pred_i != y_test))"
      ],
      "outputs": [],
      "metadata": {
        "id": "XzI26BZkZqOl"
      }
    },
    {
      "cell_type": "code",
      "execution_count": 230,
      "source": [
        "plt.figure(figsize=(12, 6))\r\n",
        "plt.plot(range(1, 20), error, color='red', linestyle='dashed', marker='o',\r\n",
        "         markerfacecolor='blue', markersize=10)\r\n",
        "plt.title('Error Rate K Value')\r\n",
        "plt.xlabel('K Value')\r\n",
        "plt.ylabel('Mean Error')"
      ],
      "outputs": [
        {
          "output_type": "execute_result",
          "data": {
            "text/plain": [
              "Text(0, 0.5, 'Mean Error')"
            ]
          },
          "metadata": {},
          "execution_count": 230
        },
        {
          "output_type": "display_data",
          "data": {
            "image/png": "[encoded data removed]",
            "text/plain": [
              "<Figure size 864x432 with 1 Axes>"
            ]
          },
          "metadata": {}
        }
      ],
      "metadata": {
        "colab": {
          "base_uri": "https://localhost:8080/",
          "height": 422
        },
        "id": "AJiHdzVuZydT",
        "outputId": "fa379b1a-7bae-4d60-af4a-b29bd70ab57f"
      }
    }
  ]
}