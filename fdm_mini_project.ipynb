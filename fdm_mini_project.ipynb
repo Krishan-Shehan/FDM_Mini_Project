{
 "cells": [
  {
   "cell_type": "code",
   "execution_count": 1,
   "source": [
    "import pandas as pd\r\n",
    "import numpy as np\r\n",
    "from matplotlib import pyplot as plt\r\n",
    "import seaborn as sns\r\n",
    "from scipy import stats"
   ],
   "outputs": [],
   "metadata": {}
  },
  {
   "cell_type": "code",
   "execution_count": 2,
   "source": [
    "df = pd.read_csv(\"housing.csv\")"
   ],
   "outputs": [],
   "metadata": {}
  },
  {
   "cell_type": "code",
   "execution_count": 3,
   "source": [
    "df.info()"
   ],
   "outputs": [
    {
     "output_type": "stream",
     "name": "stdout",
     "text": [
      "<class 'pandas.core.frame.DataFrame'>\n",
      "RangeIndex: 384977 entries, 0 to 384976\n",
      "Data columns (total 22 columns):\n",
      " #   Column                   Non-Null Count   Dtype  \n",
      "---  ------                   --------------   -----  \n",
      " 0   id                       384977 non-null  int64  \n",
      " 1   url                      384977 non-null  object \n",
      " 2   region                   384977 non-null  object \n",
      " 3   region_url               384977 non-null  object \n",
      " 4   price                    384977 non-null  int64  \n",
      " 5   type                     384977 non-null  object \n",
      " 6   sqfeet                   384977 non-null  int64  \n",
      " 7   beds                     384977 non-null  int64  \n",
      " 8   baths                    384977 non-null  float64\n",
      " 9   cats_allowed             384977 non-null  int64  \n",
      " 10  dogs_allowed             384977 non-null  int64  \n",
      " 11  smoking_allowed          384977 non-null  int64  \n",
      " 12  wheelchair_access        384977 non-null  int64  \n",
      " 13  electric_vehicle_charge  384977 non-null  int64  \n",
      " 14  comes_furnished          384977 non-null  int64  \n",
      " 15  laundry_options          305951 non-null  object \n",
      " 16  parking_options          244290 non-null  object \n",
      " 17  image_url                384977 non-null  object \n",
      " 18  description              384975 non-null  object \n",
      " 19  lat                      383059 non-null  float64\n",
      " 20  long                     383059 non-null  float64\n",
      " 21  state                    384977 non-null  object \n",
      "dtypes: float64(3), int64(10), object(9)\n",
      "memory usage: 64.6+ MB\n"
     ]
    }
   ],
   "metadata": {}
  },
  {
   "cell_type": "code",
   "execution_count": 48,
   "source": [
    "df =df.dropna()"
   ],
   "outputs": [],
   "metadata": {}
  },
  {
   "cell_type": "code",
   "execution_count": 5,
   "source": [
    "df.isnull().sum()"
   ],
   "outputs": [
    {
     "output_type": "execute_result",
     "data": {
      "text/plain": [
       "id                         0\n",
       "url                        0\n",
       "region                     0\n",
       "region_url                 0\n",
       "price                      0\n",
       "type                       0\n",
       "sqfeet                     0\n",
       "beds                       0\n",
       "baths                      0\n",
       "cats_allowed               0\n",
       "dogs_allowed               0\n",
       "smoking_allowed            0\n",
       "wheelchair_access          0\n",
       "electric_vehicle_charge    0\n",
       "comes_furnished            0\n",
       "laundry_options            0\n",
       "parking_options            0\n",
       "image_url                  0\n",
       "description                0\n",
       "lat                        0\n",
       "long                       0\n",
       "state                      0\n",
       "dtype: int64"
      ]
     },
     "metadata": {},
     "execution_count": 5
    }
   ],
   "metadata": {}
  },
  {
   "cell_type": "code",
   "execution_count": 6,
   "source": [
    "df.state.unique()"
   ],
   "outputs": [
    {
     "output_type": "execute_result",
     "data": {
      "text/plain": [
       "array(['az', 'ak', 'al', 'ca', 'co', 'ar', 'fl', 'ga', 'id', 'tx', 'ct',\n",
       "       'va', 'ny', 'pa', 'mi', 'md', 'tn', 'sc', 'nd', 'sd', 'oh', 'ms',\n",
       "       'mn', 'il', 'vt', 'wv', 'ma', 'wi', 'ok', 'or', 'wa', 'mo', 'nc',\n",
       "       'ne', 'ia', 'nj', 'nm', 'la', 'mt', 'ky', 'ks', 'in', 'ut', 'wy',\n",
       "       'de', 'nh', 'ri', 'hi', 'nv', 'me', 'dc'], dtype=object)"
      ]
     },
     "metadata": {},
     "execution_count": 6
    }
   ],
   "metadata": {}
  },
  {
   "cell_type": "code",
   "execution_count": 7,
   "source": [
    "df.parking_options.unique()"
   ],
   "outputs": [
    {
     "output_type": "execute_result",
     "data": {
      "text/plain": [
       "array(['carport', 'street parking', 'attached garage',\n",
       "       'off-street parking', 'detached garage', 'no parking',\n",
       "       'valet parking'], dtype=object)"
      ]
     },
     "metadata": {},
     "execution_count": 7
    }
   ],
   "metadata": {}
  },
  {
   "cell_type": "code",
   "execution_count": 8,
   "source": [
    "df.laundry_options.unique()"
   ],
   "outputs": [
    {
     "output_type": "execute_result",
     "data": {
      "text/plain": [
       "array(['laundry on site', 'laundry in bldg', 'w/d in unit', 'w/d hookups',\n",
       "       'no laundry on site'], dtype=object)"
      ]
     },
     "metadata": {},
     "execution_count": 8
    }
   ],
   "metadata": {}
  },
  {
   "cell_type": "code",
   "execution_count": 44,
   "source": [
    "df.type.unique()"
   ],
   "outputs": [
    {
     "output_type": "execute_result",
     "data": {
      "text/plain": [
       "array([0, 1, 2, 3])"
      ]
     },
     "metadata": {},
     "execution_count": 44
    }
   ],
   "metadata": {}
  },
  {
   "cell_type": "code",
   "execution_count": 10,
   "source": [
    "df.region.unique()"
   ],
   "outputs": [
    {
     "output_type": "execute_result",
     "data": {
      "text/plain": [
       "array(['sierra vista', 'anchorage / mat-su', 'mobile', 'fairbanks',\n",
       "       'modesto', 'pueblo', 'huntsville / decatur', 'fayetteville',\n",
       "       'monterey bay', 'treasure coast', 'athens', 'hanford-corcoran',\n",
       "       'pensacola', 'gainesville', 'flagstaff / sedona', 'santa barbara',\n",
       "       'east idaho', 'kenai peninsula', 'western slope', 'amarillo',\n",
       "       'new haven', 'lynchburg', 'hudson valley', 'harrisburg',\n",
       "       'mohave county', 'odessa / midland', 'palm springs', 'bakersfield',\n",
       "       'tallahassee', 'yuma', 'saginaw-midland-baycity',\n",
       "       'southern maryland', 'clarksville', 'florida keys', 'hilton head',\n",
       "       'grand forks', 'jackson', 'ithaca', 'rapid city / west SD',\n",
       "       'lima / findlay', 'scranton / wilkes-barre', 'gulfport / biloxi',\n",
       "       'charlottesville', 'waco', 'panama city', 'rochester',\n",
       "       'san luis obispo', 'southeast alaska', 'mattoon-charleston',\n",
       "       'roanoke', 'york', 'northwest CT', 'vermont', 'harrisonburg',\n",
       "       'morgantown', 'st cloud', 'worcester / central MA', 'wausau',\n",
       "       'north dakota', 'champaign urbana', 'eau claire', 'lawton',\n",
       "       'salem', 'decatur', 'olympic peninsula', 'utica-rome-oneida',\n",
       "       'corvallis/albany', 'springfield', 'eugene', 'wilmington',\n",
       "       'western maryland', 'south coast', 'columbus',\n",
       "       'columbia / jeff city', 'myrtle beach', 'fargo / moorhead',\n",
       "       'oregon coast', 'prescott', 'watertown', 'frederick', 'lincoln',\n",
       "       'tyler / east TX', 'new river valley', 'janesville',\n",
       "       'duluth / superior', 'waterloo / cedar falls', 'glens falls',\n",
       "       'cedar rapids', 'jersey shore', 'mankato', 'texoma', 'binghamton',\n",
       "       'las cruces', 'sioux city', 'monroe', 'billings', 'tuscaloosa',\n",
       "       'western massachusetts', 'annapolis', 'quad cities, IA/IL',\n",
       "       'st joseph', 'bloomington-normal', 'rockford', 'erie',\n",
       "       'lehigh valley', 'state college', 'texarkana', 'jonesboro',\n",
       "       'akron / canton', 'galveston', 'lafayette', 'northern panhandle',\n",
       "       'western KY', 'heartland florida', 'southeast IA', 'santa maria',\n",
       "       'redding', 'gold country', 'ocala', 'manhattan', 'elmira-corning',\n",
       "       'finger lakes', 'eastern shore', 'eastern CT', 'bloomington',\n",
       "       'kalispell', 'boise', 'montgomery', 'st augustine', 'syracuse',\n",
       "       'wenatchee', 'bozeman', 'kokomo', 'brownsville', 'mason city',\n",
       "       'muncie / anderson', 'southern illinois', 'poconos', 'charleston',\n",
       "       'northern michigan', 'eastern NC', 'lafayette / west lafayette',\n",
       "       'south bend / michiana', 'central louisiana', 'laredo',\n",
       "       'okaloosa / walton', 'eastern panhandle', 'deep east texas',\n",
       "       'north mississippi', 'stillwater', 'logan', 'medford-ashland',\n",
       "       'santa fe / taos', 'wichita falls', 'kennewick-pasco-richland',\n",
       "       'bend', 'la crosse', 'muskegon', 'southwest michigan', 'yakima',\n",
       "       'grand island', 'peoria', 'port huron', 'fort wayne', 'merced',\n",
       "       'twin falls', 'topeka', 'missoula', 'dothan', 'space coast',\n",
       "       'danville', 'bismarck', 'beaumont / port arthur', 'high rockies',\n",
       "       'wyoming', 'macon / warner robins', 'kenosha-racine', 'kalamazoo',\n",
       "       'meridian', 'brunswick', 'huntington-ashland', 'sheboygan',\n",
       "       'bemidji', 'ames', 'iowa city', 'jacksonville', 'fort dodge',\n",
       "       'tri-cities', 'joplin', 'fort smith', 'cookeville',\n",
       "       'skagit / island / SJI', 'southeast missouri', 'humboldt county',\n",
       "       'bowling green', 'sioux falls / SE SD', 'houma', 'battle creek',\n",
       "       'appleton-oshkosh-FDL', 'fredericksburg', 'albany', 'lancaster',\n",
       "       'lake charles', 'shreveport', 'flint', 'toledo', 'la salle co',\n",
       "       'hattiesburg', 'great falls', 'reading', 'bellingham', 'lakeland',\n",
       "       'chico', 'mcallen / edinburg', 'williamsport', 'upper peninsula',\n",
       "       'ogden-clearfield', 'lawrence', 'oneonta', 'central michigan',\n",
       "       'lake of the ozarks', 'college station', 'mendocino county',\n",
       "       'long island', 'evansville', 'altoona-johnstown', 'southern WV',\n",
       "       'lubbock', 'yuba-sutter', 'potsdam-canton-massena', 'roseburg',\n",
       "       'pullman / moscow', 'chautauqua', 'southwest VA', 'provo / orem',\n",
       "       'helena', 'florence', 'green bay', 'imperial county', 'auburn',\n",
       "       'plattsburgh-adirondacks', 'siskiyou county', 'southeast KS',\n",
       "       'ann arbor', 'ashtabula', 'northwest GA', 'hartford',\n",
       "       'visalia-tulare', 'dubuque', 'stockton', 'corpus christi',\n",
       "       'valdosta', 'savannah / hinesville', 'cape cod / islands',\n",
       "       'victoria', 'grand rapids', 'moses lake', 'brainerd', 'st george',\n",
       "       'tuscarawas co', 'sandusky', 'holland', 'hickory / lenoir',\n",
       "       'pierre / central SD', 'south dakota', 'roswell / carlsbad',\n",
       "       'salina', 'parkersburg-marietta', 'youngstown', 'outer banks',\n",
       "       'boone', 'chillicothe', 'abilene', 'terre haute', 'klamath falls',\n",
       "       'daytona beach', 'farmington', 'susanville', 'show low',\n",
       "       'eastern montana', 'meadville', 'mansfield', 'san marcos',\n",
       "       'little rock', 'boulder', 'delaware', 'winston-salem', 'lansing',\n",
       "       'north platte', 'new hampshire', 'buffalo', 'san angelo',\n",
       "       'ventura county', 'winchester', 'cumberland valley',\n",
       "       'west virginia (old)', 'northern WI', 'lexington', 'southwest KS',\n",
       "       'richmond', 'killeen / temple / ft hood', 'gadsden-anniston',\n",
       "       'chattanooga', 'north central FL', 'east oregon', 'south jersey',\n",
       "       'southwest TX', 'wichita', 'statesboro', 'southwest MN',\n",
       "       'baton rouge', 'catskills', 'sarasota-bradenton',\n",
       "       'dayton / springfield', 'del rio / eagle pass', 'asheville',\n",
       "       'madison', 'des moines', 'florence / muscle shoals', 'the thumb',\n",
       "       'northwest OK', 'augusta', \"spokane / coeur d'alene\",\n",
       "       'rhode island', 'twin tiers NY/PA', 'birmingham', 'central NJ',\n",
       "       'ft myers / SW florida', 'eastern CO', 'greenville / upstate',\n",
       "       'columbia', 'fort collins / north CO', 'new orleans', 'butte',\n",
       "       'southwest MS', 'zanesville / cambridge', 'clovis / portales',\n",
       "       'western IL', 'lewiston / clarkston', 'medford-ashcondo', 'hawaii',\n",
       "       'elko', 'indianapolis', 'eastern kentucky', 'colorado springs',\n",
       "       'omaha / council bluffs', 'fresno / madera', 'cleveland', 'tulsa',\n",
       "       'knoxville', 'salt lake city', 'milwaukee', 'cincinnati',\n",
       "       'albuquerque', 'maine', 'memphis', 'louisville', 'reno / tahoe',\n",
       "       'lakecondo', 'st louis, MO', 'greensboro', 'tucson',\n",
       "       'scottsbluff / panhandle', 'northwest KS', 'charlotte',\n",
       "       'norfolk / hampton roads', 'nashville', 'pittsburgh',\n",
       "       'raleigh / durham / CH', 'detroit metro', 'rhode iscondo',\n",
       "       'sacramento', 'tampa bay area', 'oklahoma city', 'inland empire',\n",
       "       'kansas city, MO', 'orlando', 'orange county', 'denver',\n",
       "       'san diego', 'atlanta', 'phoenix', 'north jersey',\n",
       "       'washington, DC', 'SF bay area', 'south florida', 'los angeles',\n",
       "       'el paso', 'san antonio', 'minneapolis / st paul', 'baltimore',\n",
       "       'las vegas', 'philadelphia', 'dallas / fort worth', 'austin',\n",
       "       'seattle-tacoma', 'houston', 'kansas city', 'portland',\n",
       "       'kirksville', 'huntington-ashcondo', 'northeast SD', 'boston',\n",
       "       'saginaw-midcondo-baycity', 'owensboro', 'portcondo', 'chicago',\n",
       "       'st louis', 'new york city', 'clevecondo', 'fort smith, AR'],\n",
       "      dtype=object)"
      ]
     },
     "metadata": {},
     "execution_count": 10
    }
   ],
   "metadata": {}
  },
  {
   "cell_type": "code",
   "execution_count": 11,
   "source": [
    "from sklearn.preprocessing import LabelEncoder\r\n",
    "\r\n",
    "le=LabelEncoder()\r\n",
    "df['state']=le.fit(df['state']).transform(df['state'])\r\n",
    "df['parking_options']=le.fit(df['parking_options']).transform(df['parking_options'])\r\n",
    "df['laundry_options']=le.fit(df['laundry_options']).transform(df['laundry_options'])\r\n",
    "df['type']=le.fit(df['type']).transform(df['type'])"
   ],
   "outputs": [],
   "metadata": {}
  },
  {
   "cell_type": "code",
   "execution_count": 13,
   "source": [
    "df[\"pets_allowed\"] = df[\"cats_allowed\"] + df[\"dogs_allowed\"] #do 1st"
   ],
   "outputs": [],
   "metadata": {}
  },
  {
   "cell_type": "code",
   "execution_count": 14,
   "source": [
    "df.pets_allowed[df.pets_allowed == 2] = 1"
   ],
   "outputs": [
    {
     "output_type": "stream",
     "name": "stderr",
     "text": [
      "<ipython-input-14-5bee7a8b1ed8>:1: SettingWithCopyWarning: \n",
      "A value is trying to be set on a copy of a slice from a DataFrame\n",
      "\n",
      "See the caveats in the documentation: https://pandas.pydata.org/pandas-docs/stable/user_guide/indexing.html#returning-a-view-versus-a-copy\n",
      "  df.pets_allowed[df.pets_allowed == 2] = 1\n"
     ]
    }
   ],
   "metadata": {}
  },
  {
   "cell_type": "code",
   "execution_count": 15,
   "source": [
    "df.pets_allowed.unique()"
   ],
   "outputs": [
    {
     "output_type": "execute_result",
     "data": {
      "text/plain": [
       "array([1, 0], dtype=int64)"
      ]
     },
     "metadata": {},
     "execution_count": 15
    }
   ],
   "metadata": {}
  },
  {
   "cell_type": "code",
   "execution_count": 16,
   "source": [
    "df = df.drop(columns =[\"region_url\",\"region\",\"url\",\"lat\",\"long\",\"description\",\"image_url\",\"id\",\"cats_allowed\",\"dogs_allowed\"])"
   ],
   "outputs": [],
   "metadata": {}
  },
  {
   "cell_type": "code",
   "execution_count": 17,
   "source": [
    "df.info()"
   ],
   "outputs": [
    {
     "output_type": "stream",
     "name": "stdout",
     "text": [
      "<class 'pandas.core.frame.DataFrame'>\n",
      "Int64Index: 235969 entries, 2 to 384976\n",
      "Data columns (total 13 columns):\n",
      " #   Column                   Non-Null Count   Dtype  \n",
      "---  ------                   --------------   -----  \n",
      " 0   price                    235969 non-null  int64  \n",
      " 1   type                     235969 non-null  int32  \n",
      " 2   sqfeet                   235969 non-null  int64  \n",
      " 3   beds                     235969 non-null  int64  \n",
      " 4   baths                    235969 non-null  float64\n",
      " 5   smoking_allowed          235969 non-null  int64  \n",
      " 6   wheelchair_access        235969 non-null  int64  \n",
      " 7   electric_vehicle_charge  235969 non-null  int64  \n",
      " 8   comes_furnished          235969 non-null  int64  \n",
      " 9   laundry_options          235969 non-null  int32  \n",
      " 10  parking_options          235969 non-null  int32  \n",
      " 11  state                    235969 non-null  int32  \n",
      " 12  pets_allowed             235969 non-null  int64  \n",
      "dtypes: float64(1), int32(4), int64(8)\n",
      "memory usage: 21.6 MB\n"
     ]
    }
   ],
   "metadata": {}
  },
  {
   "cell_type": "code",
   "execution_count": 34,
   "source": [
    "df.baths.unique()"
   ],
   "outputs": [
    {
     "output_type": "execute_result",
     "data": {
      "text/plain": [
       "array([2, 1, 3, 0, 4, 5, 6, 7, 8])"
      ]
     },
     "metadata": {},
     "execution_count": 34
    }
   ],
   "metadata": {}
  },
  {
   "cell_type": "code",
   "execution_count": 19,
   "source": [
    "df[\"baths\"] = df[\"baths\"].astype(int)"
   ],
   "outputs": [],
   "metadata": {}
  },
  {
   "cell_type": "code",
   "execution_count": 21,
   "source": [
    "sns.boxplot(x=df['state'])"
   ],
   "outputs": [
    {
     "output_type": "execute_result",
     "data": {
      "text/plain": [
       "<AxesSubplot:xlabel='state'>"
      ]
     },
     "metadata": {},
     "execution_count": 21
    },
    {
     "output_type": "display_data",
     "data": {
      "image/png": "[encoded data removed]",
      "text/plain": [
       "<Figure size 432x288 with 1 Axes>"
      ]
     },
     "metadata": {
      "needs_background": "light"
     }
    }
   ],
   "metadata": {}
  },
  {
   "cell_type": "code",
   "execution_count": 22,
   "source": [
    "index_names = df[ (df['state'] >= 38) | (df['state'] <= 9)].index\r\n",
    "\r\n",
    "df.drop(index_names, inplace = True)"
   ],
   "outputs": [],
   "metadata": {}
  },
  {
   "cell_type": "code",
   "execution_count": 23,
   "source": [
    "df.state.unique()"
   ],
   "outputs": [
    {
     "output_type": "execute_result",
     "data": {
      "text/plain": [
       "array([10, 13, 34, 22, 20, 28, 35, 25, 23, 14, 19, 36, 37, 24, 27, 29, 12,\n",
       "       31, 32, 18, 26, 17, 16, 15, 30, 11, 33, 21])"
      ]
     },
     "metadata": {},
     "execution_count": 23
    }
   ],
   "metadata": {}
  },
  {
   "cell_type": "code",
   "execution_count": 36,
   "source": [
    "df.beds.unique()"
   ],
   "outputs": [
    {
     "output_type": "execute_result",
     "data": {
      "text/plain": [
       "array([2, 4, 3, 1, 5, 6, 8, 7], dtype=int64)"
      ]
     },
     "metadata": {},
     "execution_count": 36
    }
   ],
   "metadata": {}
  },
  {
   "cell_type": "code",
   "execution_count": 31,
   "source": [
    "beds = df[ ((df['beds'] > 8) | (df['beds'] < 1 ))].index\r\n",
    "df.drop(beds, inplace = True)"
   ],
   "outputs": [],
   "metadata": {}
  },
  {
   "cell_type": "code",
   "execution_count": 39,
   "source": [
    "df.baths.unique()"
   ],
   "outputs": [
    {
     "output_type": "execute_result",
     "data": {
      "text/plain": [
       "array([2, 1, 3, 4, 5, 6, 7, 8])"
      ]
     },
     "metadata": {},
     "execution_count": 39
    }
   ],
   "metadata": {}
  },
  {
   "cell_type": "code",
   "execution_count": 38,
   "source": [
    "baths = df[ ((df['baths'] > 8) | (df['baths'] < 1 ))].index\r\n",
    "df.drop(baths, inplace = True)"
   ],
   "outputs": [],
   "metadata": {}
  },
  {
   "cell_type": "code",
   "execution_count": 40,
   "source": [
    "df.info()"
   ],
   "outputs": [
    {
     "output_type": "stream",
     "name": "stdout",
     "text": [
      "<class 'pandas.core.frame.DataFrame'>\n",
      "Int64Index: 111851 entries, 25 to 384901\n",
      "Data columns (total 13 columns):\n",
      " #   Column                   Non-Null Count   Dtype\n",
      "---  ------                   --------------   -----\n",
      " 0   price                    111851 non-null  int64\n",
      " 1   type                     111851 non-null  int32\n",
      " 2   sqfeet                   111851 non-null  int64\n",
      " 3   beds                     111851 non-null  int64\n",
      " 4   baths                    111851 non-null  int32\n",
      " 5   smoking_allowed          111851 non-null  int64\n",
      " 6   wheelchair_access        111851 non-null  int64\n",
      " 7   electric_vehicle_charge  111851 non-null  int64\n",
      " 8   comes_furnished          111851 non-null  int64\n",
      " 9   laundry_options          111851 non-null  int32\n",
      " 10  parking_options          111851 non-null  int32\n",
      " 11  state                    111851 non-null  int32\n",
      " 12  pets_allowed             111851 non-null  int64\n",
      "dtypes: int32(5), int64(8)\n",
      "memory usage: 9.8 MB\n"
     ]
    }
   ],
   "metadata": {}
  },
  {
   "cell_type": "code",
   "execution_count": 45,
   "source": [
    "df['type'].value_counts().sum()"
   ],
   "outputs": [
    {
     "output_type": "execute_result",
     "data": {
      "text/plain": [
       "111851"
      ]
     },
     "metadata": {},
     "execution_count": 45
    }
   ],
   "metadata": {}
  },
  {
   "cell_type": "code",
   "execution_count": 46,
   "source": [
    "df.shape"
   ],
   "outputs": [
    {
     "output_type": "execute_result",
     "data": {
      "text/plain": [
       "(111851, 13)"
      ]
     },
     "metadata": {},
     "execution_count": 46
    }
   ],
   "metadata": {}
  },
  {
   "cell_type": "code",
   "execution_count": 53,
   "source": [
    "df.to_csv('Preprocessed_data.csv',index=False) "
   ],
   "outputs": [],
   "metadata": {}
  }
 ],
 "metadata": {
  "orig_nbformat": 4,
  "language_info": {
   "name": "python",
   "version": "3.8.8",
   "mimetype": "text/x-python",
   "codemirror_mode": {
    "name": "ipython",
    "version": 3
   },
   "pygments_lexer": "ipython3",
   "nbconvert_exporter": "python",
   "file_extension": ".py"
  },
  "kernelspec": {
   "name": "python3",
   "display_name": "Python 3.8.8 64-bit ('base': conda)"
  },
  "interpreter": {
   "hash": "b3ba2566441a7c06988d0923437866b63cedc61552a5af99d1f4fb67d367b25f"
  }
 },
 "nbformat": 4,
 "nbformat_minor": 2
}