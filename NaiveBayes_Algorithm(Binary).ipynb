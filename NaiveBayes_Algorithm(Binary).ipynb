{
 "cells": [
  {
   "cell_type": "code",
   "execution_count": 1,
   "source": [
    "\r\n",
    "#Import Libraries\r\n",
    "import pandas as pd\r\n",
    "import numpy as np\r\n",
    "from matplotlib import pyplot as plt\r\n",
    "import seaborn as sns\r\n",
    "from scipy import stats"
   ],
   "outputs": [],
   "metadata": {}
  },
  {
   "cell_type": "code",
   "execution_count": 7,
   "source": [
    "#Read the data set\r\n",
    "df = pd.read_csv(\"Preprocessed_data.csv\")"
   ],
   "outputs": [],
   "metadata": {}
  },
  {
   "cell_type": "code",
   "execution_count": 8,
   "source": [
    "df.drop(df.index[df['baths'] == 0.0], inplace = True)\r\n",
    "\r\n",
    "df.drop(df.index[df['beds'] == 0], inplace = True)\r\n"
   ],
   "outputs": [],
   "metadata": {}
  },
  {
   "cell_type": "code",
   "execution_count": 9,
   "source": [
    "# Import train_test_split function\r\n",
    "from sklearn.model_selection import train_test_split\r\n",
    "\r\n",
    "X=df[['price', 'sqfeet', 'beds', 'baths', 'smoking_allowed', 'wheelchair_access', 'electric_vehicle_charge', 'comes_furnished', 'laundry_options', 'parking_options', 'state']]  # Features\r\n",
    "y=df['pets_allowed']  # Labels\r\n",
    "\r\n",
    "# Split dataset into training set and test set\r\n",
    "X_train, X_test, y_train, y_test = train_test_split(X, y, test_size= 0.25) # 70% training and 30% test"
   ],
   "outputs": [],
   "metadata": {}
  },
  {
   "cell_type": "code",
   "execution_count": 11,
   "source": [
    "#Import Gaussian Naive Bayes model\r\n",
    "from sklearn.naive_bayes import GaussianNB\r\n",
    "\r\n",
    "#Create a Gaussian Classifier\r\n",
    "gnb = GaussianNB()\r\n",
    "\r\n",
    "#Train the model using the training sets\r\n",
    "gnb.fit(X_train, y_train)\r\n",
    "\r\n",
    "#Predict the response for test dataset\r\n",
    "y_pred = gnb.predict(X_test)"
   ],
   "outputs": [],
   "metadata": {}
  },
  {
   "cell_type": "code",
   "execution_count": 13,
   "source": [
    "#Import scikit-learn metrics module for accuracy calculation\r\n",
    "from sklearn import metrics\r\n",
    "\r\n",
    "# Model Accuracy, how often is the classifier correct?\r\n",
    "print(\"Accuracy:\",metrics.accuracy_score(y_test, y_pred) * 100)"
   ],
   "outputs": [
    {
     "output_type": "stream",
     "name": "stdout",
     "text": [
      "Accuracy: 22.77652612380646\n"
     ]
    }
   ],
   "metadata": {}
  },
  {
   "cell_type": "code",
   "execution_count": 15,
   "source": [
    "# Making the Confusion Matrix\r\n",
    "from sklearn.metrics import confusion_matrix\r\n",
    "\r\n",
    "LABELS = ['0', '1']\r\n",
    "\r\n",
    "conf_matrix = confusion_matrix(y_test, y_pred)\r\n",
    "\r\n",
    "plt.figure(figsize=(12, 12))\r\n",
    "sns.heatmap(conf_matrix, xticklabels=LABELS,\r\n",
    "yticklabels=LABELS, annot=True, fmt='d');\r\n",
    "plt.title('Confusion matrix')\r\n",
    "plt.ylabel('True class')\r\n",
    "plt.xlabel('Predicted class')\r\n",
    "plt.show()"
   ],
   "outputs": [
    {
     "output_type": "display_data",
     "data": {
      "image/png": "[encoded data removed]",
      "text/plain": [
       "<Figure size 864x864 with 2 Axes>"
      ]
     },
     "metadata": {
      "needs_background": "light"
     }
    }
   ],
   "metadata": {}
  }
 ],
 "metadata": {
  "orig_nbformat": 4,
  "language_info": {
   "name": "python",
   "version": "3.8.8",
   "mimetype": "text/x-python",
   "codemirror_mode": {
    "name": "ipython",
    "version": 3
   },
   "pygments_lexer": "ipython3",
   "nbconvert_exporter": "python",
   "file_extension": ".py"
  },
  "kernelspec": {
   "name": "python3",
   "display_name": "Python 3.8.8 64-bit ('base': conda)"
  },
  "interpreter": {
   "hash": "a6c63708e3e80dee0890804c83d7ccb1f9596f0c2d494e939f195f13ae4c89c5"
  }
 },
 "nbformat": 4,
 "nbformat_minor": 2
}