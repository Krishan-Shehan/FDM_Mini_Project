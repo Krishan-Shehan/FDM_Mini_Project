{
  "nbformat": 4,
  "nbformat_minor": 2,
  "metadata": {
    "colab": {
      "name": "KNN_Classification Model.ipynb",
      "provenance": [],
      "collapsed_sections": []
    },
    "kernelspec": {
      "name": "python3",
      "display_name": "Python 3.8.8 64-bit ('base': conda)"
    },
    "language_info": {
      "name": "python",
      "version": "3.8.8",
      "mimetype": "text/x-python",
      "codemirror_mode": {
        "name": "ipython",
        "version": 3
      },
      "pygments_lexer": "ipython3",
      "nbconvert_exporter": "python",
      "file_extension": ".py"
    },
    "interpreter": {
      "hash": "0df0ab8b8e3d7153797cb86a5e3dad051cc4c78b3b494fcd1f79beb4f8606e8f"
    }
  },
  "cells": [
    {
      "cell_type": "code",
      "execution_count": 1,
      "source": [
        "import numpy as np\r\n",
        "import sklearn\r\n",
        "import pandas as pd\r\n",
        "from scipy.optimize import minimize\r\n",
        "import matplotlib.pyplot as plt\r\n",
        "%matplotlib inline\r\n",
        "from sklearn import preprocessing\r\n",
        "from sklearn.model_selection import train_test_split\r\n",
        "from sklearn.neighbors import KNeighborsClassifier\r\n",
        "import seaborn as sns\r\n",
        "from sklearn.preprocessing import StandardScaler\r\n",
        "from sklearn import neighbors\r\n",
        "from sklearn.metrics import mean_squared_error \r\n",
        "from math import sqrt\r\n",
        "from sklearn import metrics\r\n",
        "from sklearn.metrics import classification_report, confusion_matrix, accuracy_score"
      ],
      "outputs": [],
      "metadata": {
        "id": "gBS00J2jSGaA"
      }
    },
    {
      "cell_type": "code",
      "execution_count": 2,
      "source": [
        "df = pd.read_csv('Preprocessed_data.csv')"
      ],
      "outputs": [],
      "metadata": {
        "id": "B78Oksn0SQPE"
      }
    },
    {
      "cell_type": "code",
      "execution_count": 3,
      "source": [
        "df.shape"
      ],
      "outputs": [
        {
          "output_type": "execute_result",
          "data": {
            "text/plain": [
              "(116039, 13)"
            ]
          },
          "metadata": {},
          "execution_count": 3
        }
      ],
      "metadata": {
        "colab": {
          "base_uri": "https://localhost:8080/"
        },
        "id": "wq-mKTW9ebk5",
        "outputId": "8d88047e-f9b2-44f9-f907-e1aecbfd25a7"
      }
    },
    {
      "cell_type": "code",
      "execution_count": 4,
      "source": [
        "df['pets_allowed'].unique()\r\n"
      ],
      "outputs": [
        {
          "output_type": "execute_result",
          "data": {
            "text/plain": [
              "array([1, 0], dtype=int64)"
            ]
          },
          "metadata": {},
          "execution_count": 4
        }
      ],
      "metadata": {
        "colab": {
          "base_uri": "https://localhost:8080/"
        },
        "id": "i8i1lyfuSVYD",
        "outputId": "5f991ae4-ab7b-4653-c2c2-c154a2a96dd6"
      }
    },
    {
      "cell_type": "code",
      "execution_count": 5,
      "source": [
        "# using np.ceil to round to\r\n",
        "df['baths']=df['baths'].apply(np.ceil)"
      ],
      "outputs": [],
      "metadata": {
        "id": "qYDic_DDoD58"
      }
    },
    {
      "cell_type": "code",
      "execution_count": 6,
      "source": [
        "df.head()"
      ],
      "outputs": [
        {
          "output_type": "execute_result",
          "data": {
            "text/html": [
              "<div>\n",
              "<style scoped>\n",
              "    .dataframe tbody tr th:only-of-type {\n",
              "        vertical-align: middle;\n",
              "    }\n",
              "\n",
              "    .dataframe tbody tr th {\n",
              "        vertical-align: top;\n",
              "    }\n",
              "\n",
              "    .dataframe thead th {\n",
              "        text-align: right;\n",
              "    }\n",
              "</style>\n",
              "<table border=\"1\" class=\"dataframe\">\n",
              "  <thead>\n",
              "    <tr style=\"text-align: right;\">\n",
              "      <th></th>\n",
              "      <th>price</th>\n",
              "      <th>type</th>\n",
              "      <th>sqfeet</th>\n",
              "      <th>beds</th>\n",
              "      <th>baths</th>\n",
              "      <th>smoking_allowed</th>\n",
              "      <th>wheelchair_access</th>\n",
              "      <th>electric_vehicle_charge</th>\n",
              "      <th>comes_furnished</th>\n",
              "      <th>laundry_options</th>\n",
              "      <th>parking_options</th>\n",
              "      <th>state</th>\n",
              "      <th>pets_allowed</th>\n",
              "    </tr>\n",
              "  </thead>\n",
              "  <tbody>\n",
              "    <tr>\n",
              "      <th>0</th>\n",
              "      <td>1220</td>\n",
              "      <td>0</td>\n",
              "      <td>1232</td>\n",
              "      <td>2</td>\n",
              "      <td>2.0</td>\n",
              "      <td>0</td>\n",
              "      <td>0</td>\n",
              "      <td>0</td>\n",
              "      <td>0</td>\n",
              "      <td>3</td>\n",
              "      <td>4</td>\n",
              "      <td>10</td>\n",
              "      <td>1</td>\n",
              "    </tr>\n",
              "    <tr>\n",
              "      <th>1</th>\n",
              "      <td>1375</td>\n",
              "      <td>0</td>\n",
              "      <td>1232</td>\n",
              "      <td>2</td>\n",
              "      <td>2.0</td>\n",
              "      <td>0</td>\n",
              "      <td>0</td>\n",
              "      <td>0</td>\n",
              "      <td>0</td>\n",
              "      <td>4</td>\n",
              "      <td>4</td>\n",
              "      <td>10</td>\n",
              "      <td>1</td>\n",
              "    </tr>\n",
              "    <tr>\n",
              "      <th>2</th>\n",
              "      <td>870</td>\n",
              "      <td>0</td>\n",
              "      <td>890</td>\n",
              "      <td>2</td>\n",
              "      <td>1.0</td>\n",
              "      <td>0</td>\n",
              "      <td>0</td>\n",
              "      <td>0</td>\n",
              "      <td>0</td>\n",
              "      <td>4</td>\n",
              "      <td>1</td>\n",
              "      <td>13</td>\n",
              "      <td>1</td>\n",
              "    </tr>\n",
              "    <tr>\n",
              "      <th>3</th>\n",
              "      <td>1800</td>\n",
              "      <td>1</td>\n",
              "      <td>2600</td>\n",
              "      <td>4</td>\n",
              "      <td>3.0</td>\n",
              "      <td>1</td>\n",
              "      <td>0</td>\n",
              "      <td>0</td>\n",
              "      <td>0</td>\n",
              "      <td>3</td>\n",
              "      <td>0</td>\n",
              "      <td>10</td>\n",
              "      <td>1</td>\n",
              "    </tr>\n",
              "    <tr>\n",
              "      <th>4</th>\n",
              "      <td>2640</td>\n",
              "      <td>2</td>\n",
              "      <td>982</td>\n",
              "      <td>2</td>\n",
              "      <td>2.0</td>\n",
              "      <td>0</td>\n",
              "      <td>1</td>\n",
              "      <td>0</td>\n",
              "      <td>0</td>\n",
              "      <td>4</td>\n",
              "      <td>2</td>\n",
              "      <td>34</td>\n",
              "      <td>1</td>\n",
              "    </tr>\n",
              "  </tbody>\n",
              "</table>\n",
              "</div>"
            ],
            "text/plain": [
              "   price  type  sqfeet  beds  baths  smoking_allowed  wheelchair_access  \\\n",
              "0   1220     0    1232     2    2.0                0                  0   \n",
              "1   1375     0    1232     2    2.0                0                  0   \n",
              "2    870     0     890     2    1.0                0                  0   \n",
              "3   1800     1    2600     4    3.0                1                  0   \n",
              "4   2640     2     982     2    2.0                0                  1   \n",
              "\n",
              "   electric_vehicle_charge  comes_furnished  laundry_options  parking_options  \\\n",
              "0                        0                0                3                4   \n",
              "1                        0                0                4                4   \n",
              "2                        0                0                4                1   \n",
              "3                        0                0                3                0   \n",
              "4                        0                0                4                2   \n",
              "\n",
              "   state  pets_allowed  \n",
              "0     10             1  \n",
              "1     10             1  \n",
              "2     13             1  \n",
              "3     10             1  \n",
              "4     34             1  "
            ]
          },
          "metadata": {},
          "execution_count": 6
        }
      ],
      "metadata": {
        "colab": {
          "base_uri": "https://localhost:8080/",
          "height": 223
        },
        "id": "dROZd8rSSYLx",
        "outputId": "67d28fb4-eb93-4b34-feb6-8283a93870be"
      }
    },
    {
      "cell_type": "code",
      "execution_count": 7,
      "source": [
        "df.info()"
      ],
      "outputs": [
        {
          "output_type": "stream",
          "name": "stdout",
          "text": [
            "<class 'pandas.core.frame.DataFrame'>\n",
            "RangeIndex: 116039 entries, 0 to 116038\n",
            "Data columns (total 13 columns):\n",
            " #   Column                   Non-Null Count   Dtype  \n",
            "---  ------                   --------------   -----  \n",
            " 0   price                    116039 non-null  int64  \n",
            " 1   type                     116039 non-null  int64  \n",
            " 2   sqfeet                   116039 non-null  int64  \n",
            " 3   beds                     116039 non-null  int64  \n",
            " 4   baths                    116039 non-null  float64\n",
            " 5   smoking_allowed          116039 non-null  int64  \n",
            " 6   wheelchair_access        116039 non-null  int64  \n",
            " 7   electric_vehicle_charge  116039 non-null  int64  \n",
            " 8   comes_furnished          116039 non-null  int64  \n",
            " 9   laundry_options          116039 non-null  int64  \n",
            " 10  parking_options          116039 non-null  int64  \n",
            " 11  state                    116039 non-null  int64  \n",
            " 12  pets_allowed             116039 non-null  int64  \n",
            "dtypes: float64(1), int64(12)\n",
            "memory usage: 11.5 MB\n"
          ]
        }
      ],
      "metadata": {
        "colab": {
          "base_uri": "https://localhost:8080/"
        },
        "id": "3S8df7hLSaVT",
        "outputId": "22a94bab-f4b2-4b16-c8a9-adb3d45ef76c"
      }
    },
    {
      "cell_type": "code",
      "execution_count": 8,
      "source": [
        "x_data = df[['price', 'sqfeet', 'beds', 'baths', 'smoking_allowed', 'wheelchair_access', 'electric_vehicle_charge', 'comes_furnished', 'laundry_options', 'parking_options', 'state']]  # Features\r\n",
        "x_data.head()"
      ],
      "outputs": [
        {
          "output_type": "execute_result",
          "data": {
            "text/html": [
              "<div>\n",
              "<style scoped>\n",
              "    .dataframe tbody tr th:only-of-type {\n",
              "        vertical-align: middle;\n",
              "    }\n",
              "\n",
              "    .dataframe tbody tr th {\n",
              "        vertical-align: top;\n",
              "    }\n",
              "\n",
              "    .dataframe thead th {\n",
              "        text-align: right;\n",
              "    }\n",
              "</style>\n",
              "<table border=\"1\" class=\"dataframe\">\n",
              "  <thead>\n",
              "    <tr style=\"text-align: right;\">\n",
              "      <th></th>\n",
              "      <th>price</th>\n",
              "      <th>sqfeet</th>\n",
              "      <th>beds</th>\n",
              "      <th>baths</th>\n",
              "      <th>smoking_allowed</th>\n",
              "      <th>wheelchair_access</th>\n",
              "      <th>electric_vehicle_charge</th>\n",
              "      <th>comes_furnished</th>\n",
              "      <th>laundry_options</th>\n",
              "      <th>parking_options</th>\n",
              "      <th>state</th>\n",
              "    </tr>\n",
              "  </thead>\n",
              "  <tbody>\n",
              "    <tr>\n",
              "      <th>0</th>\n",
              "      <td>1220</td>\n",
              "      <td>1232</td>\n",
              "      <td>2</td>\n",
              "      <td>2.0</td>\n",
              "      <td>0</td>\n",
              "      <td>0</td>\n",
              "      <td>0</td>\n",
              "      <td>0</td>\n",
              "      <td>3</td>\n",
              "      <td>4</td>\n",
              "      <td>10</td>\n",
              "    </tr>\n",
              "    <tr>\n",
              "      <th>1</th>\n",
              "      <td>1375</td>\n",
              "      <td>1232</td>\n",
              "      <td>2</td>\n",
              "      <td>2.0</td>\n",
              "      <td>0</td>\n",
              "      <td>0</td>\n",
              "      <td>0</td>\n",
              "      <td>0</td>\n",
              "      <td>4</td>\n",
              "      <td>4</td>\n",
              "      <td>10</td>\n",
              "    </tr>\n",
              "    <tr>\n",
              "      <th>2</th>\n",
              "      <td>870</td>\n",
              "      <td>890</td>\n",
              "      <td>2</td>\n",
              "      <td>1.0</td>\n",
              "      <td>0</td>\n",
              "      <td>0</td>\n",
              "      <td>0</td>\n",
              "      <td>0</td>\n",
              "      <td>4</td>\n",
              "      <td>1</td>\n",
              "      <td>13</td>\n",
              "    </tr>\n",
              "    <tr>\n",
              "      <th>3</th>\n",
              "      <td>1800</td>\n",
              "      <td>2600</td>\n",
              "      <td>4</td>\n",
              "      <td>3.0</td>\n",
              "      <td>1</td>\n",
              "      <td>0</td>\n",
              "      <td>0</td>\n",
              "      <td>0</td>\n",
              "      <td>3</td>\n",
              "      <td>0</td>\n",
              "      <td>10</td>\n",
              "    </tr>\n",
              "    <tr>\n",
              "      <th>4</th>\n",
              "      <td>2640</td>\n",
              "      <td>982</td>\n",
              "      <td>2</td>\n",
              "      <td>2.0</td>\n",
              "      <td>0</td>\n",
              "      <td>1</td>\n",
              "      <td>0</td>\n",
              "      <td>0</td>\n",
              "      <td>4</td>\n",
              "      <td>2</td>\n",
              "      <td>34</td>\n",
              "    </tr>\n",
              "  </tbody>\n",
              "</table>\n",
              "</div>"
            ],
            "text/plain": [
              "   price  sqfeet  beds  baths  smoking_allowed  wheelchair_access  \\\n",
              "0   1220    1232     2    2.0                0                  0   \n",
              "1   1375    1232     2    2.0                0                  0   \n",
              "2    870     890     2    1.0                0                  0   \n",
              "3   1800    2600     4    3.0                1                  0   \n",
              "4   2640     982     2    2.0                0                  1   \n",
              "\n",
              "   electric_vehicle_charge  comes_furnished  laundry_options  parking_options  \\\n",
              "0                        0                0                3                4   \n",
              "1                        0                0                4                4   \n",
              "2                        0                0                4                1   \n",
              "3                        0                0                3                0   \n",
              "4                        0                0                4                2   \n",
              "\n",
              "   state  \n",
              "0     10  \n",
              "1     10  \n",
              "2     13  \n",
              "3     10  \n",
              "4     34  "
            ]
          },
          "metadata": {},
          "execution_count": 8
        }
      ],
      "metadata": {
        "colab": {
          "base_uri": "https://localhost:8080/",
          "height": 223
        },
        "id": "2wRSkKABSw8h",
        "outputId": "d15664c9-cdd1-4d78-969b-f52bc6390f7e"
      }
    },
    {
      "cell_type": "code",
      "execution_count": 9,
      "source": [
        "y_data = df['pets_allowed']"
      ],
      "outputs": [],
      "metadata": {
        "id": "X6sGZMCTh5kk"
      }
    },
    {
      "cell_type": "code",
      "execution_count": 10,
      "source": [
        "MinMaxScaler = preprocessing.MinMaxScaler()\r\n",
        "X_data_minmax = MinMaxScaler.fit_transform(x_data)\r\n",
        "data = pd.DataFrame(X_data_minmax,columns=['price', 'sqfeet', 'beds', 'baths', 'smoking_allowed', 'wheelchair_access','electric_vehicle_charge', 'comes_furnished', 'laundry_options', 'parking_options', 'state'])\r\n",
        "df.head()"
      ],
      "outputs": [
        {
          "output_type": "execute_result",
          "data": {
            "text/html": [
              "<div>\n",
              "<style scoped>\n",
              "    .dataframe tbody tr th:only-of-type {\n",
              "        vertical-align: middle;\n",
              "    }\n",
              "\n",
              "    .dataframe tbody tr th {\n",
              "        vertical-align: top;\n",
              "    }\n",
              "\n",
              "    .dataframe thead th {\n",
              "        text-align: right;\n",
              "    }\n",
              "</style>\n",
              "<table border=\"1\" class=\"dataframe\">\n",
              "  <thead>\n",
              "    <tr style=\"text-align: right;\">\n",
              "      <th></th>\n",
              "      <th>price</th>\n",
              "      <th>type</th>\n",
              "      <th>sqfeet</th>\n",
              "      <th>beds</th>\n",
              "      <th>baths</th>\n",
              "      <th>smoking_allowed</th>\n",
              "      <th>wheelchair_access</th>\n",
              "      <th>electric_vehicle_charge</th>\n",
              "      <th>comes_furnished</th>\n",
              "      <th>laundry_options</th>\n",
              "      <th>parking_options</th>\n",
              "      <th>state</th>\n",
              "      <th>pets_allowed</th>\n",
              "    </tr>\n",
              "  </thead>\n",
              "  <tbody>\n",
              "    <tr>\n",
              "      <th>0</th>\n",
              "      <td>1220</td>\n",
              "      <td>0</td>\n",
              "      <td>1232</td>\n",
              "      <td>2</td>\n",
              "      <td>2.0</td>\n",
              "      <td>0</td>\n",
              "      <td>0</td>\n",
              "      <td>0</td>\n",
              "      <td>0</td>\n",
              "      <td>3</td>\n",
              "      <td>4</td>\n",
              "      <td>10</td>\n",
              "      <td>1</td>\n",
              "    </tr>\n",
              "    <tr>\n",
              "      <th>1</th>\n",
              "      <td>1375</td>\n",
              "      <td>0</td>\n",
              "      <td>1232</td>\n",
              "      <td>2</td>\n",
              "      <td>2.0</td>\n",
              "      <td>0</td>\n",
              "      <td>0</td>\n",
              "      <td>0</td>\n",
              "      <td>0</td>\n",
              "      <td>4</td>\n",
              "      <td>4</td>\n",
              "      <td>10</td>\n",
              "      <td>1</td>\n",
              "    </tr>\n",
              "    <tr>\n",
              "      <th>2</th>\n",
              "      <td>870</td>\n",
              "      <td>0</td>\n",
              "      <td>890</td>\n",
              "      <td>2</td>\n",
              "      <td>1.0</td>\n",
              "      <td>0</td>\n",
              "      <td>0</td>\n",
              "      <td>0</td>\n",
              "      <td>0</td>\n",
              "      <td>4</td>\n",
              "      <td>1</td>\n",
              "      <td>13</td>\n",
              "      <td>1</td>\n",
              "    </tr>\n",
              "    <tr>\n",
              "      <th>3</th>\n",
              "      <td>1800</td>\n",
              "      <td>1</td>\n",
              "      <td>2600</td>\n",
              "      <td>4</td>\n",
              "      <td>3.0</td>\n",
              "      <td>1</td>\n",
              "      <td>0</td>\n",
              "      <td>0</td>\n",
              "      <td>0</td>\n",
              "      <td>3</td>\n",
              "      <td>0</td>\n",
              "      <td>10</td>\n",
              "      <td>1</td>\n",
              "    </tr>\n",
              "    <tr>\n",
              "      <th>4</th>\n",
              "      <td>2640</td>\n",
              "      <td>2</td>\n",
              "      <td>982</td>\n",
              "      <td>2</td>\n",
              "      <td>2.0</td>\n",
              "      <td>0</td>\n",
              "      <td>1</td>\n",
              "      <td>0</td>\n",
              "      <td>0</td>\n",
              "      <td>4</td>\n",
              "      <td>2</td>\n",
              "      <td>34</td>\n",
              "      <td>1</td>\n",
              "    </tr>\n",
              "  </tbody>\n",
              "</table>\n",
              "</div>"
            ],
            "text/plain": [
              "   price  type  sqfeet  beds  baths  smoking_allowed  wheelchair_access  \\\n",
              "0   1220     0    1232     2    2.0                0                  0   \n",
              "1   1375     0    1232     2    2.0                0                  0   \n",
              "2    870     0     890     2    1.0                0                  0   \n",
              "3   1800     1    2600     4    3.0                1                  0   \n",
              "4   2640     2     982     2    2.0                0                  1   \n",
              "\n",
              "   electric_vehicle_charge  comes_furnished  laundry_options  parking_options  \\\n",
              "0                        0                0                3                4   \n",
              "1                        0                0                4                4   \n",
              "2                        0                0                4                1   \n",
              "3                        0                0                3                0   \n",
              "4                        0                0                4                2   \n",
              "\n",
              "   state  pets_allowed  \n",
              "0     10             1  \n",
              "1     10             1  \n",
              "2     13             1  \n",
              "3     10             1  \n",
              "4     34             1  "
            ]
          },
          "metadata": {},
          "execution_count": 10
        }
      ],
      "metadata": {
        "colab": {
          "base_uri": "https://localhost:8080/",
          "height": 223
        },
        "id": "YBl6jLmq8Dj9",
        "outputId": "e2d7c051-69c3-4b9c-97e7-6ddf00947311"
      }
    },
    {
      "cell_type": "code",
      "execution_count": 11,
      "source": [
        "#Splitting the data set into Train set & Test set\r\n",
        "X_train, X_test, y_train, y_test = train_test_split(data, y_data,test_size=0.25, random_state = 1)\r\n",
        "knn_clf=KNeighborsClassifier()\r\n",
        "knn_clf.fit(X_train,y_train)\r\n",
        "ypred=knn_clf.predict(X_test) #These are the predicted output values"
      ],
      "outputs": [],
      "metadata": {
        "id": "O9E2r7T-TkDW"
      }
    },
    {
      "cell_type": "code",
      "execution_count": 12,
      "source": [
        "X_test.head()"
      ],
      "outputs": [
        {
          "output_type": "execute_result",
          "data": {
            "text/html": [
              "<div>\n",
              "<style scoped>\n",
              "    .dataframe tbody tr th:only-of-type {\n",
              "        vertical-align: middle;\n",
              "    }\n",
              "\n",
              "    .dataframe tbody tr th {\n",
              "        vertical-align: top;\n",
              "    }\n",
              "\n",
              "    .dataframe thead th {\n",
              "        text-align: right;\n",
              "    }\n",
              "</style>\n",
              "<table border=\"1\" class=\"dataframe\">\n",
              "  <thead>\n",
              "    <tr style=\"text-align: right;\">\n",
              "      <th></th>\n",
              "      <th>price</th>\n",
              "      <th>sqfeet</th>\n",
              "      <th>beds</th>\n",
              "      <th>baths</th>\n",
              "      <th>smoking_allowed</th>\n",
              "      <th>wheelchair_access</th>\n",
              "      <th>electric_vehicle_charge</th>\n",
              "      <th>comes_furnished</th>\n",
              "      <th>laundry_options</th>\n",
              "      <th>parking_options</th>\n",
              "      <th>state</th>\n",
              "    </tr>\n",
              "  </thead>\n",
              "  <tbody>\n",
              "    <tr>\n",
              "      <th>77188</th>\n",
              "      <td>5.147550e-07</td>\n",
              "      <td>0.000119</td>\n",
              "      <td>0.25</td>\n",
              "      <td>0.250</td>\n",
              "      <td>1.0</td>\n",
              "      <td>0.0</td>\n",
              "      <td>0.0</td>\n",
              "      <td>0.0</td>\n",
              "      <td>0.25</td>\n",
              "      <td>0.666667</td>\n",
              "      <td>0.148148</td>\n",
              "    </tr>\n",
              "    <tr>\n",
              "      <th>115641</th>\n",
              "      <td>5.906136e-07</td>\n",
              "      <td>0.000057</td>\n",
              "      <td>0.00</td>\n",
              "      <td>0.125</td>\n",
              "      <td>0.0</td>\n",
              "      <td>1.0</td>\n",
              "      <td>1.0</td>\n",
              "      <td>0.0</td>\n",
              "      <td>1.00</td>\n",
              "      <td>0.000000</td>\n",
              "      <td>1.000000</td>\n",
              "    </tr>\n",
              "    <tr>\n",
              "      <th>100123</th>\n",
              "      <td>2.438313e-07</td>\n",
              "      <td>0.000094</td>\n",
              "      <td>0.25</td>\n",
              "      <td>0.125</td>\n",
              "      <td>1.0</td>\n",
              "      <td>0.0</td>\n",
              "      <td>0.0</td>\n",
              "      <td>0.0</td>\n",
              "      <td>0.25</td>\n",
              "      <td>0.666667</td>\n",
              "      <td>0.629630</td>\n",
              "    </tr>\n",
              "    <tr>\n",
              "      <th>79518</th>\n",
              "      <td>6.845338e-07</td>\n",
              "      <td>0.000194</td>\n",
              "      <td>0.50</td>\n",
              "      <td>0.500</td>\n",
              "      <td>0.0</td>\n",
              "      <td>0.0</td>\n",
              "      <td>0.0</td>\n",
              "      <td>0.0</td>\n",
              "      <td>1.00</td>\n",
              "      <td>0.000000</td>\n",
              "      <td>0.481481</td>\n",
              "    </tr>\n",
              "    <tr>\n",
              "      <th>47297</th>\n",
              "      <td>2.344393e-07</td>\n",
              "      <td>0.000117</td>\n",
              "      <td>0.25</td>\n",
              "      <td>0.125</td>\n",
              "      <td>1.0</td>\n",
              "      <td>0.0</td>\n",
              "      <td>0.0</td>\n",
              "      <td>0.0</td>\n",
              "      <td>0.00</td>\n",
              "      <td>0.166667</td>\n",
              "      <td>0.444444</td>\n",
              "    </tr>\n",
              "  </tbody>\n",
              "</table>\n",
              "</div>"
            ],
            "text/plain": [
              "               price    sqfeet  beds  baths  smoking_allowed  \\\n",
              "77188   5.147550e-07  0.000119  0.25  0.250              1.0   \n",
              "115641  5.906136e-07  0.000057  0.00  0.125              0.0   \n",
              "100123  2.438313e-07  0.000094  0.25  0.125              1.0   \n",
              "79518   6.845338e-07  0.000194  0.50  0.500              0.0   \n",
              "47297   2.344393e-07  0.000117  0.25  0.125              1.0   \n",
              "\n",
              "        wheelchair_access  electric_vehicle_charge  comes_furnished  \\\n",
              "77188                 0.0                      0.0              0.0   \n",
              "115641                1.0                      1.0              0.0   \n",
              "100123                0.0                      0.0              0.0   \n",
              "79518                 0.0                      0.0              0.0   \n",
              "47297                 0.0                      0.0              0.0   \n",
              "\n",
              "        laundry_options  parking_options     state  \n",
              "77188              0.25         0.666667  0.148148  \n",
              "115641             1.00         0.000000  1.000000  \n",
              "100123             0.25         0.666667  0.629630  \n",
              "79518              1.00         0.000000  0.481481  \n",
              "47297              0.00         0.166667  0.444444  "
            ]
          },
          "metadata": {},
          "execution_count": 12
        }
      ],
      "metadata": {
        "colab": {
          "base_uri": "https://localhost:8080/",
          "height": 307
        },
        "id": "kS_naaHnTpTL",
        "outputId": "eb078d31-0785-419d-c25f-072898df2039"
      }
    },
    {
      "cell_type": "code",
      "execution_count": 13,
      "source": [
        "#the scaler model\r\n",
        "\r\n",
        "scaler = StandardScaler()\r\n",
        "\r\n",
        "#fitting and standardization\r\n",
        "\r\n",
        "train_scaled = scaler.fit_transform(X_train)\r\n",
        "\r\n",
        "test_scaled = scaler.transform(X_test)"
      ],
      "outputs": [],
      "metadata": {
        "id": "60zSDNlLqzBH"
      }
    },
    {
      "cell_type": "code",
      "execution_count": 14,
      "source": [
        "#to store rmse values for different k\r\n",
        "rmse_val = []\r\n",
        "#try running from k=1 through 20 and record testing accuracy\r\n",
        "for K in range(20):\r\n",
        "    K = K+1\r\n",
        "    model = neighbors.KNeighborsRegressor(n_neighbors = K)\r\n",
        "\r\n",
        "    #fit the model\r\n",
        "    model.fit(X_train, y_train) \r\n",
        "\r\n",
        "    #make prediction on test set\r\n",
        "    pred=model.predict(X_test)\r\n",
        "\r\n",
        "    #calculate rmse\r\n",
        "    error = sqrt(mean_squared_error(y_test,pred)) \r\n",
        "\r\n",
        "    #store rmse values\r\n",
        "    rmse_val.append(error) \r\n",
        "    print('RMSE value for k = ' , K , 'is :', error)"
      ],
      "outputs": [
        {
          "output_type": "stream",
          "name": "stdout",
          "text": [
            "RMSE value for k =  1 is : 0.34644996276185464\n",
            "RMSE value for k =  2 is : 0.3208136630687387\n",
            "RMSE value for k =  3 is : 0.3149230527703361\n",
            "RMSE value for k =  4 is : 0.3137415014759167\n",
            "RMSE value for k =  5 is : 0.3140839725506029\n",
            "RMSE value for k =  6 is : 0.3147618649047235\n",
            "RMSE value for k =  7 is : 0.3165423934856635\n",
            "RMSE value for k =  8 is : 0.31818975729540333\n",
            "RMSE value for k =  9 is : 0.31918403742512064\n",
            "RMSE value for k =  10 is : 0.3206169724447669\n",
            "RMSE value for k =  11 is : 0.32178466702022146\n",
            "RMSE value for k =  12 is : 0.32300847169565305\n",
            "RMSE value for k =  13 is : 0.32447784773915206\n",
            "RMSE value for k =  14 is : 0.32568746601241916\n",
            "RMSE value for k =  15 is : 0.32674026658464633\n",
            "RMSE value for k =  16 is : 0.3277114736766436\n",
            "RMSE value for k =  17 is : 0.32877158485416647\n",
            "RMSE value for k =  18 is : 0.329723711786135\n",
            "RMSE value for k =  19 is : 0.3306336249267029\n",
            "RMSE value for k =  20 is : 0.33178263048532464\n"
          ]
        }
      ],
      "metadata": {
        "colab": {
          "base_uri": "https://localhost:8080/"
        },
        "id": "70qo7N0ATv51",
        "outputId": "6cb15201-96aa-4a7a-f4b8-9726706e636e"
      }
    },
    {
      "cell_type": "code",
      "execution_count": 15,
      "source": [
        "#plotting the rmse values against k values\r\n",
        "curve = pd.DataFrame(rmse_val) #elbow curve \r\n",
        "curve.plot()"
      ],
      "outputs": [
        {
          "output_type": "execute_result",
          "data": {
            "text/plain": [
              "<AxesSubplot:>"
            ]
          },
          "metadata": {},
          "execution_count": 15
        },
        {
          "output_type": "display_data",
          "data": {
            "image/png": "[encoded data removed]",
            "text/plain": [
              "<Figure size 432x288 with 1 Axes>"
            ]
          },
          "metadata": {
            "needs_background": "light"
          }
        }
      ],
      "metadata": {
        "colab": {
          "base_uri": "https://localhost:8080/",
          "height": 282
        },
        "id": "IlQb1-JBUoID",
        "outputId": "cae119ac-c7af-4edd-c9c3-960fa354c92c"
      }
    },
    {
      "cell_type": "code",
      "execution_count": 32,
      "source": [
        "#Traiing\r\n",
        "#Create KNN Classifier: k=0.314\r\n",
        "classifier = KNeighborsClassifier(n_neighbors=3)\r\n",
        "classifier.fit(X_train, y_train)"
      ],
      "outputs": [
        {
          "output_type": "execute_result",
          "data": {
            "text/plain": [
              "KNeighborsClassifier(n_neighbors=3)"
            ]
          },
          "metadata": {},
          "execution_count": 32
        }
      ],
      "metadata": {
        "colab": {
          "base_uri": "https://localhost:8080/"
        },
        "id": "7748Z8btVphl",
        "outputId": "ba7ac024-7a8f-4ece-efda-44b6322938de"
      }
    },
    {
      "cell_type": "code",
      "execution_count": 33,
      "source": [
        "#Prediction\r\n",
        "y_pred = classifier.predict(X_test)"
      ],
      "outputs": [],
      "metadata": {
        "id": "EMQSO0sKVuqR"
      }
    },
    {
      "cell_type": "code",
      "execution_count": 34,
      "source": [
        "y_pred"
      ],
      "outputs": [
        {
          "output_type": "execute_result",
          "data": {
            "text/plain": [
              "array([1, 1, 1, ..., 0, 1, 1], dtype=int64)"
            ]
          },
          "metadata": {},
          "execution_count": 34
        }
      ],
      "metadata": {
        "colab": {
          "base_uri": "https://localhost:8080/"
        },
        "id": "zUHsnxgqDFph",
        "outputId": "d9d49023-e07f-4337-e115-4ae921face66"
      }
    },
    {
      "cell_type": "code",
      "execution_count": 35,
      "source": [
        "#Import scikit-learn metrics module for accuracy calculation\r\n",
        "# Model Accuracy, how often is the classifier correct?\r\n",
        "print(\"Accuracy Rate :\",metrics.accuracy_score(y_test, y_pred)*100)"
      ],
      "outputs": [
        {
          "output_type": "stream",
          "name": "stdout",
          "text": [
            "Accuracy Rate : 86.98724577731817\n"
          ]
        }
      ],
      "metadata": {
        "colab": {
          "base_uri": "https://localhost:8080/"
        },
        "id": "BucYchkmkySE",
        "outputId": "b870cbb9-1037-4694-d60f-b384050ab8a4"
      }
    },
    {
      "cell_type": "code",
      "execution_count": 36,
      "source": [
        "#Import scikit-learn metrics module for accuracy calculation\r\n",
        "#Calculate the confusion matrix, recall, percision and all over accuracy of the model\r\n",
        "result = confusion_matrix(y_test, y_pred)\r\n",
        "print(\"Confusion Matrix:\")\r\n",
        "print(result)\r\n",
        "result1 = classification_report(y_test, y_pred)\r\n",
        "print(\"Classification Report:\")\r\n",
        "print (result1)\r\n",
        "result2 = accuracy_score(y_test,y_pred)\r\n",
        "print(\"Accuracy Rate :\",metrics.accuracy_score(y_test, y_pred)*100)"
      ],
      "outputs": [
        {
          "output_type": "stream",
          "name": "stdout",
          "text": [
            "Confusion Matrix:\n",
            "[[ 4290  2242]\n",
            " [ 1533 20945]]\n",
            "Classification Report:\n",
            "              precision    recall  f1-score   support\n",
            "\n",
            "           0       0.74      0.66      0.69      6532\n",
            "           1       0.90      0.93      0.92     22478\n",
            "\n",
            "    accuracy                           0.87     29010\n",
            "   macro avg       0.82      0.79      0.81     29010\n",
            "weighted avg       0.87      0.87      0.87     29010\n",
            "\n",
            "Accuracy Rate : 86.98724577731817\n"
          ]
        }
      ],
      "metadata": {
        "colab": {
          "base_uri": "https://localhost:8080/"
        },
        "id": "dhLECrH-ZHb7",
        "outputId": "1477d827-1043-4abc-f81a-a7ac147a7ca6"
      }
    },
    {
      "cell_type": "code",
      "execution_count": 21,
      "source": [
        "cf =confusion_matrix(y_pred, y_test, labels=[0,1])\r\n",
        "print(confusion_matrix(y_pred, y_test, labels=[0,1]))"
      ],
      "outputs": [
        {
          "output_type": "stream",
          "name": "stdout",
          "text": [
            "[[ 4290  1533]\n",
            " [ 2242 20945]]\n"
          ]
        }
      ],
      "metadata": {
        "colab": {
          "base_uri": "https://localhost:8080/"
        },
        "id": "af7LcXfFrbtJ",
        "outputId": "08510170-88f8-40c8-e386-989c870137c7"
      }
    },
    {
      "cell_type": "code",
      "execution_count": 37,
      "source": [
        "#confusion matrix creation\r\n",
        "LABELS=['0','1']\r\n",
        "conf_matrix=confusion_matrix(y_test,y_pred)\r\n",
        "\r\n",
        "plt.figure(figsize=(12, 12))\r\n",
        "sns.heatmap(conf_matrix, xticklabels=LABELS,\r\n",
        "yticklabels=LABELS, annot=True, fmt='d');\r\n",
        "plt.title('Confusion matrix')\r\n",
        "plt.ylabel('True class')\r\n",
        "plt.xlabel('Predicted class')\r\n",
        "plt.show()\r\n",
        "\r\n"
      ],
      "outputs": [
        {
          "output_type": "display_data",
          "data": {
            "image/png": "[encoded data removed]",
            "text/plain": [
              "<Figure size 864x864 with 2 Axes>"
            ]
          },
          "metadata": {
            "needs_background": "light"
          }
        }
      ],
      "metadata": {
        "colab": {
          "base_uri": "https://localhost:8080/",
          "height": 730
        },
        "id": "jxBCpg84rku7",
        "outputId": "01c70af0-ceb0-465a-db0a-bd523efa48ae"
      }
    },
    {
      "cell_type": "code",
      "execution_count": 38,
      "source": [
        "#Comparing Error rate with k-value\r\n",
        "error = []\r\n",
        "\r\n",
        "# Calculating error for K values between 1 and 20\r\n",
        "for i in range(1, 20):\r\n",
        "    knn = KNeighborsClassifier(n_neighbors=i)\r\n",
        "    knn.fit(X_train, y_train)\r\n",
        "    pred_i = knn.predict(X_test)\r\n",
        "    error.append(np.mean(pred_i != y_test))"
      ],
      "outputs": [],
      "metadata": {
        "id": "XzI26BZkZqOl"
      }
    },
    {
      "cell_type": "code",
      "execution_count": 39,
      "source": [
        "plt.figure(figsize=(12, 6))\r\n",
        "plt.plot(range(1, 20), error, color='red', linestyle='dashed', marker='o',\r\n",
        "         markerfacecolor='blue', markersize=10)\r\n",
        "plt.title('Error Rate K Value')\r\n",
        "plt.xlabel('K Value')\r\n",
        "plt.ylabel('Mean Error')"
      ],
      "outputs": [
        {
          "output_type": "execute_result",
          "data": {
            "text/plain": [
              "Text(0, 0.5, 'Mean Error')"
            ]
          },
          "metadata": {},
          "execution_count": 39
        },
        {
          "output_type": "display_data",
          "data": {
            "image/png": "[encoded data removed]",
            "text/plain": [
              "<Figure size 864x432 with 1 Axes>"
            ]
          },
          "metadata": {
            "needs_background": "light"
          }
        }
      ],
      "metadata": {
        "colab": {
          "base_uri": "https://localhost:8080/",
          "height": 422
        },
        "id": "AJiHdzVuZydT",
        "outputId": "0f6242b2-f27a-4fc0-d4cf-23afb11e9f11"
      }
    }
  ]
}