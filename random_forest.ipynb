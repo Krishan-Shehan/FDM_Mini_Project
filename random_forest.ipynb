{
 "cells": [
  {
   "cell_type": "markdown",
   "source": [
    "PRE-PROCESSED DATA SET USED"
   ],
   "metadata": {}
  },
  {
   "cell_type": "code",
   "execution_count": 1,
   "source": [
    "import pandas as pd\r\n",
    "import numpy as np\r\n",
    "from matplotlib import pyplot as plt\r\n",
    "import seaborn as sns\r\n",
    "from scipy import stats"
   ],
   "outputs": [],
   "metadata": {}
  },
  {
   "cell_type": "code",
   "execution_count": 2,
   "source": [
    "df = pd.read_csv(\"E:/SLIIT/3RD YEAR 2ND SEM/Fundamentals of Data Mining/GIT-FDM/Nethmi/NEW_preprocessed_data.csv\")"
   ],
   "outputs": [],
   "metadata": {}
  },
  {
   "cell_type": "code",
   "execution_count": 3,
   "source": [
    "df['beds'].value_counts()"
   ],
   "outputs": [
    {
     "output_type": "execute_result",
     "data": {
      "text/plain": [
       "2    54487\n",
       "1    32332\n",
       "3    21310\n",
       "4     3687\n",
       "0     3539\n",
       "5      539\n",
       "6      114\n",
       "7       17\n",
       "8       14\n",
       "Name: beds, dtype: int64"
      ]
     },
     "metadata": {},
     "execution_count": 3
    }
   ],
   "metadata": {}
  },
  {
   "cell_type": "code",
   "execution_count": 4,
   "source": [
    "df.drop(df.index[df['baths'] == 0.0], inplace = True)"
   ],
   "outputs": [],
   "metadata": {}
  },
  {
   "cell_type": "code",
   "execution_count": 5,
   "source": [
    "df.drop(df.index[df['beds'] == 0], inplace = True)"
   ],
   "outputs": [],
   "metadata": {}
  },
  {
   "cell_type": "code",
   "execution_count": 6,
   "source": [
    "df['type'].value_counts()"
   ],
   "outputs": [
    {
     "output_type": "execute_result",
     "data": {
      "text/plain": [
       "3    43923\n",
       "2    26760\n",
       "1    24157\n",
       "0    17011\n",
       "Name: type, dtype: int64"
      ]
     },
     "metadata": {},
     "execution_count": 6
    }
   ],
   "metadata": {}
  },
  {
   "cell_type": "markdown",
   "source": [
    "CEIL VALUE FOR BATHS"
   ],
   "metadata": {}
  },
  {
   "cell_type": "code",
   "execution_count": 7,
   "source": [
    "df.baths.unique()"
   ],
   "outputs": [
    {
     "output_type": "execute_result",
     "data": {
      "text/plain": [
       "array([2, 1, 3, 4, 5, 6, 7, 8], dtype=int64)"
      ]
     },
     "metadata": {},
     "execution_count": 7
    }
   ],
   "metadata": {}
  },
  {
   "cell_type": "code",
   "execution_count": 8,
   "source": [
    "# using np.ceil to round to\r\n",
    "df['baths'] = df['baths'].apply(np.ceil)"
   ],
   "outputs": [],
   "metadata": {}
  },
  {
   "cell_type": "code",
   "execution_count": 9,
   "source": [
    "df.head(3)"
   ],
   "outputs": [
    {
     "output_type": "execute_result",
     "data": {
      "text/html": [
       "<div>\n",
       "<style scoped>\n",
       "    .dataframe tbody tr th:only-of-type {\n",
       "        vertical-align: middle;\n",
       "    }\n",
       "\n",
       "    .dataframe tbody tr th {\n",
       "        vertical-align: top;\n",
       "    }\n",
       "\n",
       "    .dataframe thead th {\n",
       "        text-align: right;\n",
       "    }\n",
       "</style>\n",
       "<table border=\"1\" class=\"dataframe\">\n",
       "  <thead>\n",
       "    <tr style=\"text-align: right;\">\n",
       "      <th></th>\n",
       "      <th>price</th>\n",
       "      <th>type</th>\n",
       "      <th>sqfeet</th>\n",
       "      <th>beds</th>\n",
       "      <th>baths</th>\n",
       "      <th>smoking_allowed</th>\n",
       "      <th>wheelchair_access</th>\n",
       "      <th>electric_vehicle_charge</th>\n",
       "      <th>comes_furnished</th>\n",
       "      <th>laundry_options</th>\n",
       "      <th>parking_options</th>\n",
       "      <th>state</th>\n",
       "      <th>pets_allowed</th>\n",
       "    </tr>\n",
       "  </thead>\n",
       "  <tbody>\n",
       "    <tr>\n",
       "      <th>0</th>\n",
       "      <td>1220</td>\n",
       "      <td>0</td>\n",
       "      <td>1232</td>\n",
       "      <td>2</td>\n",
       "      <td>2.0</td>\n",
       "      <td>0</td>\n",
       "      <td>0</td>\n",
       "      <td>0</td>\n",
       "      <td>0</td>\n",
       "      <td>3</td>\n",
       "      <td>4</td>\n",
       "      <td>10</td>\n",
       "      <td>1</td>\n",
       "    </tr>\n",
       "    <tr>\n",
       "      <th>1</th>\n",
       "      <td>1375</td>\n",
       "      <td>0</td>\n",
       "      <td>1232</td>\n",
       "      <td>2</td>\n",
       "      <td>2.0</td>\n",
       "      <td>0</td>\n",
       "      <td>0</td>\n",
       "      <td>0</td>\n",
       "      <td>0</td>\n",
       "      <td>4</td>\n",
       "      <td>4</td>\n",
       "      <td>10</td>\n",
       "      <td>1</td>\n",
       "    </tr>\n",
       "    <tr>\n",
       "      <th>2</th>\n",
       "      <td>870</td>\n",
       "      <td>0</td>\n",
       "      <td>890</td>\n",
       "      <td>2</td>\n",
       "      <td>1.0</td>\n",
       "      <td>0</td>\n",
       "      <td>0</td>\n",
       "      <td>0</td>\n",
       "      <td>0</td>\n",
       "      <td>4</td>\n",
       "      <td>1</td>\n",
       "      <td>13</td>\n",
       "      <td>1</td>\n",
       "    </tr>\n",
       "  </tbody>\n",
       "</table>\n",
       "</div>"
      ],
      "text/plain": [
       "   price  type  sqfeet  beds  baths  smoking_allowed  wheelchair_access  \\\n",
       "0   1220     0    1232     2    2.0                0                  0   \n",
       "1   1375     0    1232     2    2.0                0                  0   \n",
       "2    870     0     890     2    1.0                0                  0   \n",
       "\n",
       "   electric_vehicle_charge  comes_furnished  laundry_options  parking_options  \\\n",
       "0                        0                0                3                4   \n",
       "1                        0                0                4                4   \n",
       "2                        0                0                4                1   \n",
       "\n",
       "   state  pets_allowed  \n",
       "0     10             1  \n",
       "1     10             1  \n",
       "2     13             1  "
      ]
     },
     "metadata": {},
     "execution_count": 9
    }
   ],
   "metadata": {}
  },
  {
   "cell_type": "code",
   "execution_count": 10,
   "source": [
    "df.shape"
   ],
   "outputs": [
    {
     "output_type": "execute_result",
     "data": {
      "text/plain": [
       "(111851, 13)"
      ]
     },
     "metadata": {},
     "execution_count": 10
    }
   ],
   "metadata": {}
  },
  {
   "cell_type": "code",
   "execution_count": 11,
   "source": [
    "#df.to_csv('Types_red.csv',index=False) "
   ],
   "outputs": [],
   "metadata": {}
  },
  {
   "cell_type": "markdown",
   "source": [
    "PARTITIONING THE PRE PROCESSED DATA SET"
   ],
   "metadata": {}
  },
  {
   "cell_type": "code",
   "execution_count": 12,
   "source": [
    "# Import train_test_split function\r\n",
    "from sklearn.model_selection import train_test_split\r\n",
    "\r\n",
    "X=df[['price', 'sqfeet', 'beds', 'baths', 'smoking_allowed', 'wheelchair_access', 'electric_vehicle_charge', 'comes_furnished', 'laundry_options', 'parking_options', 'state', 'pets_allowed']]  # Features\r\n",
    "y=df['type']  # Labels\r\n",
    "\r\n",
    "# Split dataset into training set and test set\r\n",
    "X_train, X_test, y_train, y_test = train_test_split(X, y, test_size=0.3) # 70% training and 30% test"
   ],
   "outputs": [],
   "metadata": {}
  },
  {
   "cell_type": "code",
   "execution_count": 13,
   "source": [
    "print(X_train.shape)\r\n",
    "print(y_train.shape)\r\n",
    "print(X_test.shape)\r\n",
    "print(y_test.shape)"
   ],
   "outputs": [
    {
     "output_type": "stream",
     "name": "stdout",
     "text": [
      "(78295, 12)\n",
      "(78295,)\n",
      "(33556, 12)\n",
      "(33556,)\n"
     ]
    }
   ],
   "metadata": {}
  },
  {
   "cell_type": "markdown",
   "source": [
    "STANDARDIZATION --- accuracy dropped"
   ],
   "metadata": {}
  },
  {
   "cell_type": "code",
   "execution_count": 14,
   "source": [
    "# from sklearn.preprocessing import StandardScaler\r\n",
    "# #the scaler model\r\n",
    "# scaler = StandardScaler()\r\n",
    "# #fitting and standardization\r\n",
    "# train_scaled = scaler.fit_transform(X_train)\r\n",
    "# # test_scaled = scaler.transform(X_test)"
   ],
   "outputs": [],
   "metadata": {}
  },
  {
   "cell_type": "markdown",
   "source": [
    "RANDOM FOREST MODEL BUILDING"
   ],
   "metadata": {}
  },
  {
   "cell_type": "code",
   "execution_count": 15,
   "source": [
    "#Import Random Forest Model\r\n",
    "from sklearn.ensemble import RandomForestClassifier\r\n",
    "\r\n",
    "# random forest model creation\r\n",
    "rfc = RandomForestClassifier()\r\n",
    "\r\n",
    "\r\n",
    "#Train the model using the training sets y_pred=clf.predict(X_test)\r\n",
    "rfc.fit(X_train,y_train)\r\n",
    "\r\n",
    "# predictions\r\n",
    "y_pred = rfc.predict(X_test)\r\n"
   ],
   "outputs": [],
   "metadata": {}
  },
  {
   "cell_type": "code",
   "execution_count": 16,
   "source": [
    "from sklearn.model_selection import StratifiedKFold"
   ],
   "outputs": [],
   "metadata": {}
  },
  {
   "cell_type": "code",
   "execution_count": 17,
   "source": [
    "skf = StratifiedKFold(n_splits=10)"
   ],
   "outputs": [],
   "metadata": {}
  },
  {
   "cell_type": "code",
   "execution_count": 18,
   "source": [
    "#Import scikit-learn metrics module for accuracy calculation\r\n",
    "from sklearn import metrics\r\n",
    "# Model Accuracy, how often is the classifier correct?\r\n",
    "print(\"Accuracy:\",metrics.accuracy_score(y_test, y_pred))"
   ],
   "outputs": [
    {
     "output_type": "stream",
     "name": "stdout",
     "text": [
      "Accuracy: 0.9296400047681488\n"
     ]
    }
   ],
   "metadata": {}
  },
  {
   "cell_type": "code",
   "execution_count": 19,
   "source": [
    "#df.loc[df['type'] == 0 ]\r\n",
    "\r\n",
    "#df.loc[df['type'] == 1 ]\r\n",
    "\r\n",
    "#df.loc[df['type'] == 2 ]\r\n",
    "\r\n",
    "df.loc[df['type'] == 3 ]"
   ],
   "outputs": [
    {
     "output_type": "execute_result",
     "data": {
      "text/html": [
       "<div>\n",
       "<style scoped>\n",
       "    .dataframe tbody tr th:only-of-type {\n",
       "        vertical-align: middle;\n",
       "    }\n",
       "\n",
       "    .dataframe tbody tr th {\n",
       "        vertical-align: top;\n",
       "    }\n",
       "\n",
       "    .dataframe thead th {\n",
       "        text-align: right;\n",
       "    }\n",
       "</style>\n",
       "<table border=\"1\" class=\"dataframe\">\n",
       "  <thead>\n",
       "    <tr style=\"text-align: right;\">\n",
       "      <th></th>\n",
       "      <th>price</th>\n",
       "      <th>type</th>\n",
       "      <th>sqfeet</th>\n",
       "      <th>beds</th>\n",
       "      <th>baths</th>\n",
       "      <th>smoking_allowed</th>\n",
       "      <th>wheelchair_access</th>\n",
       "      <th>electric_vehicle_charge</th>\n",
       "      <th>comes_furnished</th>\n",
       "      <th>laundry_options</th>\n",
       "      <th>parking_options</th>\n",
       "      <th>state</th>\n",
       "      <th>pets_allowed</th>\n",
       "    </tr>\n",
       "  </thead>\n",
       "  <tbody>\n",
       "    <tr>\n",
       "      <th>5</th>\n",
       "      <td>685</td>\n",
       "      <td>3</td>\n",
       "      <td>900</td>\n",
       "      <td>2</td>\n",
       "      <td>1.0</td>\n",
       "      <td>1</td>\n",
       "      <td>0</td>\n",
       "      <td>0</td>\n",
       "      <td>0</td>\n",
       "      <td>0</td>\n",
       "      <td>1</td>\n",
       "      <td>22</td>\n",
       "      <td>1</td>\n",
       "    </tr>\n",
       "    <tr>\n",
       "      <th>6</th>\n",
       "      <td>2839</td>\n",
       "      <td>3</td>\n",
       "      <td>977</td>\n",
       "      <td>2</td>\n",
       "      <td>2.0</td>\n",
       "      <td>1</td>\n",
       "      <td>0</td>\n",
       "      <td>0</td>\n",
       "      <td>0</td>\n",
       "      <td>4</td>\n",
       "      <td>0</td>\n",
       "      <td>20</td>\n",
       "      <td>1</td>\n",
       "    </tr>\n",
       "    <tr>\n",
       "      <th>9</th>\n",
       "      <td>625</td>\n",
       "      <td>3</td>\n",
       "      <td>0</td>\n",
       "      <td>1</td>\n",
       "      <td>1.0</td>\n",
       "      <td>1</td>\n",
       "      <td>0</td>\n",
       "      <td>0</td>\n",
       "      <td>0</td>\n",
       "      <td>0</td>\n",
       "      <td>4</td>\n",
       "      <td>22</td>\n",
       "      <td>1</td>\n",
       "    </tr>\n",
       "    <tr>\n",
       "      <th>12</th>\n",
       "      <td>685</td>\n",
       "      <td>3</td>\n",
       "      <td>900</td>\n",
       "      <td>2</td>\n",
       "      <td>1.0</td>\n",
       "      <td>1</td>\n",
       "      <td>0</td>\n",
       "      <td>0</td>\n",
       "      <td>0</td>\n",
       "      <td>3</td>\n",
       "      <td>4</td>\n",
       "      <td>25</td>\n",
       "      <td>1</td>\n",
       "    </tr>\n",
       "    <tr>\n",
       "      <th>13</th>\n",
       "      <td>1339</td>\n",
       "      <td>3</td>\n",
       "      <td>1430</td>\n",
       "      <td>3</td>\n",
       "      <td>2.0</td>\n",
       "      <td>0</td>\n",
       "      <td>0</td>\n",
       "      <td>0</td>\n",
       "      <td>0</td>\n",
       "      <td>4</td>\n",
       "      <td>4</td>\n",
       "      <td>23</td>\n",
       "      <td>1</td>\n",
       "    </tr>\n",
       "    <tr>\n",
       "      <th>...</th>\n",
       "      <td>...</td>\n",
       "      <td>...</td>\n",
       "      <td>...</td>\n",
       "      <td>...</td>\n",
       "      <td>...</td>\n",
       "      <td>...</td>\n",
       "      <td>...</td>\n",
       "      <td>...</td>\n",
       "      <td>...</td>\n",
       "      <td>...</td>\n",
       "      <td>...</td>\n",
       "      <td>...</td>\n",
       "      <td>...</td>\n",
       "    </tr>\n",
       "    <tr>\n",
       "      <th>115970</th>\n",
       "      <td>1200</td>\n",
       "      <td>3</td>\n",
       "      <td>1027</td>\n",
       "      <td>2</td>\n",
       "      <td>2.0</td>\n",
       "      <td>1</td>\n",
       "      <td>0</td>\n",
       "      <td>0</td>\n",
       "      <td>0</td>\n",
       "      <td>4</td>\n",
       "      <td>1</td>\n",
       "      <td>33</td>\n",
       "      <td>1</td>\n",
       "    </tr>\n",
       "    <tr>\n",
       "      <th>115971</th>\n",
       "      <td>795</td>\n",
       "      <td>3</td>\n",
       "      <td>600</td>\n",
       "      <td>2</td>\n",
       "      <td>1.0</td>\n",
       "      <td>1</td>\n",
       "      <td>0</td>\n",
       "      <td>0</td>\n",
       "      <td>0</td>\n",
       "      <td>1</td>\n",
       "      <td>5</td>\n",
       "      <td>33</td>\n",
       "      <td>1</td>\n",
       "    </tr>\n",
       "    <tr>\n",
       "      <th>115977</th>\n",
       "      <td>239</td>\n",
       "      <td>3</td>\n",
       "      <td>383</td>\n",
       "      <td>1</td>\n",
       "      <td>1.0</td>\n",
       "      <td>0</td>\n",
       "      <td>0</td>\n",
       "      <td>1</td>\n",
       "      <td>1</td>\n",
       "      <td>1</td>\n",
       "      <td>1</td>\n",
       "      <td>33</td>\n",
       "      <td>1</td>\n",
       "    </tr>\n",
       "    <tr>\n",
       "      <th>115993</th>\n",
       "      <td>1675</td>\n",
       "      <td>3</td>\n",
       "      <td>700</td>\n",
       "      <td>1</td>\n",
       "      <td>1.0</td>\n",
       "      <td>1</td>\n",
       "      <td>0</td>\n",
       "      <td>1</td>\n",
       "      <td>0</td>\n",
       "      <td>4</td>\n",
       "      <td>4</td>\n",
       "      <td>29</td>\n",
       "      <td>1</td>\n",
       "    </tr>\n",
       "    <tr>\n",
       "      <th>115997</th>\n",
       "      <td>1773</td>\n",
       "      <td>3</td>\n",
       "      <td>725</td>\n",
       "      <td>1</td>\n",
       "      <td>1.0</td>\n",
       "      <td>0</td>\n",
       "      <td>1</td>\n",
       "      <td>0</td>\n",
       "      <td>0</td>\n",
       "      <td>4</td>\n",
       "      <td>4</td>\n",
       "      <td>31</td>\n",
       "      <td>1</td>\n",
       "    </tr>\n",
       "  </tbody>\n",
       "</table>\n",
       "<p>43923 rows × 13 columns</p>\n",
       "</div>"
      ],
      "text/plain": [
       "        price  type  sqfeet  beds  baths  smoking_allowed  wheelchair_access  \\\n",
       "5         685     3     900     2    1.0                1                  0   \n",
       "6        2839     3     977     2    2.0                1                  0   \n",
       "9         625     3       0     1    1.0                1                  0   \n",
       "12        685     3     900     2    1.0                1                  0   \n",
       "13       1339     3    1430     3    2.0                0                  0   \n",
       "...       ...   ...     ...   ...    ...              ...                ...   \n",
       "115970   1200     3    1027     2    2.0                1                  0   \n",
       "115971    795     3     600     2    1.0                1                  0   \n",
       "115977    239     3     383     1    1.0                0                  0   \n",
       "115993   1675     3     700     1    1.0                1                  0   \n",
       "115997   1773     3     725     1    1.0                0                  1   \n",
       "\n",
       "        electric_vehicle_charge  comes_furnished  laundry_options  \\\n",
       "5                             0                0                0   \n",
       "6                             0                0                4   \n",
       "9                             0                0                0   \n",
       "12                            0                0                3   \n",
       "13                            0                0                4   \n",
       "...                         ...              ...              ...   \n",
       "115970                        0                0                4   \n",
       "115971                        0                0                1   \n",
       "115977                        1                1                1   \n",
       "115993                        1                0                4   \n",
       "115997                        0                0                4   \n",
       "\n",
       "        parking_options  state  pets_allowed  \n",
       "5                     1     22             1  \n",
       "6                     0     20             1  \n",
       "9                     4     22             1  \n",
       "12                    4     25             1  \n",
       "13                    4     23             1  \n",
       "...                 ...    ...           ...  \n",
       "115970                1     33             1  \n",
       "115971                5     33             1  \n",
       "115977                1     33             1  \n",
       "115993                4     29             1  \n",
       "115997                4     31             1  \n",
       "\n",
       "[43923 rows x 13 columns]"
      ]
     },
     "metadata": {},
     "execution_count": 19
    }
   ],
   "metadata": {}
  },
  {
   "cell_type": "code",
   "execution_count": 20,
   "source": [
    "#0\r\n",
    "#rfc.predict([[950, 889, 2, 1, 0, 0, 0, 0, 4, 1, 13, 1 ]])\r\n",
    "\r\n",
    "#1\r\n",
    "#rfc.predict([[995, 1085, 3, 1, 0, 0, 0, 0, 3, 435, 10, 0 ]])\r\n",
    "\r\n",
    "#2\r\n",
    "#rfc.predict([[700, 800, 1, 1, 1, 0, 0, 0, 1, 5, 35, 0 ]])\r\n",
    "\r\n",
    "#3\r\n",
    "rfc.predict([[239, 383, 1, 1, 0, 0, 1, 1, 1, 1, 33, 1 ]])"
   ],
   "outputs": [
    {
     "output_type": "execute_result",
     "data": {
      "text/plain": [
       "array([3], dtype=int64)"
      ]
     },
     "metadata": {},
     "execution_count": 20
    }
   ],
   "metadata": {}
  },
  {
   "cell_type": "markdown",
   "source": [
    "MULTI LABELLED CONFUSION MATRIX BUILDING"
   ],
   "metadata": {}
  },
  {
   "cell_type": "code",
   "execution_count": 21,
   "source": [
    "from sklearn.metrics import confusion_matrix"
   ],
   "outputs": [],
   "metadata": {}
  },
  {
   "cell_type": "code",
   "execution_count": 22,
   "source": [
    "#confusion matrix creation\r\n",
    "\r\n",
    "LABELS = ['0', '1', '2', '3']\r\n",
    "\r\n",
    "conf_matrix = confusion_matrix(y_test, y_pred)"
   ],
   "outputs": [],
   "metadata": {}
  },
  {
   "cell_type": "code",
   "execution_count": 23,
   "source": [
    "plt.figure(figsize=(12, 12))\r\n",
    "sns.heatmap(conf_matrix, xticklabels=LABELS,\r\n",
    "yticklabels=LABELS, annot=True, fmt='d');\r\n",
    "plt.title('Confusion matrix')\r\n",
    "plt.ylabel('True class')\r\n",
    "plt.xlabel('Predicted class')\r\n",
    "plt.show()"
   ],
   "outputs": [
    {
     "output_type": "display_data",
     "data": {
      "image/png": "[encoded data removed]",
      "text/plain": [
       "<Figure size 864x864 with 2 Axes>"
      ]
     },
     "metadata": {
      "needs_background": "light"
     }
    }
   ],
   "metadata": {}
  },
  {
   "cell_type": "code",
   "execution_count": 24,
   "source": [
    "#accuracy score\r\n",
    "from sklearn.metrics import accuracy_score\r\n",
    "\r\n",
    "acc= accuracy_score(y_test,y_pred)\r\n",
    "print('The accuracy is {}'.format(acc))\r\n"
   ],
   "outputs": [
    {
     "output_type": "stream",
     "name": "stdout",
     "text": [
      "The accuracy is 0.9296400047681488\n"
     ]
    }
   ],
   "metadata": {}
  },
  {
   "cell_type": "code",
   "execution_count": 25,
   "source": [
    "#presicion score\r\n",
    "from sklearn.metrics import precision_score\r\n",
    "\r\n",
    "prec= precision_score(y_test, y_pred, pos_label='positive',average='micro')\r\n",
    "print('The precision is {}'.format(prec))\r\n"
   ],
   "outputs": [
    {
     "output_type": "stream",
     "name": "stdout",
     "text": [
      "The precision is 0.9296400047681488\n"
     ]
    },
    {
     "output_type": "stream",
     "name": "stderr",
     "text": [
      "C:\\Users\\Asus\\anaconda3\\lib\\site-packages\\sklearn\\metrics\\_classification.py:1295: UserWarning: Note that pos_label (set to 'positive') is ignored when average != 'binary' (got 'micro'). You may use labels=[pos_label] to specify a single positive class.\n",
      "  warnings.warn(\"Note that pos_label (set to %r) is ignored when \"\n"
     ]
    }
   ],
   "metadata": {}
  },
  {
   "cell_type": "code",
   "execution_count": 26,
   "source": [
    "#recall score\r\n",
    "from sklearn.metrics import recall_score\r\n",
    "\r\n",
    "rec= recall_score(y_test,y_pred, pos_label='positive',average='micro')\r\n",
    "print('The recall is {}'.format(rec))\r\n"
   ],
   "outputs": [
    {
     "output_type": "stream",
     "name": "stdout",
     "text": [
      "The recall is 0.9296400047681488\n"
     ]
    },
    {
     "output_type": "stream",
     "name": "stderr",
     "text": [
      "C:\\Users\\Asus\\anaconda3\\lib\\site-packages\\sklearn\\metrics\\_classification.py:1295: UserWarning: Note that pos_label (set to 'positive') is ignored when average != 'binary' (got 'micro'). You may use labels=[pos_label] to specify a single positive class.\n",
      "  warnings.warn(\"Note that pos_label (set to %r) is ignored when \"\n"
     ]
    }
   ],
   "metadata": {}
  },
  {
   "cell_type": "code",
   "execution_count": 27,
   "source": [
    "#f1 score\r\n",
    "from sklearn.metrics import f1_score\r\n",
    "\r\n",
    "f1= f1_score(y_test,y_pred, pos_label='positive',average='micro')\r\n",
    "print('The F1-Score is {}'.format(f1))"
   ],
   "outputs": [
    {
     "output_type": "stream",
     "name": "stdout",
     "text": [
      "The F1-Score is 0.9296400047681488\n"
     ]
    },
    {
     "output_type": "stream",
     "name": "stderr",
     "text": [
      "C:\\Users\\Asus\\anaconda3\\lib\\site-packages\\sklearn\\metrics\\_classification.py:1295: UserWarning: Note that pos_label (set to 'positive') is ignored when average != 'binary' (got 'micro'). You may use labels=[pos_label] to specify a single positive class.\n",
      "  warnings.warn(\"Note that pos_label (set to %r) is ignored when \"\n"
     ]
    }
   ],
   "metadata": {}
  },
  {
   "cell_type": "code",
   "execution_count": 28,
   "source": [
    "#Mathew corelation coefficient\r\n",
    "from sklearn.metrics import matthews_corrcoef\r\n",
    "\r\n",
    "MCC=matthews_corrcoef(y_test,y_pred)\r\n",
    "print('The Matthews correlation coefficient is {}'.format(MCC))"
   ],
   "outputs": [
    {
     "output_type": "stream",
     "name": "stdout",
     "text": [
      "The Matthews correlation coefficient is 0.9021187451607827\n"
     ]
    }
   ],
   "metadata": {}
  },
  {
   "cell_type": "code",
   "execution_count": 29,
   "source": [
    "from sklearn.model_selection import cross_val_score\r\n",
    "\r\n",
    "cvScore = cross_val_score(rfc, X_train, y_train, cv=100, scoring='accuracy')\r\n",
    "print('cv score mean:',cvScore.mean())"
   ],
   "outputs": [],
   "metadata": {}
  }
 ],
 "metadata": {
  "orig_nbformat": 4,
  "language_info": {
   "name": "python",
   "version": "3.8.8",
   "mimetype": "text/x-python",
   "codemirror_mode": {
    "name": "ipython",
    "version": 3
   },
   "pygments_lexer": "ipython3",
   "nbconvert_exporter": "python",
   "file_extension": ".py"
  },
  "kernelspec": {
   "name": "python3",
   "display_name": "Python 3.8.8 64-bit ('base': conda)"
  },
  "interpreter": {
   "hash": "31ff804e05c542abfdab620000e5333bc9afc6a565bbee95afa27485d8eec998"
  }
 },
 "nbformat": 4,
 "nbformat_minor": 2
}