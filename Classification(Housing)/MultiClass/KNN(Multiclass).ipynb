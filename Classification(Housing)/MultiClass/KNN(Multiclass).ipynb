{
  "nbformat": 4,
  "nbformat_minor": 2,
  "metadata": {
    "colab": {
      "name": "KNN_Classification Model.ipynb",
      "provenance": [],
      "collapsed_sections": []
    },
    "kernelspec": {
      "name": "python3",
      "display_name": "Python 3.8.8 64-bit ('base': conda)"
    },
    "language_info": {
      "name": "python",
      "version": "3.8.8",
      "mimetype": "text/x-python",
      "codemirror_mode": {
        "name": "ipython",
        "version": 3
      },
      "pygments_lexer": "ipython3",
      "nbconvert_exporter": "python",
      "file_extension": ".py"
    },
    "interpreter": {
      "hash": "a6c63708e3e80dee0890804c83d7ccb1f9596f0c2d494e939f195f13ae4c89c5"
    }
  },
  "cells": [
    {
      "cell_type": "code",
      "execution_count": 1,
      "source": [
        "#Import Libraries\r\n",
        "import numpy as np\r\n",
        "import sklearn\r\n",
        "import pandas as pd\r\n",
        "import matplotlib.pyplot as plt\r\n",
        "import seaborn as sns"
      ],
      "outputs": [],
      "metadata": {
        "id": "gBS00J2jSGaA"
      }
    },
    {
      "cell_type": "code",
      "execution_count": 2,
      "source": [
        "#Read the data set\r\n",
        "df = pd.read_csv('Preprocessed_data.csv')"
      ],
      "outputs": [],
      "metadata": {
        "id": "B78Oksn0SQPE"
      }
    },
    {
      "cell_type": "code",
      "execution_count": 3,
      "source": [
        "#Prepare X and Y data set\r\n",
        "\r\n",
        "x_data = df.drop(['type'],axis=1) # Features\r\n",
        "\r\n",
        "y_data = df['type'] # Labels"
      ],
      "outputs": [],
      "metadata": {
        "colab": {
          "base_uri": "https://localhost:8080/",
          "height": 223
        },
        "id": "2wRSkKABSw8h",
        "outputId": "d15664c9-cdd1-4d78-969b-f52bc6390f7e"
      }
    },
    {
      "cell_type": "code",
      "execution_count": 4,
      "source": [
        "#Splitting the data set into Train set & Test set\r\n",
        "from sklearn.model_selection import train_test_split\r\n",
        "\r\n",
        "X_train, X_test, y_train, y_test = train_test_split(x_data, y_data,test_size=0.25, random_state = 1)"
      ],
      "outputs": [],
      "metadata": {
        "id": "O9E2r7T-TkDW"
      }
    },
    {
      "cell_type": "code",
      "execution_count": 5,
      "source": [
        "#Make the Model\r\n",
        "from sklearn.neighbors import KNeighborsClassifier\r\n",
        "\r\n",
        "knn_clf=KNeighborsClassifier()\r\n",
        "\r\n",
        "knn_clf.fit(X_train,y_train)\r\n",
        "\r\n",
        "ypred=knn_clf.predict(X_test) #These are the predicted output values"
      ],
      "outputs": [],
      "metadata": {}
    },
    {
      "cell_type": "code",
      "execution_count": 6,
      "source": [
        "#The scaler model\r\n",
        "from sklearn.preprocessing import StandardScaler\r\n",
        "\r\n",
        "scaler = StandardScaler()\r\n",
        "\r\n",
        "#fitting and standardization\r\n",
        "train_scaled = scaler.fit_transform(X_train)\r\n",
        "test_scaled = scaler.transform(X_test)"
      ],
      "outputs": [],
      "metadata": {
        "id": "60zSDNlLqzBH"
      }
    },
    {
      "cell_type": "code",
      "execution_count": 7,
      "source": [
        "#to store rmse values for different k\r\n",
        "from sklearn import neighbors\r\n",
        "from math import sqrt\r\n",
        "from sklearn.metrics import mean_squared_error \r\n",
        "\r\n",
        "rmse_val = []\r\n",
        "\r\n",
        "#try running from k=1 through 20 and record testing accuracy\r\n",
        "for K in range(20):\r\n",
        "    K = K+1\r\n",
        "    model = neighbors.KNeighborsRegressor(n_neighbors = K)\r\n",
        "\r\n",
        "    #fit the model\r\n",
        "    model.fit(X_train, y_train) \r\n",
        "\r\n",
        "    #make prediction on test set\r\n",
        "    pred=model.predict(X_test)\r\n",
        "\r\n",
        "    #calculate rmse\r\n",
        "    error = sqrt(mean_squared_error(y_test,pred)) \r\n",
        "\r\n",
        "    #store rmse values\r\n",
        "    rmse_val.append(error) \r\n",
        "    print('RMSE value for k = ' , K , 'is :', error)"
      ],
      "outputs": [
        {
          "output_type": "stream",
          "name": "stdout",
          "text": [
            "RMSE value for k =  1 is : 0.6930463700996133\n",
            "RMSE value for k =  2 is : 0.6660562058588502\n",
            "RMSE value for k =  3 is : 0.6636738602387833\n",
            "RMSE value for k =  4 is : 0.6730995291006586\n",
            "RMSE value for k =  5 is : 0.682585398754092\n",
            "RMSE value for k =  6 is : 0.6938972560801016\n",
            "RMSE value for k =  7 is : 0.704555134055482\n",
            "RMSE value for k =  8 is : 0.7144575805030223\n",
            "RMSE value for k =  9 is : 0.7253131840150965\n",
            "RMSE value for k =  10 is : 0.7350349901330898\n",
            "RMSE value for k =  11 is : 0.7434826499835419\n",
            "RMSE value for k =  12 is : 0.7509054125503639\n",
            "RMSE value for k =  13 is : 0.7583692309597069\n",
            "RMSE value for k =  14 is : 0.7652730702855802\n",
            "RMSE value for k =  15 is : 0.7710824982548505\n",
            "RMSE value for k =  16 is : 0.7771582896375155\n",
            "RMSE value for k =  17 is : 0.7821813847993867\n",
            "RMSE value for k =  18 is : 0.7870665046972296\n",
            "RMSE value for k =  19 is : 0.7915455115226698\n",
            "RMSE value for k =  20 is : 0.7958992074397656\n"
          ]
        }
      ],
      "metadata": {
        "colab": {
          "base_uri": "https://localhost:8080/"
        },
        "id": "70qo7N0ATv51",
        "outputId": "6cb15201-96aa-4a7a-f4b8-9726706e636e"
      }
    },
    {
      "cell_type": "code",
      "execution_count": 8,
      "source": [
        "#Training\r\n",
        "#Create KNN Classifier: k=0.6636\r\n",
        "classifier = KNeighborsClassifier(n_neighbors=3)\r\n",
        "classifier.fit(X_train, y_train)\r\n",
        "\r\n",
        "#Prediction\r\n",
        "y_pred = classifier.predict(X_test)"
      ],
      "outputs": [],
      "metadata": {
        "colab": {
          "base_uri": "https://localhost:8080/"
        },
        "id": "7748Z8btVphl",
        "outputId": "ba7ac024-7a8f-4ece-efda-44b6322938de"
      }
    },
    {
      "cell_type": "code",
      "execution_count": 9,
      "source": [
        "#Import scikit-learn metrics module for accuracy calculation\r\n",
        "from sklearn import metrics\r\n",
        "\r\n",
        "# Model Accuracy, how often is the classifier correct?\r\n",
        "print(\"Accuracy:\",metrics.accuracy_score(y_test, y_pred) * 100)"
      ],
      "outputs": [
        {
          "output_type": "stream",
          "name": "stdout",
          "text": [
            "Accuracy: 82.50545363516075\n"
          ]
        }
      ],
      "metadata": {
        "colab": {
          "base_uri": "https://localhost:8080/"
        },
        "id": "BucYchkmkySE",
        "outputId": "b870cbb9-1037-4694-d60f-b384050ab8a4"
      }
    },
    {
      "cell_type": "code",
      "execution_count": 10,
      "source": [
        "# Making the Confusion Matrix\r\n",
        "from sklearn.metrics import  confusion_matrix\r\n",
        "conf_matrix=confusion_matrix(y_test,y_pred)\r\n",
        "\r\n",
        "#Plot the Confusion Matrix\r\n",
        "LABELS = ['Townhouse', 'Condo', 'Apartment', 'Duplex']\r\n",
        "plt.figure(figsize=(6, 6))\r\n",
        "sns.heatmap(conf_matrix, xticklabels=LABELS,yticklabels=LABELS, annot=True, fmt='d');\r\n",
        "plt.title('Confusion matrix of K-Nearest Neighbour(Multiclass)',size = 16)\r\n",
        "plt.ylabel('Actual Class',size = 14)\r\n",
        "plt.xlabel('Predicted Class',size = 14)\r\n",
        "plt.show()"
      ],
      "outputs": [
        {
          "output_type": "display_data",
          "data": {
            "image/png": "[encoded data removed]",
            "text/plain": [
              "<Figure size 432x432 with 2 Axes>"
            ]
          },
          "metadata": {
            "needs_background": "light"
          }
        }
      ],
      "metadata": {
        "colab": {
          "base_uri": "https://localhost:8080/",
          "height": 730
        },
        "id": "jxBCpg84rku7",
        "outputId": "01c70af0-ceb0-465a-db0a-bd523efa48ae"
      }
    }
  ]
}