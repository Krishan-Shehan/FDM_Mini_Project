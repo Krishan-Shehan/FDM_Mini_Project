{
  "nbformat": 4,
  "nbformat_minor": 2,
  "metadata": {
    "colab": {
      "name": "KNN_Classification Model.ipynb",
      "provenance": [],
      "collapsed_sections": []
    },
    "kernelspec": {
      "name": "python3",
      "display_name": "Python 3.8.8 64-bit ('base': conda)"
    },
    "language_info": {
      "name": "python",
      "version": "3.8.8",
      "mimetype": "text/x-python",
      "codemirror_mode": {
        "name": "ipython",
        "version": 3
      },
      "pygments_lexer": "ipython3",
      "nbconvert_exporter": "python",
      "file_extension": ".py"
    },
    "interpreter": {
      "hash": "a6c63708e3e80dee0890804c83d7ccb1f9596f0c2d494e939f195f13ae4c89c5"
    }
  },
  "cells": [
    {
      "cell_type": "code",
      "execution_count": 1,
      "source": [
        "#Import Libraries\r\n",
        "import numpy as np\r\n",
        "import sklearn\r\n",
        "import pandas as pd\r\n",
        "import matplotlib.pyplot as plt\r\n",
        "import seaborn as sns"
      ],
      "outputs": [],
      "metadata": {
        "id": "gBS00J2jSGaA"
      }
    },
    {
      "cell_type": "code",
      "execution_count": 2,
      "source": [
        "#Read the data set\r\n",
        "df = pd.read_csv('Preprocessed_data.csv')"
      ],
      "outputs": [],
      "metadata": {
        "id": "B78Oksn0SQPE"
      }
    },
    {
      "cell_type": "code",
      "execution_count": 3,
      "source": [
        "#Prepare X and Y data set\r\n",
        "x_data = df[['price', 'sqfeet', 'beds', 'baths', 'smoking_allowed', 'wheelchair_access', 'electric_vehicle_charge',\r\n",
        " 'comes_furnished', 'laundry_options', 'parking_options', 'state']]  # Features\r\n",
        "\r\n",
        "y_data = df['pets_allowed'] # Labels\r\n",
        "\r\n",
        "\r\n",
        "#Splitting the data set into Train set & Test set\r\n",
        "from sklearn.model_selection import train_test_split\r\n",
        "X_train, X_test, y_train, y_test = train_test_split(x_data, y_data,test_size=0.25, random_state = 1)\r\n"
      ],
      "outputs": [],
      "metadata": {
        "id": "O9E2r7T-TkDW"
      }
    },
    {
      "cell_type": "code",
      "execution_count": 4,
      "source": [
        "#Make the Model\r\n",
        "from sklearn.neighbors import KNeighborsClassifier\r\n",
        "\r\n",
        "knn_clf=KNeighborsClassifier()\r\n",
        "\r\n",
        "knn_clf.fit(X_train,y_train)\r\n",
        "\r\n",
        "ypred=knn_clf.predict(X_test) #These are the predicted output values"
      ],
      "outputs": [],
      "metadata": {}
    },
    {
      "cell_type": "code",
      "execution_count": 5,
      "source": [
        "#the scaler model\r\n",
        "from sklearn.preprocessing import StandardScaler\r\n",
        "\r\n",
        "scaler = StandardScaler()\r\n",
        "\r\n",
        "#fitting and standardization\r\n",
        "\r\n",
        "train_scaled = scaler.fit_transform(X_train)\r\n",
        "\r\n",
        "test_scaled = scaler.transform(X_test)"
      ],
      "outputs": [],
      "metadata": {
        "id": "60zSDNlLqzBH"
      }
    },
    {
      "cell_type": "code",
      "execution_count": 6,
      "source": [
        "#to store rmse values for different k\r\n",
        "from sklearn import neighbors\r\n",
        "from math import sqrt\r\n",
        "from sklearn.metrics import mean_squared_error \r\n",
        "\r\n",
        "rmse_val = []\r\n",
        "#try running from k=1 through 20 and record testing accuracy\r\n",
        "for K in range(20):\r\n",
        "    K = K+1\r\n",
        "    model = neighbors.KNeighborsRegressor(n_neighbors = K)\r\n",
        "\r\n",
        "    #fit the model\r\n",
        "    model.fit(X_train, y_train) \r\n",
        "\r\n",
        "    #make prediction on test set\r\n",
        "    pred=model.predict(X_test)\r\n",
        "\r\n",
        "    #calculate rmse\r\n",
        "    error = sqrt(mean_squared_error(y_test,pred)) \r\n",
        "\r\n",
        "    #store rmse values\r\n",
        "    rmse_val.append(error) \r\n",
        "    print('RMSE value for k = ' , K , 'is :', error)"
      ],
      "outputs": [
        {
          "output_type": "stream",
          "name": "stdout",
          "text": [
            "RMSE value for k =  1 is : 0.37259402328851565\n",
            "RMSE value for k =  2 is : 0.3449328200670436\n",
            "RMSE value for k =  3 is : 0.33842033793500975\n",
            "RMSE value for k =  4 is : 0.3363637593762892\n",
            "RMSE value for k =  5 is : 0.3368041594239042\n",
            "RMSE value for k =  6 is : 0.3375930306532162\n",
            "RMSE value for k =  7 is : 0.3392364545633083\n",
            "RMSE value for k =  8 is : 0.3405743461815249\n",
            "RMSE value for k =  9 is : 0.3417889887365777\n",
            "RMSE value for k =  10 is : 0.34284831943457506\n",
            "RMSE value for k =  11 is : 0.34438529744086843\n",
            "RMSE value for k =  12 is : 0.34617578251581077\n",
            "RMSE value for k =  13 is : 0.34742981675318924\n",
            "RMSE value for k =  14 is : 0.3486493950886355\n",
            "RMSE value for k =  15 is : 0.34979372851592055\n",
            "RMSE value for k =  16 is : 0.35088559820433574\n",
            "RMSE value for k =  17 is : 0.35212982423844735\n",
            "RMSE value for k =  18 is : 0.3532475481986995\n",
            "RMSE value for k =  19 is : 0.3543692931936532\n",
            "RMSE value for k =  20 is : 0.35526184036179764\n"
          ]
        }
      ],
      "metadata": {
        "colab": {
          "base_uri": "https://localhost:8080/"
        },
        "id": "70qo7N0ATv51",
        "outputId": "6cb15201-96aa-4a7a-f4b8-9726706e636e"
      }
    },
    {
      "cell_type": "code",
      "execution_count": 7,
      "source": [
        "#Traiing\r\n",
        "#Create KNN Classifier: k=0.314\r\n",
        "classifier = KNeighborsClassifier(n_neighbors=3)\r\n",
        "classifier.fit(X_train, y_train)\r\n",
        "\r\n",
        "#Prediction\r\n",
        "y_pred = classifier.predict(X_test)"
      ],
      "outputs": [],
      "metadata": {
        "colab": {
          "base_uri": "https://localhost:8080/"
        },
        "id": "7748Z8btVphl",
        "outputId": "ba7ac024-7a8f-4ece-efda-44b6322938de"
      }
    },
    {
      "cell_type": "code",
      "execution_count": 8,
      "source": [
        "#Import scikit-learn metrics module for accuracy calculation\r\n",
        "from sklearn import metrics\r\n",
        "\r\n",
        "# Model Accuracy, how often is the classifier correct?\r\n",
        "print(\"Accuracy:\",metrics.accuracy_score(y_test, y_pred) * 100)"
      ],
      "outputs": [
        {
          "output_type": "stream",
          "name": "stdout",
          "text": [
            "Accuracy: 85.02664234881809\n"
          ]
        }
      ],
      "metadata": {
        "colab": {
          "base_uri": "https://localhost:8080/"
        },
        "id": "BucYchkmkySE",
        "outputId": "b870cbb9-1037-4694-d60f-b384050ab8a4"
      }
    },
    {
      "cell_type": "code",
      "execution_count": 9,
      "source": [
        "#confusion matrix creation\r\n",
        "from sklearn.metrics import  confusion_matrix\r\n",
        "conf_matrix=confusion_matrix(y_test,y_pred)\r\n",
        "\r\n",
        "#Plot the Confusion Matrix\r\n",
        "LABELS=['No','Yes']\r\n",
        "plt.figure(figsize=(6, 6))\r\n",
        "sns.heatmap(conf_matrix, xticklabels=LABELS,yticklabels=LABELS, annot=True, fmt='d');\r\n",
        "plt.title('Confusion matrix of K-Nearest Neighbour(Binary)',size = 16)\r\n",
        "plt.ylabel('Actual Class',size = 14)\r\n",
        "plt.xlabel('Predicted Class',size = 14)\r\n",
        "plt.show()"
      ],
      "outputs": [
        {
          "output_type": "display_data",
          "data": {
            "image/png": "[encoded data removed]",
            "text/plain": [
              "<Figure size 432x432 with 2 Axes>"
            ]
          },
          "metadata": {
            "needs_background": "light"
          }
        }
      ],
      "metadata": {
        "colab": {
          "base_uri": "https://localhost:8080/",
          "height": 730
        },
        "id": "jxBCpg84rku7",
        "outputId": "01c70af0-ceb0-465a-db0a-bd523efa48ae"
      }
    },
    {
      "cell_type": "code",
      "execution_count": 10,
      "source": [
        "Predicted = pd.Categorical(list(np.where(np.array(y_test) == 1, 'Pet Allowed','Pet Not Allowed')), \r\n",
        "categories = ['Pet Allowed','Pet Not Allowed'])\r\n",
        "Actual = pd.Categorical(list(np.where(np.array(y_pred) == 1, 'Pet Allowed','Pet Not Allowed')), \r\n",
        "categories = ['Pet Allowed','Pet Not Allowed'])\r\n",
        "\r\n",
        "pd.crosstab(Actual, Predicted, \r\n",
        "            rownames=['Predicted Class'], \r\n",
        "            colnames=['Actual Class'], margins=True, margins_name=\"Total Amount\")"
      ],
      "outputs": [
        {
          "output_type": "execute_result",
          "data": {
            "text/html": [
              "<div>\n",
              "<style scoped>\n",
              "    .dataframe tbody tr th:only-of-type {\n",
              "        vertical-align: middle;\n",
              "    }\n",
              "\n",
              "    .dataframe tbody tr th {\n",
              "        vertical-align: top;\n",
              "    }\n",
              "\n",
              "    .dataframe thead th {\n",
              "        text-align: right;\n",
              "    }\n",
              "</style>\n",
              "<table border=\"1\" class=\"dataframe\">\n",
              "  <thead>\n",
              "    <tr style=\"text-align: right;\">\n",
              "      <th>Actual Class</th>\n",
              "      <th>Pet Allowed</th>\n",
              "      <th>Pet Not Allowed</th>\n",
              "      <th>Total Amount</th>\n",
              "    </tr>\n",
              "    <tr>\n",
              "      <th>Predicted Class</th>\n",
              "      <th></th>\n",
              "      <th></th>\n",
              "      <th></th>\n",
              "    </tr>\n",
              "  </thead>\n",
              "  <tbody>\n",
              "    <tr>\n",
              "      <th>Pet Allowed</th>\n",
              "      <td>19895</td>\n",
              "      <td>2486</td>\n",
              "      <td>22381</td>\n",
              "    </tr>\n",
              "    <tr>\n",
              "      <th>Pet Not Allowed</th>\n",
              "      <td>1701</td>\n",
              "      <td>3881</td>\n",
              "      <td>5582</td>\n",
              "    </tr>\n",
              "    <tr>\n",
              "      <th>Total Amount</th>\n",
              "      <td>21596</td>\n",
              "      <td>6367</td>\n",
              "      <td>27963</td>\n",
              "    </tr>\n",
              "  </tbody>\n",
              "</table>\n",
              "</div>"
            ],
            "text/plain": [
              "Actual Class     Pet Allowed  Pet Not Allowed  Total Amount\n",
              "Predicted Class                                            \n",
              "Pet Allowed            19895             2486         22381\n",
              "Pet Not Allowed         1701             3881          5582\n",
              "Total Amount           21596             6367         27963"
            ]
          },
          "metadata": {},
          "execution_count": 10
        }
      ],
      "metadata": {}
    }
  ]
}