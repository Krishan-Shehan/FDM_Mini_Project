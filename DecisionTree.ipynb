{
 "cells": [
  {
   "cell_type": "code",
   "execution_count": 1,
   "source": [
    "import pandas as pd"
   ],
   "outputs": [],
   "metadata": {}
  },
  {
   "cell_type": "code",
   "execution_count": 7,
   "source": [
    "import numpy as np\r\n",
    "from sklearn.metrics import confusion_matrix\r\n",
    "# from sklearn.cross_validation import train_test_split\r\n",
    "from sklearn.tree import DecisionTreeClassifier\r\n",
    "from sklearn.metrics import accuracy_score\r\n",
    "from sklearn.metrics import classification_report"
   ],
   "outputs": [],
   "metadata": {}
  },
  {
   "cell_type": "code",
   "execution_count": 9,
   "source": [
    "from sklearn.model_selection import train_test_split"
   ],
   "outputs": [],
   "metadata": {}
  },
  {
   "cell_type": "code",
   "execution_count": 2,
   "source": [
    "df = pd.read_csv(\"Preprocessed_data.csv\")"
   ],
   "outputs": [],
   "metadata": {}
  },
  {
   "cell_type": "code",
   "execution_count": 5,
   "source": [
    "df.head(1)"
   ],
   "outputs": [
    {
     "output_type": "execute_result",
     "data": {
      "text/html": [
       "<div>\n",
       "<style scoped>\n",
       "    .dataframe tbody tr th:only-of-type {\n",
       "        vertical-align: middle;\n",
       "    }\n",
       "\n",
       "    .dataframe tbody tr th {\n",
       "        vertical-align: top;\n",
       "    }\n",
       "\n",
       "    .dataframe thead th {\n",
       "        text-align: right;\n",
       "    }\n",
       "</style>\n",
       "<table border=\"1\" class=\"dataframe\">\n",
       "  <thead>\n",
       "    <tr style=\"text-align: right;\">\n",
       "      <th></th>\n",
       "      <th>price</th>\n",
       "      <th>type</th>\n",
       "      <th>sqfeet</th>\n",
       "      <th>beds</th>\n",
       "      <th>baths</th>\n",
       "      <th>smoking_allowed</th>\n",
       "      <th>wheelchair_access</th>\n",
       "      <th>electric_vehicle_charge</th>\n",
       "      <th>comes_furnished</th>\n",
       "      <th>laundry_options</th>\n",
       "      <th>parking_options</th>\n",
       "      <th>state</th>\n",
       "      <th>pets_allowed</th>\n",
       "    </tr>\n",
       "  </thead>\n",
       "  <tbody>\n",
       "    <tr>\n",
       "      <th>0</th>\n",
       "      <td>1220</td>\n",
       "      <td>0</td>\n",
       "      <td>1232</td>\n",
       "      <td>2</td>\n",
       "      <td>2</td>\n",
       "      <td>0</td>\n",
       "      <td>0</td>\n",
       "      <td>0</td>\n",
       "      <td>0</td>\n",
       "      <td>3</td>\n",
       "      <td>4</td>\n",
       "      <td>10</td>\n",
       "      <td>1</td>\n",
       "    </tr>\n",
       "  </tbody>\n",
       "</table>\n",
       "</div>"
      ],
      "text/plain": [
       "   price  type  sqfeet  beds  baths  smoking_allowed  wheelchair_access  \\\n",
       "0   1220     0    1232     2      2                0                  0   \n",
       "\n",
       "   electric_vehicle_charge  comes_furnished  laundry_options  parking_options  \\\n",
       "0                        0                0                3                4   \n",
       "\n",
       "   state  pets_allowed  \n",
       "0     10             1  "
      ]
     },
     "metadata": {},
     "execution_count": 5
    }
   ],
   "metadata": {}
  },
  {
   "cell_type": "code",
   "execution_count": 8,
   "source": [
    "df.shape"
   ],
   "outputs": [
    {
     "output_type": "execute_result",
     "data": {
      "text/plain": [
       "(116039, 13)"
      ]
     },
     "metadata": {},
     "execution_count": 8
    }
   ],
   "metadata": {}
  },
  {
   "cell_type": "code",
   "execution_count": 10,
   "source": [
    "X = df.drop(columns =[\"type\"])\r\n",
    "Y = df.values[:, 1]"
   ],
   "outputs": [],
   "metadata": {}
  },
  {
   "cell_type": "code",
   "execution_count": 13,
   "source": [
    "X_train, X_test, y_train, y_test = train_test_split(X, Y, test_size = 0.25, random_state = 100)"
   ],
   "outputs": [],
   "metadata": {}
  },
  {
   "cell_type": "code",
   "execution_count": 14,
   "source": [
    "classifier = DecisionTreeClassifier(criterion = \"gini\",random_state = 100)"
   ],
   "outputs": [],
   "metadata": {}
  },
  {
   "cell_type": "code",
   "execution_count": 15,
   "source": [
    "classifier.fit(X_train, y_train)"
   ],
   "outputs": [
    {
     "output_type": "execute_result",
     "data": {
      "text/plain": [
       "DecisionTreeClassifier(random_state=100)"
      ]
     },
     "metadata": {},
     "execution_count": 15
    }
   ],
   "metadata": {}
  },
  {
   "cell_type": "code",
   "execution_count": 16,
   "source": [
    "y_pred = classifier.predict(X_test)"
   ],
   "outputs": [],
   "metadata": {}
  },
  {
   "cell_type": "code",
   "execution_count": 18,
   "source": [
    "confusion_matrix(y_test, y_pred)"
   ],
   "outputs": [
    {
     "output_type": "execute_result",
     "data": {
      "text/plain": [
       "array([[ 4101,   272,     0,    27],\n",
       "       [  297,  4859,   413,   578],\n",
       "       [    0,   361,  6572,    58],\n",
       "       [   27,   591,    86, 10768]], dtype=int64)"
      ]
     },
     "metadata": {},
     "execution_count": 18
    }
   ],
   "metadata": {}
  },
  {
   "cell_type": "code",
   "execution_count": 19,
   "source": [
    "accuracy_score(y_test,y_pred)*100"
   ],
   "outputs": [
    {
     "output_type": "execute_result",
     "data": {
      "text/plain": [
       "90.65839365735953"
      ]
     },
     "metadata": {},
     "execution_count": 19
    }
   ],
   "metadata": {}
  },
  {
   "cell_type": "code",
   "execution_count": 20,
   "source": [
    "classification_report(y_test, y_pred)"
   ],
   "outputs": [
    {
     "output_type": "execute_result",
     "data": {
      "text/plain": [
       "'              precision    recall  f1-score   support\\n\\n           0       0.93      0.93      0.93      4400\\n           1       0.80      0.79      0.79      6147\\n           2       0.93      0.94      0.93      6991\\n           3       0.94      0.94      0.94     11472\\n\\n    accuracy                           0.91     29010\\n   macro avg       0.90      0.90      0.90     29010\\nweighted avg       0.91      0.91      0.91     29010\\n'"
      ]
     },
     "metadata": {},
     "execution_count": 20
    }
   ],
   "metadata": {}
  },
  {
   "cell_type": "markdown",
   "source": [
    "# For test"
   ],
   "metadata": {}
  },
  {
   "cell_type": "code",
   "execution_count": 28,
   "source": [
    "y_pred"
   ],
   "outputs": [
    {
     "output_type": "execute_result",
     "data": {
      "text/plain": [
       "array([3, 1, 0, ..., 1, 0, 1], dtype=int64)"
      ]
     },
     "metadata": {},
     "execution_count": 28
    }
   ],
   "metadata": {}
  },
  {
   "cell_type": "code",
   "execution_count": 33,
   "source": [
    "df_p = pd.DataFrame({\"Type\": y_pred})"
   ],
   "outputs": [],
   "metadata": {}
  },
  {
   "cell_type": "code",
   "execution_count": 34,
   "source": [
    "newDf=pd.concat([X_test,df_p], axis=1, join='inner')"
   ],
   "outputs": [],
   "metadata": {}
  },
  {
   "cell_type": "code",
   "execution_count": 37,
   "source": [
    "newDf.head(5)"
   ],
   "outputs": [
    {
     "output_type": "execute_result",
     "data": {
      "text/html": [
       "<div>\n",
       "<style scoped>\n",
       "    .dataframe tbody tr th:only-of-type {\n",
       "        vertical-align: middle;\n",
       "    }\n",
       "\n",
       "    .dataframe tbody tr th {\n",
       "        vertical-align: top;\n",
       "    }\n",
       "\n",
       "    .dataframe thead th {\n",
       "        text-align: right;\n",
       "    }\n",
       "</style>\n",
       "<table border=\"1\" class=\"dataframe\">\n",
       "  <thead>\n",
       "    <tr style=\"text-align: right;\">\n",
       "      <th></th>\n",
       "      <th>price</th>\n",
       "      <th>sqfeet</th>\n",
       "      <th>beds</th>\n",
       "      <th>baths</th>\n",
       "      <th>smoking_allowed</th>\n",
       "      <th>wheelchair_access</th>\n",
       "      <th>electric_vehicle_charge</th>\n",
       "      <th>comes_furnished</th>\n",
       "      <th>laundry_options</th>\n",
       "      <th>parking_options</th>\n",
       "      <th>state</th>\n",
       "      <th>pets_allowed</th>\n",
       "      <th>Type</th>\n",
       "    </tr>\n",
       "  </thead>\n",
       "  <tbody>\n",
       "    <tr>\n",
       "      <th>16942</th>\n",
       "      <td>1255</td>\n",
       "      <td>772</td>\n",
       "      <td>2</td>\n",
       "      <td>1</td>\n",
       "      <td>1</td>\n",
       "      <td>0</td>\n",
       "      <td>0</td>\n",
       "      <td>0</td>\n",
       "      <td>4</td>\n",
       "      <td>4</td>\n",
       "      <td>34</td>\n",
       "      <td>1</td>\n",
       "      <td>2</td>\n",
       "    </tr>\n",
       "    <tr>\n",
       "      <th>327</th>\n",
       "      <td>750</td>\n",
       "      <td>900</td>\n",
       "      <td>2</td>\n",
       "      <td>2</td>\n",
       "      <td>1</td>\n",
       "      <td>0</td>\n",
       "      <td>0</td>\n",
       "      <td>0</td>\n",
       "      <td>1</td>\n",
       "      <td>4</td>\n",
       "      <td>32</td>\n",
       "      <td>1</td>\n",
       "      <td>3</td>\n",
       "    </tr>\n",
       "    <tr>\n",
       "      <th>19532</th>\n",
       "      <td>2500</td>\n",
       "      <td>1166</td>\n",
       "      <td>3</td>\n",
       "      <td>2</td>\n",
       "      <td>0</td>\n",
       "      <td>1</td>\n",
       "      <td>0</td>\n",
       "      <td>0</td>\n",
       "      <td>4</td>\n",
       "      <td>5</td>\n",
       "      <td>31</td>\n",
       "      <td>1</td>\n",
       "      <td>2</td>\n",
       "    </tr>\n",
       "    <tr>\n",
       "      <th>11029</th>\n",
       "      <td>1800</td>\n",
       "      <td>602</td>\n",
       "      <td>1</td>\n",
       "      <td>1</td>\n",
       "      <td>0</td>\n",
       "      <td>0</td>\n",
       "      <td>0</td>\n",
       "      <td>0</td>\n",
       "      <td>1</td>\n",
       "      <td>4</td>\n",
       "      <td>19</td>\n",
       "      <td>1</td>\n",
       "      <td>1</td>\n",
       "    </tr>\n",
       "    <tr>\n",
       "      <th>3295</th>\n",
       "      <td>2100</td>\n",
       "      <td>2000</td>\n",
       "      <td>4</td>\n",
       "      <td>2</td>\n",
       "      <td>0</td>\n",
       "      <td>0</td>\n",
       "      <td>0</td>\n",
       "      <td>0</td>\n",
       "      <td>3</td>\n",
       "      <td>0</td>\n",
       "      <td>37</td>\n",
       "      <td>1</td>\n",
       "      <td>0</td>\n",
       "    </tr>\n",
       "  </tbody>\n",
       "</table>\n",
       "</div>"
      ],
      "text/plain": [
       "       price  sqfeet  beds  baths  smoking_allowed  wheelchair_access  \\\n",
       "16942   1255     772     2      1                1                  0   \n",
       "327      750     900     2      2                1                  0   \n",
       "19532   2500    1166     3      2                0                  1   \n",
       "11029   1800     602     1      1                0                  0   \n",
       "3295    2100    2000     4      2                0                  0   \n",
       "\n",
       "       electric_vehicle_charge  comes_furnished  laundry_options  \\\n",
       "16942                        0                0                4   \n",
       "327                          0                0                1   \n",
       "19532                        0                0                4   \n",
       "11029                        0                0                1   \n",
       "3295                         0                0                3   \n",
       "\n",
       "       parking_options  state  pets_allowed  Type  \n",
       "16942                4     34             1     2  \n",
       "327                  4     32             1     3  \n",
       "19532                5     31             1     2  \n",
       "11029                4     19             1     1  \n",
       "3295                 0     37             1     0  "
      ]
     },
     "metadata": {},
     "execution_count": 37
    }
   ],
   "metadata": {}
  },
  {
   "cell_type": "code",
   "execution_count": 40,
   "source": [
    "X_test"
   ],
   "outputs": [
    {
     "output_type": "execute_result",
     "data": {
      "text/html": [
       "<div>\n",
       "<style scoped>\n",
       "    .dataframe tbody tr th:only-of-type {\n",
       "        vertical-align: middle;\n",
       "    }\n",
       "\n",
       "    .dataframe tbody tr th {\n",
       "        vertical-align: top;\n",
       "    }\n",
       "\n",
       "    .dataframe thead th {\n",
       "        text-align: right;\n",
       "    }\n",
       "</style>\n",
       "<table border=\"1\" class=\"dataframe\">\n",
       "  <thead>\n",
       "    <tr style=\"text-align: right;\">\n",
       "      <th></th>\n",
       "      <th>price</th>\n",
       "      <th>sqfeet</th>\n",
       "      <th>beds</th>\n",
       "      <th>baths</th>\n",
       "      <th>smoking_allowed</th>\n",
       "      <th>wheelchair_access</th>\n",
       "      <th>electric_vehicle_charge</th>\n",
       "      <th>comes_furnished</th>\n",
       "      <th>laundry_options</th>\n",
       "      <th>parking_options</th>\n",
       "      <th>state</th>\n",
       "      <th>pets_allowed</th>\n",
       "    </tr>\n",
       "  </thead>\n",
       "  <tbody>\n",
       "    <tr>\n",
       "      <th>34672</th>\n",
       "      <td>1475</td>\n",
       "      <td>817</td>\n",
       "      <td>1</td>\n",
       "      <td>1</td>\n",
       "      <td>0</td>\n",
       "      <td>0</td>\n",
       "      <td>0</td>\n",
       "      <td>0</td>\n",
       "      <td>4</td>\n",
       "      <td>4</td>\n",
       "      <td>31</td>\n",
       "      <td>1</td>\n",
       "    </tr>\n",
       "    <tr>\n",
       "      <th>36697</th>\n",
       "      <td>1049</td>\n",
       "      <td>1344</td>\n",
       "      <td>2</td>\n",
       "      <td>2</td>\n",
       "      <td>1</td>\n",
       "      <td>0</td>\n",
       "      <td>0</td>\n",
       "      <td>0</td>\n",
       "      <td>3</td>\n",
       "      <td>4</td>\n",
       "      <td>22</td>\n",
       "      <td>1</td>\n",
       "    </tr>\n",
       "    <tr>\n",
       "      <th>107971</th>\n",
       "      <td>1020</td>\n",
       "      <td>700</td>\n",
       "      <td>1</td>\n",
       "      <td>1</td>\n",
       "      <td>0</td>\n",
       "      <td>0</td>\n",
       "      <td>0</td>\n",
       "      <td>0</td>\n",
       "      <td>4</td>\n",
       "      <td>4</td>\n",
       "      <td>14</td>\n",
       "      <td>1</td>\n",
       "    </tr>\n",
       "    <tr>\n",
       "      <th>85315</th>\n",
       "      <td>1520</td>\n",
       "      <td>1327</td>\n",
       "      <td>2</td>\n",
       "      <td>2</td>\n",
       "      <td>1</td>\n",
       "      <td>0</td>\n",
       "      <td>0</td>\n",
       "      <td>0</td>\n",
       "      <td>4</td>\n",
       "      <td>4</td>\n",
       "      <td>18</td>\n",
       "      <td>1</td>\n",
       "    </tr>\n",
       "    <tr>\n",
       "      <th>56156</th>\n",
       "      <td>950</td>\n",
       "      <td>1412</td>\n",
       "      <td>3</td>\n",
       "      <td>1</td>\n",
       "      <td>1</td>\n",
       "      <td>1</td>\n",
       "      <td>0</td>\n",
       "      <td>0</td>\n",
       "      <td>4</td>\n",
       "      <td>0</td>\n",
       "      <td>22</td>\n",
       "      <td>1</td>\n",
       "    </tr>\n",
       "    <tr>\n",
       "      <th>...</th>\n",
       "      <td>...</td>\n",
       "      <td>...</td>\n",
       "      <td>...</td>\n",
       "      <td>...</td>\n",
       "      <td>...</td>\n",
       "      <td>...</td>\n",
       "      <td>...</td>\n",
       "      <td>...</td>\n",
       "      <td>...</td>\n",
       "      <td>...</td>\n",
       "      <td>...</td>\n",
       "      <td>...</td>\n",
       "    </tr>\n",
       "    <tr>\n",
       "      <th>6150</th>\n",
       "      <td>864</td>\n",
       "      <td>1258</td>\n",
       "      <td>3</td>\n",
       "      <td>2</td>\n",
       "      <td>1</td>\n",
       "      <td>0</td>\n",
       "      <td>0</td>\n",
       "      <td>0</td>\n",
       "      <td>3</td>\n",
       "      <td>4</td>\n",
       "      <td>10</td>\n",
       "      <td>1</td>\n",
       "    </tr>\n",
       "    <tr>\n",
       "      <th>89658</th>\n",
       "      <td>750</td>\n",
       "      <td>935</td>\n",
       "      <td>2</td>\n",
       "      <td>1</td>\n",
       "      <td>0</td>\n",
       "      <td>1</td>\n",
       "      <td>0</td>\n",
       "      <td>0</td>\n",
       "      <td>4</td>\n",
       "      <td>2</td>\n",
       "      <td>12</td>\n",
       "      <td>1</td>\n",
       "    </tr>\n",
       "    <tr>\n",
       "      <th>85437</th>\n",
       "      <td>1275</td>\n",
       "      <td>1200</td>\n",
       "      <td>2</td>\n",
       "      <td>1</td>\n",
       "      <td>1</td>\n",
       "      <td>0</td>\n",
       "      <td>0</td>\n",
       "      <td>0</td>\n",
       "      <td>4</td>\n",
       "      <td>4</td>\n",
       "      <td>34</td>\n",
       "      <td>1</td>\n",
       "    </tr>\n",
       "    <tr>\n",
       "      <th>30066</th>\n",
       "      <td>1039</td>\n",
       "      <td>1080</td>\n",
       "      <td>2</td>\n",
       "      <td>2</td>\n",
       "      <td>0</td>\n",
       "      <td>0</td>\n",
       "      <td>0</td>\n",
       "      <td>0</td>\n",
       "      <td>3</td>\n",
       "      <td>1</td>\n",
       "      <td>10</td>\n",
       "      <td>1</td>\n",
       "    </tr>\n",
       "    <tr>\n",
       "      <th>36441</th>\n",
       "      <td>1850</td>\n",
       "      <td>2213</td>\n",
       "      <td>4</td>\n",
       "      <td>2</td>\n",
       "      <td>0</td>\n",
       "      <td>0</td>\n",
       "      <td>0</td>\n",
       "      <td>1</td>\n",
       "      <td>0</td>\n",
       "      <td>0</td>\n",
       "      <td>37</td>\n",
       "      <td>0</td>\n",
       "    </tr>\n",
       "  </tbody>\n",
       "</table>\n",
       "<p>29010 rows × 12 columns</p>\n",
       "</div>"
      ],
      "text/plain": [
       "        price  sqfeet  beds  baths  smoking_allowed  wheelchair_access  \\\n",
       "34672    1475     817     1      1                0                  0   \n",
       "36697    1049    1344     2      2                1                  0   \n",
       "107971   1020     700     1      1                0                  0   \n",
       "85315    1520    1327     2      2                1                  0   \n",
       "56156     950    1412     3      1                1                  1   \n",
       "...       ...     ...   ...    ...              ...                ...   \n",
       "6150      864    1258     3      2                1                  0   \n",
       "89658     750     935     2      1                0                  1   \n",
       "85437    1275    1200     2      1                1                  0   \n",
       "30066    1039    1080     2      2                0                  0   \n",
       "36441    1850    2213     4      2                0                  0   \n",
       "\n",
       "        electric_vehicle_charge  comes_furnished  laundry_options  \\\n",
       "34672                         0                0                4   \n",
       "36697                         0                0                3   \n",
       "107971                        0                0                4   \n",
       "85315                         0                0                4   \n",
       "56156                         0                0                4   \n",
       "...                         ...              ...              ...   \n",
       "6150                          0                0                3   \n",
       "89658                         0                0                4   \n",
       "85437                         0                0                4   \n",
       "30066                         0                0                3   \n",
       "36441                         0                1                0   \n",
       "\n",
       "        parking_options  state  pets_allowed  \n",
       "34672                 4     31             1  \n",
       "36697                 4     22             1  \n",
       "107971                4     14             1  \n",
       "85315                 4     18             1  \n",
       "56156                 0     22             1  \n",
       "...                 ...    ...           ...  \n",
       "6150                  4     10             1  \n",
       "89658                 2     12             1  \n",
       "85437                 4     34             1  \n",
       "30066                 1     10             1  \n",
       "36441                 0     37             0  \n",
       "\n",
       "[29010 rows x 12 columns]"
      ]
     },
     "metadata": {},
     "execution_count": 40
    }
   ],
   "metadata": {}
  },
  {
   "cell_type": "markdown",
   "source": [
    "# for later use"
   ],
   "metadata": {}
  },
  {
   "cell_type": "code",
   "execution_count": null,
   "source": [
    "def train_using_DecisionTreeClassifier(X_train,y_train):\r\n",
    "    classifier = DecisionTreeClassifier(criterion = \"gini\",random_state = 100)\r\n",
    "    classifier.fit(X_train,y_train)\r\n",
    "    return classifier\r\n"
   ],
   "outputs": [],
   "metadata": {}
  },
  {
   "cell_type": "code",
   "execution_count": null,
   "source": [
    "def prediction(X_test,Classifier_Type):\r\n",
    "    predict = Classifier_Type.predict(X_test)\r\n",
    "    return predict"
   ],
   "outputs": [],
   "metadata": {}
  },
  {
   "cell_type": "code",
   "execution_count": null,
   "source": [
    "def check_accuracy(y_test,predict):\r\n",
    "    print(\"Confusion Matrix: \",confusion_matrix(y_test, predict))\r\n",
    "    print(\"Accuracy : \",accuracy_score(y_test,predict)*100)\r\n",
    "    print(\"Report : \",classification_report(y_test, predict))"
   ],
   "outputs": [],
   "metadata": {}
  },
  {
   "cell_type": "code",
   "execution_count": null,
   "source": [],
   "outputs": [],
   "metadata": {}
  }
 ],
 "metadata": {
  "orig_nbformat": 4,
  "language_info": {
   "name": "python",
   "version": "3.8.8",
   "mimetype": "text/x-python",
   "codemirror_mode": {
    "name": "ipython",
    "version": 3
   },
   "pygments_lexer": "ipython3",
   "nbconvert_exporter": "python",
   "file_extension": ".py"
  },
  "kernelspec": {
   "name": "python3",
   "display_name": "Python 3.8.8 64-bit ('base': conda)"
  },
  "interpreter": {
   "hash": "b3ba2566441a7c06988d0923437866b63cedc61552a5af99d1f4fb67d367b25f"
  }
 },
 "nbformat": 4,
 "nbformat_minor": 2
}